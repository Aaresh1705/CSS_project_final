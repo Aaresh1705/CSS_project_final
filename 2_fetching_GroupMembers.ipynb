{
 "cells": [
  {
   "cell_type": "code",
   "execution_count": null,
   "id": "5af10eb6",
   "metadata": {},
   "outputs": [],
   "source": [
    "import pandas as pd\n",
    "import numpy as np\n",
    "import requests\n",
    "from bs4 import BeautifulSoup\n",
    "\n",
    "from functions.member_fetch_functions import members_to_df, webscrape_members"
   ]
  },
  {
   "cell_type": "code",
   "execution_count": 3,
   "id": "db9a58a3",
   "metadata": {},
   "outputs": [],
   "source": [
    "df_musicans = pd.read_csv(\"data/musicians.csv\")\n",
    "df_groups = pd.read_csv(\"data/music_groups.csv\")"
   ]
  },
  {
   "cell_type": "code",
   "execution_count": null,
   "id": "4c601ca5",
   "metadata": {},
   "outputs": [],
   "source": [
    "df_groups[\"member\"] = df_groups[\"title\"].apply(members_to_df)"
   ]
  },
  {
   "cell_type": "code",
   "execution_count": 28,
   "id": "1cb54119",
   "metadata": {},
   "outputs": [],
   "source": [
    "empty_member_indices = df_groups[df_groups[\"member\"].apply(lambda x: x == [])].index\n",
    "\n",
    "df_groups.loc[empty_member_indices, \"member\"] = df_groups.loc[empty_member_indices, \"title\"].apply(webscrape_members)"
   ]
  },
  {
   "cell_type": "code",
   "execution_count": 31,
   "id": "99cfb169",
   "metadata": {},
   "outputs": [],
   "source": [
    "df_groups.to_csv(\"data/groups_wMembers_v2.csv\", index=False)"
   ]
  }
 ],
 "metadata": {
  "kernelspec": {
   "display_name": "02467CSS",
   "language": "python",
   "name": "python3"
  },
  "language_info": {
   "codemirror_mode": {
    "name": "ipython",
    "version": 3
   },
   "file_extension": ".py",
   "mimetype": "text/x-python",
   "name": "python",
   "nbconvert_exporter": "python",
   "pygments_lexer": "ipython3",
   "version": "3.11.8"
  }
 },
 "nbformat": 4,
 "nbformat_minor": 5
}
