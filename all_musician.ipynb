{
 "cells": [
  {
   "cell_type": "code",
   "execution_count": 30,
   "id": "66e3cbad",
   "metadata": {},
   "outputs": [],
   "source": [
    "import numpy as np\n",
    "import pandas as pd\n",
    "import ast\n",
    "import re\n",
    "from itertools import chain\n",
    "\n",
    "df_groups = pd.read_csv(\"data/groups_wMembers.csv\")\n",
    "df_groups[\"cleaned_member\"] = df_groups[\"cleaned_member\"].apply(ast.literal_eval)\n",
    "\n",
    "df_musicians = pd.read_csv(\"data/musicians.csv\")"
   ]
  },
  {
   "cell_type": "code",
   "execution_count": 31,
   "id": "b374a22c",
   "metadata": {},
   "outputs": [],
   "source": [
    "members = list(chain.from_iterable(df_groups[\"cleaned_member\"]))\n",
    "musicians = list(df_musicians[\"title\"].values)"
   ]
  },
  {
   "cell_type": "code",
   "execution_count": 32,
   "id": "065b8f38",
   "metadata": {},
   "outputs": [
    {
     "data": {
      "text/plain": [
       "4017"
      ]
     },
     "execution_count": 32,
     "metadata": {},
     "output_type": "execute_result"
    }
   ],
   "source": [
    "all_musicians = musicians + members\n",
    "all_musicians = np.unique(np.asarray(all_musicians))\n",
    "\n",
    "len(all_musicians)"
   ]
  },
  {
   "cell_type": "code",
   "execution_count": 43,
   "id": "207ab95c",
   "metadata": {},
   "outputs": [],
   "source": [
    "df_all = pd.DataFrame(all_musicians)\n",
    "df_all.columns = ['name']\n",
    "\n",
    "df_all.to_csv(\"data/musicians_wMembers.csv\", index=False)\n"
   ]
  }
 ],
 "metadata": {
  "kernelspec": {
   "display_name": "02467CSS",
   "language": "python",
   "name": "python3"
  },
  "language_info": {
   "codemirror_mode": {
    "name": "ipython",
    "version": 3
   },
   "file_extension": ".py",
   "mimetype": "text/x-python",
   "name": "python",
   "nbconvert_exporter": "python",
   "pygments_lexer": "ipython3",
   "version": "3.11.8"
  }
 },
 "nbformat": 4,
 "nbformat_minor": 5
}
