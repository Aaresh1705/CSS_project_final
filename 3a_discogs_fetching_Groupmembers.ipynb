{
 "cells": [
  {
   "cell_type": "code",
   "execution_count": 136,
   "id": "d31f4e73",
   "metadata": {},
   "outputs": [],
   "source": [
    "#download python3-discogs-client\n",
    "import discogs_client\n",
    "import pandas as pd\n",
    "import ast\n",
    "import numpy as np"
   ]
  },
  {
   "cell_type": "code",
   "execution_count": 2,
   "id": "4e6edd9a",
   "metadata": {},
   "outputs": [],
   "source": [
    "consumer_key = 'ykUodTXeeVzqTJkACRzX'\n",
    "consumer_secret = 'fOWGGoeHRESxkDPVoPFQKJBaTtDrFFRn'\n",
    "\n",
    "d = discogs_client.Client('CSS_memberfetch/1.0', consumer_key=consumer_key, consumer_secret=consumer_secret)\n",
    "\n",
    "# Generate the authorize URL\n",
    "request_token, request_token_secret, authorize_url = d.get_authorize_url()"
   ]
  },
  {
   "cell_type": "code",
   "execution_count": 3,
   "id": "d8c4f481",
   "metadata": {},
   "outputs": [
    {
     "data": {
      "text/plain": [
       "'https://www.discogs.com/oauth/authorize?oauth_token=JXyiWdJnszJmjEpTtMWryelTKsDjDUGtEwpJGRgS'"
      ]
     },
     "execution_count": 3,
     "metadata": {},
     "output_type": "execute_result"
    }
   ],
   "source": [
    "authorize_url"
   ]
  },
  {
   "cell_type": "code",
   "execution_count": null,
   "id": "974c681e",
   "metadata": {},
   "outputs": [],
   "source": [
    "\"\"\"# After authorization, Discogs will give you a verifier code\n",
    "verifier = 'HeusuFoaGA'\n",
    "# Get the access token\n",
    "access_token, access_token_secret = d.get_access_token(verifier)\n",
    "#lad vær med at køre det her mere end 1 gang, så får man fejl.\"\"\""
   ]
  },
  {
   "cell_type": "code",
   "execution_count": 5,
   "id": "b1adcd6f",
   "metadata": {},
   "outputs": [],
   "source": [
    "d.set_token(access_token, access_token_secret)"
   ]
  },
  {
   "cell_type": "code",
   "execution_count": 18,
   "id": "1cf85376",
   "metadata": {},
   "outputs": [],
   "source": [
    "def get_discogs_members(band_name):\n",
    "    \n",
    "    if band_name[-7:]==\" (band)\": # to avoid (band) ending for messing up search results\n",
    "        band_name = band_name[:-7]\n",
    "    \n",
    "    results = d.search(band_name, type='artist') \n",
    "    if len(results)>0:\n",
    "        i = 0\n",
    "        while i < len(results):\n",
    "            artist = results[i]\n",
    "            if artist.name.lower() in band_name.lower():\n",
    "                break\n",
    "            i += 1\n",
    "        \n",
    "        if i != len(results):\n",
    "            try:\n",
    "                if hasattr(artist, 'members'):\n",
    "                    return [member.name for member in artist.members]\n",
    "            except discogs_client.exceptions.HTTPError as e:\n",
    "                pass\n",
    "    return []\n",
    "    "
   ]
  },
  {
   "cell_type": "code",
   "execution_count": null,
   "id": "b62374b8",
   "metadata": {},
   "outputs": [],
   "source": [
    "# problem: nogle gange står navnene i profile afsnit"
   ]
  },
  {
   "cell_type": "code",
   "execution_count": 92,
   "id": "8e7656d4",
   "metadata": {},
   "outputs": [],
   "source": [
    "df_groups = pd.read_csv(\"data/wip/groups_wMembers.csv\")\n",
    "df_discgroups = pd.read_csv(\"data/wip/groups_wMembers2.csv\")\n",
    "df_groups = df_groups.drop(\"member\", axis = 1)"
   ]
  },
  {
   "cell_type": "markdown",
   "id": "fda8ccb8",
   "metadata": {},
   "source": [
    "### New fetch of the members where wiki-scraping only returned 1 member"
   ]
  },
  {
   "cell_type": "code",
   "execution_count": 99,
   "id": "ff360812",
   "metadata": {},
   "outputs": [],
   "source": [
    "df_discgroups[\"disc_members\"] = [[] for _ in range(len(df_discgroups))]"
   ]
  },
  {
   "cell_type": "code",
   "execution_count": 100,
   "id": "6e32d09b",
   "metadata": {},
   "outputs": [
    {
     "data": {
      "text/html": [
       "<div>\n",
       "<style scoped>\n",
       "    .dataframe tbody tr th:only-of-type {\n",
       "        vertical-align: middle;\n",
       "    }\n",
       "\n",
       "    .dataframe tbody tr th {\n",
       "        vertical-align: top;\n",
       "    }\n",
       "\n",
       "    .dataframe thead th {\n",
       "        text-align: right;\n",
       "    }\n",
       "</style>\n",
       "<table border=\"1\" class=\"dataframe\">\n",
       "  <thead>\n",
       "    <tr style=\"text-align: right;\">\n",
       "      <th></th>\n",
       "      <th>pageid</th>\n",
       "      <th>title</th>\n",
       "      <th>cleaned_member</th>\n",
       "      <th>disc_members</th>\n",
       "    </tr>\n",
       "  </thead>\n",
       "  <tbody>\n",
       "    <tr>\n",
       "      <th>0</th>\n",
       "      <td>489818</td>\n",
       "      <td>A Friend in London</td>\n",
       "      <td>['Tim Schou']</td>\n",
       "      <td>[]</td>\n",
       "    </tr>\n",
       "    <tr>\n",
       "      <th>1</th>\n",
       "      <td>157530</td>\n",
       "      <td>Ache</td>\n",
       "      <td>['Per Wium', 'Peter Mellin', 'Finn Olafsson', ...</td>\n",
       "      <td>[]</td>\n",
       "    </tr>\n",
       "    <tr>\n",
       "      <th>2</th>\n",
       "      <td>255559</td>\n",
       "      <td>ADS (band)</td>\n",
       "      <td>['Michael Funder Thorlasius', 'Stig Pedersen',...</td>\n",
       "      <td>[]</td>\n",
       "    </tr>\n",
       "    <tr>\n",
       "      <th>3</th>\n",
       "      <td>976777</td>\n",
       "      <td>Agathorn</td>\n",
       "      <td>[]</td>\n",
       "      <td>[]</td>\n",
       "    </tr>\n",
       "    <tr>\n",
       "      <th>4</th>\n",
       "      <td>493993</td>\n",
       "      <td>Alabama Black Snakes</td>\n",
       "      <td>['Jonas Jessen', 'Hank Lee Tuffer', 'Mads Øste...</td>\n",
       "      <td>[]</td>\n",
       "    </tr>\n",
       "    <tr>\n",
       "      <th>...</th>\n",
       "      <td>...</td>\n",
       "      <td>...</td>\n",
       "      <td>...</td>\n",
       "      <td>...</td>\n",
       "    </tr>\n",
       "    <tr>\n",
       "      <th>1029</th>\n",
       "      <td>37360</td>\n",
       "      <td>Odense Symfoniorkester</td>\n",
       "      <td>['Bjarne Hansen', 'Ulrike Kipp', 'Michaela Fuk...</td>\n",
       "      <td>[]</td>\n",
       "    </tr>\n",
       "    <tr>\n",
       "      <th>1030</th>\n",
       "      <td>162784</td>\n",
       "      <td>Sjællands Symfoniorkester</td>\n",
       "      <td>['Ole Böhn', 'Harry Gram-Jensen', 'Fritz O. Ja...</td>\n",
       "      <td>[]</td>\n",
       "    </tr>\n",
       "    <tr>\n",
       "      <th>1031</th>\n",
       "      <td>10733</td>\n",
       "      <td>Sønderjyllands Symfoniorkester</td>\n",
       "      <td>['Anne Augustinsson', 'Jesper Hindø', 'Nikolai...</td>\n",
       "      <td>[]</td>\n",
       "    </tr>\n",
       "    <tr>\n",
       "      <th>1032</th>\n",
       "      <td>369172</td>\n",
       "      <td>Aalborg Symfoniorkester</td>\n",
       "      <td>['Marius Ungureanu', 'Ib Dirkov', 'Moshe Atzmo...</td>\n",
       "      <td>[]</td>\n",
       "    </tr>\n",
       "    <tr>\n",
       "      <th>1033</th>\n",
       "      <td>373862</td>\n",
       "      <td>Aarhus Symfoniorkester</td>\n",
       "      <td>['Eugene Hye-Knudsen', 'Marc Soustrot', 'Svend...</td>\n",
       "      <td>[]</td>\n",
       "    </tr>\n",
       "  </tbody>\n",
       "</table>\n",
       "<p>1034 rows × 4 columns</p>\n",
       "</div>"
      ],
      "text/plain": [
       "      pageid                           title  \\\n",
       "0     489818              A Friend in London   \n",
       "1     157530                            Ache   \n",
       "2     255559                      ADS (band)   \n",
       "3     976777                        Agathorn   \n",
       "4     493993            Alabama Black Snakes   \n",
       "...      ...                             ...   \n",
       "1029   37360          Odense Symfoniorkester   \n",
       "1030  162784       Sjællands Symfoniorkester   \n",
       "1031   10733  Sønderjyllands Symfoniorkester   \n",
       "1032  369172         Aalborg Symfoniorkester   \n",
       "1033  373862          Aarhus Symfoniorkester   \n",
       "\n",
       "                                         cleaned_member disc_members  \n",
       "0                                         ['Tim Schou']           []  \n",
       "1     ['Per Wium', 'Peter Mellin', 'Finn Olafsson', ...           []  \n",
       "2     ['Michael Funder Thorlasius', 'Stig Pedersen',...           []  \n",
       "3                                                    []           []  \n",
       "4     ['Jonas Jessen', 'Hank Lee Tuffer', 'Mads Øste...           []  \n",
       "...                                                 ...          ...  \n",
       "1029  ['Bjarne Hansen', 'Ulrike Kipp', 'Michaela Fuk...           []  \n",
       "1030  ['Ole Böhn', 'Harry Gram-Jensen', 'Fritz O. Ja...           []  \n",
       "1031  ['Anne Augustinsson', 'Jesper Hindø', 'Nikolai...           []  \n",
       "1032  ['Marius Ungureanu', 'Ib Dirkov', 'Moshe Atzmo...           []  \n",
       "1033  ['Eugene Hye-Knudsen', 'Marc Soustrot', 'Svend...           []  \n",
       "\n",
       "[1034 rows x 4 columns]"
      ]
     },
     "execution_count": 100,
     "metadata": {},
     "output_type": "execute_result"
    }
   ],
   "source": [
    "df_discgroups"
   ]
  },
  {
   "cell_type": "code",
   "execution_count": 57,
   "id": "7557439f",
   "metadata": {},
   "outputs": [],
   "source": [
    "# getting indexs of relevant rows\n",
    "missing_members = df_discgroups[df_discgroups[\"cleaned_member\"].apply(lambda x: len(ast.literal_eval(x))<=1)].index\n",
    "wiki_indices = df_groups[df_groups[\"cleaned_member\"].apply(lambda x: x != \"[]\")].index\n",
    "members_to_check = [i for i in missing_members if i in wiki_indices]"
   ]
  },
  {
   "cell_type": "code",
   "execution_count": 101,
   "id": "043087e0",
   "metadata": {},
   "outputs": [],
   "source": [
    "df_discgroups.loc[members_to_check, 'disc_members'] = df_discgroups.loc[members_to_check, 'title'].apply(get_discogs_members)"
   ]
  },
  {
   "cell_type": "code",
   "execution_count": 148,
   "id": "a5c11f05",
   "metadata": {},
   "outputs": [],
   "source": [
    "df_discgroups[\"all_members\"] = df_discgroups.apply(lambda row: np.unique(ast.literal_eval(row[\"cleaned_member\"]) + (row[\"disc_members\"])), axis = 1)"
   ]
  },
  {
   "cell_type": "code",
   "execution_count": 165,
   "id": "dbf6c741",
   "metadata": {},
   "outputs": [],
   "source": [
    "df_discgroups[\"all_members\"] = df_discgroups[\"all_members\"].apply(lambda memberlist: [str(member) for member in memberlist])"
   ]
  },
  {
   "cell_type": "code",
   "execution_count": 166,
   "id": "8305de2c",
   "metadata": {},
   "outputs": [
    {
     "data": {
      "text/html": [
       "<div>\n",
       "<style scoped>\n",
       "    .dataframe tbody tr th:only-of-type {\n",
       "        vertical-align: middle;\n",
       "    }\n",
       "\n",
       "    .dataframe tbody tr th {\n",
       "        vertical-align: top;\n",
       "    }\n",
       "\n",
       "    .dataframe thead th {\n",
       "        text-align: right;\n",
       "    }\n",
       "</style>\n",
       "<table border=\"1\" class=\"dataframe\">\n",
       "  <thead>\n",
       "    <tr style=\"text-align: right;\">\n",
       "      <th></th>\n",
       "      <th>pageid</th>\n",
       "      <th>title</th>\n",
       "      <th>cleaned_member</th>\n",
       "      <th>disc_members</th>\n",
       "      <th>all_members</th>\n",
       "    </tr>\n",
       "  </thead>\n",
       "  <tbody>\n",
       "    <tr>\n",
       "      <th>0</th>\n",
       "      <td>489818</td>\n",
       "      <td>A Friend in London</td>\n",
       "      <td>['Tim Schou']</td>\n",
       "      <td>[Tim Schou, Esben Svane, Aske Damm Bramming, S...</td>\n",
       "      <td>[Aske Damm Bramming, Esben Svane, Sebastian Vi...</td>\n",
       "    </tr>\n",
       "    <tr>\n",
       "      <th>1</th>\n",
       "      <td>157530</td>\n",
       "      <td>Ache</td>\n",
       "      <td>['Per Wium', 'Peter Mellin', 'Finn Olafsson', ...</td>\n",
       "      <td>[]</td>\n",
       "      <td>[Finn Olafsson, Per Wium, Peter Mellin, Steen ...</td>\n",
       "    </tr>\n",
       "    <tr>\n",
       "      <th>2</th>\n",
       "      <td>255559</td>\n",
       "      <td>ADS (band)</td>\n",
       "      <td>['Michael Funder Thorlasius', 'Stig Pedersen',...</td>\n",
       "      <td>[]</td>\n",
       "      <td>[Karsten Hjarsø, Lars Top-Galia, Martin Krogh,...</td>\n",
       "    </tr>\n",
       "    <tr>\n",
       "      <th>3</th>\n",
       "      <td>976777</td>\n",
       "      <td>Agathorn</td>\n",
       "      <td>[]</td>\n",
       "      <td>[]</td>\n",
       "      <td>[]</td>\n",
       "    </tr>\n",
       "    <tr>\n",
       "      <th>4</th>\n",
       "      <td>493993</td>\n",
       "      <td>Alabama Black Snakes</td>\n",
       "      <td>['Jonas Jessen', 'Hank Lee Tuffer', 'Mads Øste...</td>\n",
       "      <td>[]</td>\n",
       "      <td>[Gustav Pontoppidan, Hank Lee Tuffer, Jonas Je...</td>\n",
       "    </tr>\n",
       "    <tr>\n",
       "      <th>...</th>\n",
       "      <td>...</td>\n",
       "      <td>...</td>\n",
       "      <td>...</td>\n",
       "      <td>...</td>\n",
       "      <td>...</td>\n",
       "    </tr>\n",
       "    <tr>\n",
       "      <th>1029</th>\n",
       "      <td>37360</td>\n",
       "      <td>Odense Symfoniorkester</td>\n",
       "      <td>['Bjarne Hansen', 'Ulrike Kipp', 'Michaela Fuk...</td>\n",
       "      <td>[]</td>\n",
       "      <td>[Alf Vestergaard, Anca Bold, Angelika Wagner, ...</td>\n",
       "    </tr>\n",
       "    <tr>\n",
       "      <th>1030</th>\n",
       "      <td>162784</td>\n",
       "      <td>Sjællands Symfoniorkester</td>\n",
       "      <td>['Ole Böhn', 'Harry Gram-Jensen', 'Fritz O. Ja...</td>\n",
       "      <td>[]</td>\n",
       "      <td>[Fritz O. Jacobsen, Harry Gram-Jensen, Ilse O....</td>\n",
       "    </tr>\n",
       "    <tr>\n",
       "      <th>1031</th>\n",
       "      <td>10733</td>\n",
       "      <td>Sønderjyllands Symfoniorkester</td>\n",
       "      <td>['Anne Augustinsson', 'Jesper Hindø', 'Nikolai...</td>\n",
       "      <td>[]</td>\n",
       "      <td>[Anne Augustinsson, Brian Quist Jørgensen, Hen...</td>\n",
       "    </tr>\n",
       "    <tr>\n",
       "      <th>1032</th>\n",
       "      <td>369172</td>\n",
       "      <td>Aalborg Symfoniorkester</td>\n",
       "      <td>['Marius Ungureanu', 'Ib Dirkov', 'Moshe Atzmo...</td>\n",
       "      <td>[]</td>\n",
       "      <td>[Bettina Ejlerts Jensen, Bo Juel Christiansen,...</td>\n",
       "    </tr>\n",
       "    <tr>\n",
       "      <th>1033</th>\n",
       "      <td>373862</td>\n",
       "      <td>Aarhus Symfoniorkester</td>\n",
       "      <td>['Eugene Hye-Knudsen', 'Marc Soustrot', 'Svend...</td>\n",
       "      <td>[]</td>\n",
       "      <td>[Ananna Lützhøft, Anders Larsen (2), Anika Tel...</td>\n",
       "    </tr>\n",
       "  </tbody>\n",
       "</table>\n",
       "<p>1034 rows × 5 columns</p>\n",
       "</div>"
      ],
      "text/plain": [
       "      pageid                           title  \\\n",
       "0     489818              A Friend in London   \n",
       "1     157530                            Ache   \n",
       "2     255559                      ADS (band)   \n",
       "3     976777                        Agathorn   \n",
       "4     493993            Alabama Black Snakes   \n",
       "...      ...                             ...   \n",
       "1029   37360          Odense Symfoniorkester   \n",
       "1030  162784       Sjællands Symfoniorkester   \n",
       "1031   10733  Sønderjyllands Symfoniorkester   \n",
       "1032  369172         Aalborg Symfoniorkester   \n",
       "1033  373862          Aarhus Symfoniorkester   \n",
       "\n",
       "                                         cleaned_member  \\\n",
       "0                                         ['Tim Schou']   \n",
       "1     ['Per Wium', 'Peter Mellin', 'Finn Olafsson', ...   \n",
       "2     ['Michael Funder Thorlasius', 'Stig Pedersen',...   \n",
       "3                                                    []   \n",
       "4     ['Jonas Jessen', 'Hank Lee Tuffer', 'Mads Øste...   \n",
       "...                                                 ...   \n",
       "1029  ['Bjarne Hansen', 'Ulrike Kipp', 'Michaela Fuk...   \n",
       "1030  ['Ole Böhn', 'Harry Gram-Jensen', 'Fritz O. Ja...   \n",
       "1031  ['Anne Augustinsson', 'Jesper Hindø', 'Nikolai...   \n",
       "1032  ['Marius Ungureanu', 'Ib Dirkov', 'Moshe Atzmo...   \n",
       "1033  ['Eugene Hye-Knudsen', 'Marc Soustrot', 'Svend...   \n",
       "\n",
       "                                           disc_members  \\\n",
       "0     [Tim Schou, Esben Svane, Aske Damm Bramming, S...   \n",
       "1                                                    []   \n",
       "2                                                    []   \n",
       "3                                                    []   \n",
       "4                                                    []   \n",
       "...                                                 ...   \n",
       "1029                                                 []   \n",
       "1030                                                 []   \n",
       "1031                                                 []   \n",
       "1032                                                 []   \n",
       "1033                                                 []   \n",
       "\n",
       "                                            all_members  \n",
       "0     [Aske Damm Bramming, Esben Svane, Sebastian Vi...  \n",
       "1     [Finn Olafsson, Per Wium, Peter Mellin, Steen ...  \n",
       "2     [Karsten Hjarsø, Lars Top-Galia, Martin Krogh,...  \n",
       "3                                                    []  \n",
       "4     [Gustav Pontoppidan, Hank Lee Tuffer, Jonas Je...  \n",
       "...                                                 ...  \n",
       "1029  [Alf Vestergaard, Anca Bold, Angelika Wagner, ...  \n",
       "1030  [Fritz O. Jacobsen, Harry Gram-Jensen, Ilse O....  \n",
       "1031  [Anne Augustinsson, Brian Quist Jørgensen, Hen...  \n",
       "1032  [Bettina Ejlerts Jensen, Bo Juel Christiansen,...  \n",
       "1033  [Ananna Lützhøft, Anders Larsen (2), Anika Tel...  \n",
       "\n",
       "[1034 rows x 5 columns]"
      ]
     },
     "execution_count": 166,
     "metadata": {},
     "output_type": "execute_result"
    }
   ],
   "source": [
    "df_discgroups"
   ]
  },
  {
   "cell_type": "code",
   "execution_count": 167,
   "id": "a8f2f55d",
   "metadata": {},
   "outputs": [],
   "source": [
    "df_discgroups.to_csv(\"data/groups_wMembers3.csv\", index=False)"
   ]
  },
  {
   "cell_type": "markdown",
   "id": "78ff9b84",
   "metadata": {},
   "source": [
    "### Original fetch of discogs members \n",
    "(the ones who didnt have any results from wikipedia)"
   ]
  },
  {
   "cell_type": "code",
   "execution_count": null,
   "id": "a7bc1281",
   "metadata": {},
   "outputs": [
    {
     "name": "stdout",
     "output_type": "stream",
     "text": [
      "Index([], dtype='int64')\n"
     ]
    }
   ],
   "source": [
    "empty_member_indices = df_groups[df_groups[\"cleaned_member\"].apply(lambda x: x == \"[]\")].index\n",
    "df_groups.loc[empty_member_indices, 'cleaned_member']= df_groups.loc[empty_member_indices, 'title'].apply(get_discogs_members)"
   ]
  },
  {
   "cell_type": "code",
   "execution_count": null,
   "id": "4a9aff42",
   "metadata": {},
   "outputs": [],
   "source": [
    "# df_groups.to_csv(\"data/groups_wMembers2.csv\", index=False)"
   ]
  },
  {
   "cell_type": "code",
   "execution_count": null,
   "id": "2e1fb902",
   "metadata": {},
   "outputs": [],
   "source": [
    "# problem: nogle gange er der flere bands med samme navn på discogs (fx the fashion). \n",
    "# hvis ikke det danske band er det først, så er det svært at gøre noget ved det"
   ]
  },
  {
   "cell_type": "code",
   "execution_count": null,
   "id": "8e380bf4",
   "metadata": {},
   "outputs": [],
   "source": [
    "### problem: discogs har et tal efter personer hvis der er flere med samme navn\n",
    "# ikke et problemm internt, men hvis det sakl sammenlignes med wiki går det galt\n",
    "# måske kan vi bare fjerne det og håbe der ikke er flere med samme navn der optræder."
   ]
  }
 ],
 "metadata": {
  "kernelspec": {
   "display_name": "ComputationalSocialScience",
   "language": "python",
   "name": "python3"
  },
  "language_info": {
   "codemirror_mode": {
    "name": "ipython",
    "version": 3
   },
   "file_extension": ".py",
   "mimetype": "text/x-python",
   "name": "python",
   "nbconvert_exporter": "python",
   "pygments_lexer": "ipython3",
   "version": "3.11.11"
  }
 },
 "nbformat": 4,
 "nbformat_minor": 5
}
