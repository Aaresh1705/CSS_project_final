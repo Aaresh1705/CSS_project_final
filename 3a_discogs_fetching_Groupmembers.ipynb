{
 "cells": [
  {
   "cell_type": "code",
   "execution_count": 2,
   "id": "d31f4e73",
   "metadata": {},
   "outputs": [],
   "source": [
    "#download python3-discogs-client\n",
    "import discogs_client\n",
    "import pandas as pd"
   ]
  },
  {
   "cell_type": "code",
   "execution_count": 74,
   "id": "4e6edd9a",
   "metadata": {},
   "outputs": [],
   "source": [
    "consumer_key = 'ykUodTXeeVzqTJkACRzX'\n",
    "consumer_secret = 'fOWGGoeHRESxkDPVoPFQKJBaTtDrFFRn'\n",
    "\n",
    "d = discogs_client.Client('CSS_memberfetch/1.0', consumer_key=consumer_key, consumer_secret=consumer_secret)\n",
    "\n",
    "# Generate the authorize URL\n",
    "request_token, request_token_secret, authorize_url = d.get_authorize_url()"
   ]
  },
  {
   "cell_type": "code",
   "execution_count": 75,
   "id": "d8c4f481",
   "metadata": {},
   "outputs": [
    {
     "data": {
      "text/plain": [
       "'https://www.discogs.com/oauth/authorize?oauth_token=gRNZiTzxHsbZluYqrahXDPIRKBbHPMsEGPlfuYgE'"
      ]
     },
     "execution_count": 75,
     "metadata": {},
     "output_type": "execute_result"
    }
   ],
   "source": [
    "authorize_url"
   ]
  },
  {
   "cell_type": "code",
   "execution_count": null,
   "id": "974c681e",
   "metadata": {},
   "outputs": [
    {
     "ename": "HTTPError",
     "evalue": "401: Invalid response from access token URL.",
     "output_type": "error",
     "traceback": [
      "\u001b[1;31m---------------------------------------------------------------------------\u001b[0m",
      "\u001b[1;31mHTTPError\u001b[0m                                 Traceback (most recent call last)",
      "Cell \u001b[1;32mIn[77], line 4\u001b[0m\n\u001b[0;32m      2\u001b[0m verifier \u001b[38;5;241m=\u001b[39m \u001b[38;5;124m'\u001b[39m\u001b[38;5;124mVfCCikOYJZ\u001b[39m\u001b[38;5;124m'\u001b[39m\n\u001b[0;32m      3\u001b[0m \u001b[38;5;66;03m# Get the access token\u001b[39;00m\n\u001b[1;32m----> 4\u001b[0m access_token, access_token_secret \u001b[38;5;241m=\u001b[39m \u001b[43md\u001b[49m\u001b[38;5;241;43m.\u001b[39;49m\u001b[43mget_access_token\u001b[49m\u001b[43m(\u001b[49m\u001b[43mverifier\u001b[49m\u001b[43m)\u001b[49m\n\u001b[0;32m      5\u001b[0m d\u001b[38;5;241m.\u001b[39mset_token(access_token, access_token_secret)\n",
      "File \u001b[1;32mc:\\Users\\katin\\Miniconda3\\envs\\ComputationalSocialScience\\Lib\\site-packages\\discogs_client\\client.py:77\u001b[0m, in \u001b[0;36mClient.get_access_token\u001b[1;34m(self, verifier)\u001b[0m\n\u001b[0;32m     75\u001b[0m content, status_code \u001b[38;5;241m=\u001b[39m \u001b[38;5;28mself\u001b[39m\u001b[38;5;241m.\u001b[39m_fetcher\u001b[38;5;241m.\u001b[39mfetch(\u001b[38;5;28mself\u001b[39m, \u001b[38;5;124m'\u001b[39m\u001b[38;5;124mPOST\u001b[39m\u001b[38;5;124m'\u001b[39m, \u001b[38;5;28mself\u001b[39m\u001b[38;5;241m.\u001b[39m_access_token_url, headers\u001b[38;5;241m=\u001b[39mparams)\n\u001b[0;32m     76\u001b[0m \u001b[38;5;28;01mif\u001b[39;00m status_code \u001b[38;5;241m!=\u001b[39m \u001b[38;5;241m200\u001b[39m:\n\u001b[1;32m---> 77\u001b[0m     \u001b[38;5;28;01mraise\u001b[39;00m HTTPError(\u001b[38;5;124m'\u001b[39m\u001b[38;5;124mInvalid response from access token URL.\u001b[39m\u001b[38;5;124m'\u001b[39m, status_code)\n\u001b[0;32m     79\u001b[0m token, secret \u001b[38;5;241m=\u001b[39m \u001b[38;5;28mself\u001b[39m\u001b[38;5;241m.\u001b[39m_fetcher\u001b[38;5;241m.\u001b[39mstore_token_from_qs(content)\n\u001b[0;32m     81\u001b[0m \u001b[38;5;28;01mreturn\u001b[39;00m token, secret\n",
      "\u001b[1;31mHTTPError\u001b[0m: 401: Invalid response from access token URL."
     ]
    }
   ],
   "source": [
    "# After authorization, Discogs will give you a verifier code\n",
    "verifier = 'VfCCikOYJZ'\n",
    "# Get the access token\n",
    "access_token, access_token_secret = d.get_access_token(verifier)\n",
    "#lad vær med at køre det her mere end 1 gang, så får man fejl."
   ]
  },
  {
   "cell_type": "code",
   "execution_count": 78,
   "id": "b1adcd6f",
   "metadata": {},
   "outputs": [],
   "source": [
    "d.set_token(access_token, access_token_secret)"
   ]
  },
  {
   "cell_type": "code",
   "execution_count": null,
   "id": "ee34eda3",
   "metadata": {},
   "outputs": [],
   "source": [
    "#token = \"IhdTmHAHnVrjBojtrkYDREYHBTUEBozoQwcpNknH\"\n",
    "#d = discogs_client.Client('Memberfetch/1.0', user_token=token)"
   ]
  },
  {
   "cell_type": "code",
   "execution_count": null,
   "id": "1cf85376",
   "metadata": {},
   "outputs": [],
   "source": [
    "def get_discogs_members(band_name):\n",
    "    \n",
    "    if band_name[-7:]==\" (band)\": # to avoid (band) ending for messing up search results\n",
    "        band_name = band_name[:-7]\n",
    "    \n",
    "    results = d.search(band_name, type='artist') \n",
    "    if len(results)>0:\n",
    "        i = 0\n",
    "        while i < len(results):\n",
    "            artist = results[i]\n",
    "            if band_name.lower() in artist.name.lower():\n",
    "                break\n",
    "            i += 1\n",
    "        \n",
    "        if i != len(results):\n",
    "            try:\n",
    "                if hasattr(artist, 'members'):\n",
    "                    return [member.name for member in artist.members]\n",
    "            except discogs_client.exceptions.HTTPError as e:\n",
    "                pass\n",
    "    return []\n",
    "    "
   ]
  },
  {
   "cell_type": "code",
   "execution_count": 178,
   "id": "32c6e417",
   "metadata": {},
   "outputs": [
    {
     "data": {
      "text/plain": [
       "['Jonas Jessen',\n",
       " 'Hank Lee Tuffer',\n",
       " 'Mads Østergaard (2)',\n",
       " 'Gustav Pontoppidan',\n",
       " 'Rasmus Christian Larsen']"
      ]
     },
     "execution_count": 178,
     "metadata": {},
     "output_type": "execute_result"
    }
   ],
   "source": [
    "get_discogs_members(\"Alabama Black Snakes\")"
   ]
  },
  {
   "cell_type": "code",
   "execution_count": null,
   "id": "b62374b8",
   "metadata": {},
   "outputs": [],
   "source": [
    "# problem: nogle gange står navnene i profile afsnit"
   ]
  },
  {
   "cell_type": "code",
   "execution_count": 59,
   "id": "8e7656d4",
   "metadata": {},
   "outputs": [],
   "source": [
    "df_groups = pd.read_csv(\"data/groups_wMembers.csv\")\n",
    "df_groups = df_groups.drop(\"member\", axis = 1)"
   ]
  },
  {
   "cell_type": "code",
   "execution_count": 185,
   "id": "a7bc1281",
   "metadata": {},
   "outputs": [
    {
     "name": "stdout",
     "output_type": "stream",
     "text": [
      "Index([], dtype='int64')\n"
     ]
    }
   ],
   "source": [
    "empty_member_indices = df_groups[df_groups[\"cleaned_member\"].apply(lambda x: x == \"[]\")].index\n",
    "print(empty_member_indices)\n",
    "df_groups.loc[empty_member_indices, 'cleaned_member']= df_groups.loc[empty_member_indices, 'title'].apply(get_discogs_members)"
   ]
  },
  {
   "cell_type": "code",
   "execution_count": 187,
   "id": "4a9aff42",
   "metadata": {},
   "outputs": [],
   "source": [
    "df_groups.to_csv(\"data/groups_wMembers2.csv\", index=False)"
   ]
  },
  {
   "cell_type": "code",
   "execution_count": 186,
   "id": "b93f7ed6",
   "metadata": {},
   "outputs": [
    {
     "data": {
      "text/html": [
       "<div>\n",
       "<style scoped>\n",
       "    .dataframe tbody tr th:only-of-type {\n",
       "        vertical-align: middle;\n",
       "    }\n",
       "\n",
       "    .dataframe tbody tr th {\n",
       "        vertical-align: top;\n",
       "    }\n",
       "\n",
       "    .dataframe thead th {\n",
       "        text-align: right;\n",
       "    }\n",
       "</style>\n",
       "<table border=\"1\" class=\"dataframe\">\n",
       "  <thead>\n",
       "    <tr style=\"text-align: right;\">\n",
       "      <th></th>\n",
       "      <th>pageid</th>\n",
       "      <th>title</th>\n",
       "      <th>cleaned_member</th>\n",
       "    </tr>\n",
       "  </thead>\n",
       "  <tbody>\n",
       "    <tr>\n",
       "      <th>0</th>\n",
       "      <td>489818</td>\n",
       "      <td>A Friend in London</td>\n",
       "      <td>['Tim Schou']</td>\n",
       "    </tr>\n",
       "    <tr>\n",
       "      <th>1</th>\n",
       "      <td>157530</td>\n",
       "      <td>Ache</td>\n",
       "      <td>['Per Wium', 'Peter Mellin', 'Finn Olafsson', ...</td>\n",
       "    </tr>\n",
       "    <tr>\n",
       "      <th>2</th>\n",
       "      <td>255559</td>\n",
       "      <td>ADS (band)</td>\n",
       "      <td>['Michael Funder Thorlasius', 'Stig Pedersen',...</td>\n",
       "    </tr>\n",
       "    <tr>\n",
       "      <th>3</th>\n",
       "      <td>976777</td>\n",
       "      <td>Agathorn</td>\n",
       "      <td>[]</td>\n",
       "    </tr>\n",
       "    <tr>\n",
       "      <th>4</th>\n",
       "      <td>493993</td>\n",
       "      <td>Alabama Black Snakes</td>\n",
       "      <td>[Jonas Jessen, Hank Lee Tuffer, Mads Østergaar...</td>\n",
       "    </tr>\n",
       "    <tr>\n",
       "      <th>...</th>\n",
       "      <td>...</td>\n",
       "      <td>...</td>\n",
       "      <td>...</td>\n",
       "    </tr>\n",
       "    <tr>\n",
       "      <th>1029</th>\n",
       "      <td>37360</td>\n",
       "      <td>Odense Symfoniorkester</td>\n",
       "      <td>[Bjarne Hansen, Ulrike Kipp, Michaela Fukačová...</td>\n",
       "    </tr>\n",
       "    <tr>\n",
       "      <th>1030</th>\n",
       "      <td>162784</td>\n",
       "      <td>Sjællands Symfoniorkester</td>\n",
       "      <td>[Ole Böhn, Harry Gram-Jensen, Fritz O. Jacobse...</td>\n",
       "    </tr>\n",
       "    <tr>\n",
       "      <th>1031</th>\n",
       "      <td>10733</td>\n",
       "      <td>Sønderjyllands Symfoniorkester</td>\n",
       "      <td>[Anne Augustinsson, Jesper Hindø, Nikolai Skli...</td>\n",
       "    </tr>\n",
       "    <tr>\n",
       "      <th>1032</th>\n",
       "      <td>369172</td>\n",
       "      <td>Aalborg Symfoniorkester</td>\n",
       "      <td>[Marius Ungureanu, Ib Dirkov, Moshe Atzmon, Vi...</td>\n",
       "    </tr>\n",
       "    <tr>\n",
       "      <th>1033</th>\n",
       "      <td>373862</td>\n",
       "      <td>Aarhus Symfoniorkester</td>\n",
       "      <td>[Eugene Hye-Knudsen, Marc Soustrot, Svend Rump...</td>\n",
       "    </tr>\n",
       "  </tbody>\n",
       "</table>\n",
       "<p>1034 rows × 3 columns</p>\n",
       "</div>"
      ],
      "text/plain": [
       "      pageid                           title  \\\n",
       "0     489818              A Friend in London   \n",
       "1     157530                            Ache   \n",
       "2     255559                      ADS (band)   \n",
       "3     976777                        Agathorn   \n",
       "4     493993            Alabama Black Snakes   \n",
       "...      ...                             ...   \n",
       "1029   37360          Odense Symfoniorkester   \n",
       "1030  162784       Sjællands Symfoniorkester   \n",
       "1031   10733  Sønderjyllands Symfoniorkester   \n",
       "1032  369172         Aalborg Symfoniorkester   \n",
       "1033  373862          Aarhus Symfoniorkester   \n",
       "\n",
       "                                         cleaned_member  \n",
       "0                                         ['Tim Schou']  \n",
       "1     ['Per Wium', 'Peter Mellin', 'Finn Olafsson', ...  \n",
       "2     ['Michael Funder Thorlasius', 'Stig Pedersen',...  \n",
       "3                                                    []  \n",
       "4     [Jonas Jessen, Hank Lee Tuffer, Mads Østergaar...  \n",
       "...                                                 ...  \n",
       "1029  [Bjarne Hansen, Ulrike Kipp, Michaela Fukačová...  \n",
       "1030  [Ole Böhn, Harry Gram-Jensen, Fritz O. Jacobse...  \n",
       "1031  [Anne Augustinsson, Jesper Hindø, Nikolai Skli...  \n",
       "1032  [Marius Ungureanu, Ib Dirkov, Moshe Atzmon, Vi...  \n",
       "1033  [Eugene Hye-Knudsen, Marc Soustrot, Svend Rump...  \n",
       "\n",
       "[1034 rows x 3 columns]"
      ]
     },
     "execution_count": 186,
     "metadata": {},
     "output_type": "execute_result"
    }
   ],
   "source": [
    "df_groups"
   ]
  },
  {
   "cell_type": "code",
   "execution_count": null,
   "id": "2e1fb902",
   "metadata": {},
   "outputs": [],
   "source": [
    "# problem: nogle gange er der flere bands med samme navn på discogs (fx the fashion). \n",
    "# hvis ikke det danske band er det først, så er det svært at gøre noget ved det"
   ]
  },
  {
   "cell_type": "code",
   "execution_count": null,
   "id": "8e380bf4",
   "metadata": {},
   "outputs": [],
   "source": [
    "### problem: discogs har et tal efter personer hvis der er flere med samme navn\n",
    "# ikke et problemm internt, men hvis det sakl sammenlignes med wiki går det galt\n",
    "# måske kan vi bare fjerne det og håbe der ikke er flere med samme navn der optræder."
   ]
  }
 ],
 "metadata": {
  "kernelspec": {
   "display_name": "ComputationalSocialScience",
   "language": "python",
   "name": "python3"
  },
  "language_info": {
   "codemirror_mode": {
    "name": "ipython",
    "version": 3
   },
   "file_extension": ".py",
   "mimetype": "text/x-python",
   "name": "python",
   "nbconvert_exporter": "python",
   "pygments_lexer": "ipython3",
   "version": "3.11.11"
  }
 },
 "nbformat": 4,
 "nbformat_minor": 5
}
