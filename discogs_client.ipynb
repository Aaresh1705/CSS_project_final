{
 "cells": [
  {
   "metadata": {
    "ExecuteTime": {
     "end_time": "2025-04-09T09:40:08.156437Z",
     "start_time": "2025-04-09T09:40:08.152211Z"
    }
   },
   "cell_type": "code",
   "source": [
    "import discogs_client\n",
    "from discogs_client import Artist\n",
    "d = discogs_client.Client('ExampleApplication/0.1', user_token='tRFDdtlEasEarIQRthjhvBNeJjrEFASeNEForuOZ')"
   ],
   "id": "9a34007ad72bb32e",
   "outputs": [],
   "execution_count": 20
  },
  {
   "metadata": {
    "ExecuteTime": {
     "end_time": "2025-04-09T09:43:43.665491Z",
     "start_time": "2025-04-09T09:43:42.289824Z"
    }
   },
   "cell_type": "code",
   "source": [
    "suspekt: Artist = d.search('Suspekt', type='artist')[0]\n",
    "suspekt.members"
   ],
   "id": "a5aeeea59da5bead",
   "outputs": [
    {
     "data": {
      "text/plain": [
       "[<Artist 607427 'Rune Rask'>,\n",
       " <Artist 899924 'Troels Nielsen'>,\n",
       " <Artist 1009893 'Emil Simonsen'>,\n",
       " <Artist 1009894 'Andreas Duelund'>]"
      ]
     },
     "execution_count": 27,
     "metadata": {},
     "output_type": "execute_result"
    }
   ],
   "execution_count": 27
  },
  {
   "metadata": {
    "ExecuteTime": {
     "end_time": "2025-04-09T09:43:43.748907Z",
     "start_time": "2025-04-09T09:43:43.745687Z"
    }
   },
   "cell_type": "code",
   "source": "",
   "id": "1149198cea8d8c2b",
   "outputs": [],
   "execution_count": null
  },
  {
   "metadata": {},
   "cell_type": "code",
   "outputs": [],
   "execution_count": null,
   "source": "",
   "id": "5a843ef9f6cae259"
  }
 ],
 "metadata": {
  "kernelspec": {
   "display_name": "Python 3",
   "language": "python",
   "name": "python3"
  },
  "language_info": {
   "codemirror_mode": {
    "name": "ipython",
    "version": 2
   },
   "file_extension": ".py",
   "mimetype": "text/x-python",
   "name": "python",
   "nbconvert_exporter": "python",
   "pygments_lexer": "ipython2",
   "version": "2.7.6"
  }
 },
 "nbformat": 4,
 "nbformat_minor": 5
}
