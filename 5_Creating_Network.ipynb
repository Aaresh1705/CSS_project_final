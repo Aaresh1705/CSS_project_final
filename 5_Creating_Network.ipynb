{
 "cells": [
  {
   "cell_type": "code",
   "execution_count": 65,
   "id": "23f8684a",
   "metadata": {},
   "outputs": [],
   "source": [
    "import re\n",
    "import numpy as np\n",
    "import ast\n",
    "import pandas as pd\n",
    "import networkx as nx\n",
    "import matplotlib.pyplot as plt\n",
    "from collections import Counter\n",
    "import pickle"
   ]
  },
  {
   "cell_type": "code",
   "execution_count": 3,
   "id": "11232dd5",
   "metadata": {},
   "outputs": [],
   "source": [
    "df_groups = pd.read_csv(\"data/groups_wMembers2.csv\")\n",
    "df_groups[\"cleaned_member\"] = df_groups[\"cleaned_member\"].apply(ast.literal_eval)"
   ]
  },
  {
   "cell_type": "markdown",
   "id": "9658d25a",
   "metadata": {},
   "source": [
    "### Group Musician Graph"
   ]
  },
  {
   "cell_type": "code",
   "execution_count": null,
   "id": "ce4692cc",
   "metadata": {},
   "outputs": [],
   "source": [
    "df_groups[\"edgelist\"] = df_groups.apply(lambda row: [(row[\"title\"], member) for member in row[\"cleaned_member\"]], axis=1)\n",
    "edgelist = [edge for sublist in df_groups[\"edgelist\"] for edge in sublist]"
   ]
  },
  {
   "cell_type": "code",
   "execution_count": 7,
   "id": "a3f685ff",
   "metadata": {},
   "outputs": [],
   "source": [
    "GroupMusicianG = nx.Graph()\n",
    "GroupMusicianG.add_edges_from(edgelist)"
   ]
  },
  {
   "cell_type": "code",
   "execution_count": null,
   "id": "9bfcc426",
   "metadata": {},
   "outputs": [
    {
     "data": {
      "text/plain": [
       "(4616, 4265)"
      ]
     },
     "execution_count": 8,
     "metadata": {},
     "output_type": "execute_result"
    }
   ],
   "source": [
    "len(GroupMusicianG.nodes), len(GroupMusicianG.edges)"
   ]
  },
  {
   "cell_type": "code",
   "execution_count": null,
   "id": "8af2cbd8",
   "metadata": {},
   "outputs": [
    {
     "name": "stdout",
     "output_type": "stream",
     "text": [
      "508\n"
     ]
    }
   ],
   "source": [
    "list_of_connected_comp = list(nx.connected_components(GroupMusicianG))\n",
    "print(len(list_of_connected_comp)) # number of connected components"
   ]
  },
  {
   "cell_type": "code",
   "execution_count": 67,
   "id": "007d97de",
   "metadata": {},
   "outputs": [],
   "source": [
    "sorted_list = sorted(list_of_connected_comp, key=len, reverse = True)\n",
    "lengths = [len(c) for c in sorted_list]"
   ]
  },
  {
   "cell_type": "markdown",
   "id": "7c8aed58",
   "metadata": {},
   "source": [
    "### Group graph"
   ]
  },
  {
   "cell_type": "code",
   "execution_count": 68,
   "id": "ba5edf34",
   "metadata": {},
   "outputs": [],
   "source": [
    "all_groups = list([group for group in df_groups[\"title\"].values if group in GroupMusicianG.nodes])\n",
    "GroupsG = nx.projected_graph(GroupMusicianG, all_groups, multigraph=False)"
   ]
  },
  {
   "cell_type": "code",
   "execution_count": 71,
   "id": "0879d2ff",
   "metadata": {},
   "outputs": [],
   "source": [
    "# Save graph\n",
    "with open(\"data/groups_graph.pkl\", \"wb\") as f:\n",
    "    pickle.dump(GroupsG, f)"
   ]
  },
  {
   "cell_type": "markdown",
   "id": "97e439cf",
   "metadata": {},
   "source": [
    "### Musician Graph"
   ]
  },
  {
   "cell_type": "code",
   "execution_count": 69,
   "id": "1f17d61f",
   "metadata": {},
   "outputs": [],
   "source": [
    "all_musicians = list(np.unique([\n",
    "    str(member)\n",
    "    for row_list in df_groups[\"cleaned_member\"].values\n",
    "    for member in row_list\n",
    "    if member in GroupMusicianG.nodes and member != ''\n",
    "]))\n",
    "all_musicians = [str(member) for member in all_musicians]\n",
    "\n",
    "MusiciansG = nx.projected_graph(GroupMusicianG, all_musicians, multigraph=False)"
   ]
  },
  {
   "cell_type": "code",
   "execution_count": 72,
   "id": "8ddaf177",
   "metadata": {},
   "outputs": [],
   "source": [
    "# Save graph\n",
    "with open(\"data/Musicians_graph.pkl\", \"wb\") as f:\n",
    "    pickle.dump(MusiciansG, f)"
   ]
  }
 ],
 "metadata": {
  "kernelspec": {
   "display_name": "02467CSS",
   "language": "python",
   "name": "python3"
  },
  "language_info": {
   "codemirror_mode": {
    "name": "ipython",
    "version": 3
   },
   "file_extension": ".py",
   "mimetype": "text/x-python",
   "name": "python",
   "nbconvert_exporter": "python",
   "pygments_lexer": "ipython3",
   "version": "3.11.8"
  }
 },
 "nbformat": 4,
 "nbformat_minor": 5
}
