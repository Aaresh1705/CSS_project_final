{
 "cells": [
  {
   "cell_type": "code",
   "execution_count": 65,
   "id": "23f8684a",
   "metadata": {},
   "outputs": [],
   "source": [
    "import re\n",
    "import numpy as np\n",
    "import ast\n",
    "import pandas as pd\n",
    "import networkx as nx\n",
    "import matplotlib.pyplot as plt\n",
    "from collections import Counter\n",
    "import pickle"
   ]
  },
  {
   "cell_type": "code",
   "execution_count": 136,
   "id": "11232dd5",
   "metadata": {},
   "outputs": [],
   "source": [
    "df_groups = pd.read_csv(\"data/wip/groups_wMembers3.csv\")\n",
    "#df_groups[\"all_members\"] = df_groups[\"all_members\"].apply(ast.literal_eval)"
   ]
  },
  {
   "cell_type": "code",
   "execution_count": 137,
   "id": "7d1cc206",
   "metadata": {},
   "outputs": [
    {
     "data": {
      "text/html": [
       "<div>\n",
       "<style scoped>\n",
       "    .dataframe tbody tr th:only-of-type {\n",
       "        vertical-align: middle;\n",
       "    }\n",
       "\n",
       "    .dataframe tbody tr th {\n",
       "        vertical-align: top;\n",
       "    }\n",
       "\n",
       "    .dataframe thead th {\n",
       "        text-align: right;\n",
       "    }\n",
       "</style>\n",
       "<table border=\"1\" class=\"dataframe\">\n",
       "  <thead>\n",
       "    <tr style=\"text-align: right;\">\n",
       "      <th></th>\n",
       "      <th>title</th>\n",
       "      <th>all_members</th>\n",
       "    </tr>\n",
       "  </thead>\n",
       "  <tbody>\n",
       "    <tr>\n",
       "      <th>0</th>\n",
       "      <td>A Friend in London</td>\n",
       "      <td>['Aske Damm Bramming', 'Esben Svane', 'Sebasti...</td>\n",
       "    </tr>\n",
       "    <tr>\n",
       "      <th>1</th>\n",
       "      <td>Ache</td>\n",
       "      <td>['Finn Olafsson', 'Per Wium', 'Peter Mellin', ...</td>\n",
       "    </tr>\n",
       "    <tr>\n",
       "      <th>2</th>\n",
       "      <td>ADS (band)</td>\n",
       "      <td>['Karsten Hjarsø', 'Lars Top-Galia', 'Martin K...</td>\n",
       "    </tr>\n",
       "    <tr>\n",
       "      <th>3</th>\n",
       "      <td>Agathorn</td>\n",
       "      <td>[]</td>\n",
       "    </tr>\n",
       "    <tr>\n",
       "      <th>4</th>\n",
       "      <td>Alabama Black Snakes</td>\n",
       "      <td>['Gustav Pontoppidan', 'Hank Lee Tuffer', 'Jon...</td>\n",
       "    </tr>\n",
       "    <tr>\n",
       "      <th>...</th>\n",
       "      <td>...</td>\n",
       "      <td>...</td>\n",
       "    </tr>\n",
       "    <tr>\n",
       "      <th>1029</th>\n",
       "      <td>Odense Symfoniorkester</td>\n",
       "      <td>['Alf Vestergaard', 'Anca Bold', 'Angelika Wag...</td>\n",
       "    </tr>\n",
       "    <tr>\n",
       "      <th>1030</th>\n",
       "      <td>Sjællands Symfoniorkester</td>\n",
       "      <td>['Fritz O. Jacobsen', 'Harry Gram-Jensen', 'Il...</td>\n",
       "    </tr>\n",
       "    <tr>\n",
       "      <th>1031</th>\n",
       "      <td>Sønderjyllands Symfoniorkester</td>\n",
       "      <td>['Anne Augustinsson', 'Brian Quist Jørgensen',...</td>\n",
       "    </tr>\n",
       "    <tr>\n",
       "      <th>1032</th>\n",
       "      <td>Aalborg Symfoniorkester</td>\n",
       "      <td>['Bettina Ejlerts Jensen', 'Bo Juel Christians...</td>\n",
       "    </tr>\n",
       "    <tr>\n",
       "      <th>1033</th>\n",
       "      <td>Aarhus Symfoniorkester</td>\n",
       "      <td>['Ananna Lützhøft', 'Anders Larsen (2)', 'Anik...</td>\n",
       "    </tr>\n",
       "  </tbody>\n",
       "</table>\n",
       "<p>1034 rows × 2 columns</p>\n",
       "</div>"
      ],
      "text/plain": [
       "                               title  \\\n",
       "0                 A Friend in London   \n",
       "1                               Ache   \n",
       "2                         ADS (band)   \n",
       "3                           Agathorn   \n",
       "4               Alabama Black Snakes   \n",
       "...                              ...   \n",
       "1029          Odense Symfoniorkester   \n",
       "1030       Sjællands Symfoniorkester   \n",
       "1031  Sønderjyllands Symfoniorkester   \n",
       "1032         Aalborg Symfoniorkester   \n",
       "1033          Aarhus Symfoniorkester   \n",
       "\n",
       "                                            all_members  \n",
       "0     ['Aske Damm Bramming', 'Esben Svane', 'Sebasti...  \n",
       "1     ['Finn Olafsson', 'Per Wium', 'Peter Mellin', ...  \n",
       "2     ['Karsten Hjarsø', 'Lars Top-Galia', 'Martin K...  \n",
       "3                                                    []  \n",
       "4     ['Gustav Pontoppidan', 'Hank Lee Tuffer', 'Jon...  \n",
       "...                                                 ...  \n",
       "1029  ['Alf Vestergaard', 'Anca Bold', 'Angelika Wag...  \n",
       "1030  ['Fritz O. Jacobsen', 'Harry Gram-Jensen', 'Il...  \n",
       "1031  ['Anne Augustinsson', 'Brian Quist Jørgensen',...  \n",
       "1032  ['Bettina Ejlerts Jensen', 'Bo Juel Christians...  \n",
       "1033  ['Ananna Lützhøft', 'Anders Larsen (2)', 'Anik...  \n",
       "\n",
       "[1034 rows x 2 columns]"
      ]
     },
     "execution_count": 137,
     "metadata": {},
     "output_type": "execute_result"
    }
   ],
   "source": [
    "df_groups = df_groups[[\"title\", \"all_members\"]]\n",
    "df_groups"
   ]
  },
  {
   "cell_type": "markdown",
   "id": "9658d25a",
   "metadata": {},
   "source": [
    "### Group Musician Graph"
   ]
  },
  {
   "cell_type": "code",
   "execution_count": 143,
   "id": "ce4692cc",
   "metadata": {},
   "outputs": [],
   "source": [
    "df_groups[\"edgelist\"] = df_groups.apply(lambda row: [(row[\"title\"], member) for member in ast.literal_eval(row[\"all_members\"])], axis=1)\n",
    "edgelist = [edge for sublist in df_groups[\"edgelist\"] for edge in sublist]"
   ]
  },
  {
   "cell_type": "code",
   "execution_count": 144,
   "id": "3b565519",
   "metadata": {},
   "outputs": [
    {
     "data": {
      "text/html": [
       "<div>\n",
       "<style scoped>\n",
       "    .dataframe tbody tr th:only-of-type {\n",
       "        vertical-align: middle;\n",
       "    }\n",
       "\n",
       "    .dataframe tbody tr th {\n",
       "        vertical-align: top;\n",
       "    }\n",
       "\n",
       "    .dataframe thead th {\n",
       "        text-align: right;\n",
       "    }\n",
       "</style>\n",
       "<table border=\"1\" class=\"dataframe\">\n",
       "  <thead>\n",
       "    <tr style=\"text-align: right;\">\n",
       "      <th></th>\n",
       "      <th>title</th>\n",
       "      <th>all_members</th>\n",
       "      <th>edgelist</th>\n",
       "    </tr>\n",
       "  </thead>\n",
       "  <tbody>\n",
       "    <tr>\n",
       "      <th>0</th>\n",
       "      <td>A Friend in London</td>\n",
       "      <td>['Aske Damm Bramming', 'Esben Svane', 'Sebasti...</td>\n",
       "      <td>[(A Friend in London, Aske Damm Bramming), (A ...</td>\n",
       "    </tr>\n",
       "    <tr>\n",
       "      <th>1</th>\n",
       "      <td>Ache</td>\n",
       "      <td>['Finn Olafsson', 'Per Wium', 'Peter Mellin', ...</td>\n",
       "      <td>[(Ache, Finn Olafsson), (Ache, Per Wium), (Ach...</td>\n",
       "    </tr>\n",
       "    <tr>\n",
       "      <th>2</th>\n",
       "      <td>ADS (band)</td>\n",
       "      <td>['Karsten Hjarsø', 'Lars Top-Galia', 'Martin K...</td>\n",
       "      <td>[(ADS (band), Karsten Hjarsø), (ADS (band), La...</td>\n",
       "    </tr>\n",
       "    <tr>\n",
       "      <th>3</th>\n",
       "      <td>Agathorn</td>\n",
       "      <td>[]</td>\n",
       "      <td>[]</td>\n",
       "    </tr>\n",
       "    <tr>\n",
       "      <th>4</th>\n",
       "      <td>Alabama Black Snakes</td>\n",
       "      <td>['Gustav Pontoppidan', 'Hank Lee Tuffer', 'Jon...</td>\n",
       "      <td>[(Alabama Black Snakes, Gustav Pontoppidan), (...</td>\n",
       "    </tr>\n",
       "    <tr>\n",
       "      <th>...</th>\n",
       "      <td>...</td>\n",
       "      <td>...</td>\n",
       "      <td>...</td>\n",
       "    </tr>\n",
       "    <tr>\n",
       "      <th>1029</th>\n",
       "      <td>Odense Symfoniorkester</td>\n",
       "      <td>['Alf Vestergaard', 'Anca Bold', 'Angelika Wag...</td>\n",
       "      <td>[(Odense Symfoniorkester, Alf Vestergaard), (O...</td>\n",
       "    </tr>\n",
       "    <tr>\n",
       "      <th>1030</th>\n",
       "      <td>Sjællands Symfoniorkester</td>\n",
       "      <td>['Fritz O. Jacobsen', 'Harry Gram-Jensen', 'Il...</td>\n",
       "      <td>[(Sjællands Symfoniorkester, Fritz O. Jacobsen...</td>\n",
       "    </tr>\n",
       "    <tr>\n",
       "      <th>1031</th>\n",
       "      <td>Sønderjyllands Symfoniorkester</td>\n",
       "      <td>['Anne Augustinsson', 'Brian Quist Jørgensen',...</td>\n",
       "      <td>[(Sønderjyllands Symfoniorkester, Anne Augusti...</td>\n",
       "    </tr>\n",
       "    <tr>\n",
       "      <th>1032</th>\n",
       "      <td>Aalborg Symfoniorkester</td>\n",
       "      <td>['Bettina Ejlerts Jensen', 'Bo Juel Christians...</td>\n",
       "      <td>[(Aalborg Symfoniorkester, Bettina Ejlerts Jen...</td>\n",
       "    </tr>\n",
       "    <tr>\n",
       "      <th>1033</th>\n",
       "      <td>Aarhus Symfoniorkester</td>\n",
       "      <td>['Ananna Lützhøft', 'Anders Larsen (2)', 'Anik...</td>\n",
       "      <td>[(Aarhus Symfoniorkester, Ananna Lützhøft), (A...</td>\n",
       "    </tr>\n",
       "  </tbody>\n",
       "</table>\n",
       "<p>1034 rows × 3 columns</p>\n",
       "</div>"
      ],
      "text/plain": [
       "                               title  \\\n",
       "0                 A Friend in London   \n",
       "1                               Ache   \n",
       "2                         ADS (band)   \n",
       "3                           Agathorn   \n",
       "4               Alabama Black Snakes   \n",
       "...                              ...   \n",
       "1029          Odense Symfoniorkester   \n",
       "1030       Sjællands Symfoniorkester   \n",
       "1031  Sønderjyllands Symfoniorkester   \n",
       "1032         Aalborg Symfoniorkester   \n",
       "1033          Aarhus Symfoniorkester   \n",
       "\n",
       "                                            all_members  \\\n",
       "0     ['Aske Damm Bramming', 'Esben Svane', 'Sebasti...   \n",
       "1     ['Finn Olafsson', 'Per Wium', 'Peter Mellin', ...   \n",
       "2     ['Karsten Hjarsø', 'Lars Top-Galia', 'Martin K...   \n",
       "3                                                    []   \n",
       "4     ['Gustav Pontoppidan', 'Hank Lee Tuffer', 'Jon...   \n",
       "...                                                 ...   \n",
       "1029  ['Alf Vestergaard', 'Anca Bold', 'Angelika Wag...   \n",
       "1030  ['Fritz O. Jacobsen', 'Harry Gram-Jensen', 'Il...   \n",
       "1031  ['Anne Augustinsson', 'Brian Quist Jørgensen',...   \n",
       "1032  ['Bettina Ejlerts Jensen', 'Bo Juel Christians...   \n",
       "1033  ['Ananna Lützhøft', 'Anders Larsen (2)', 'Anik...   \n",
       "\n",
       "                                               edgelist  \n",
       "0     [(A Friend in London, Aske Damm Bramming), (A ...  \n",
       "1     [(Ache, Finn Olafsson), (Ache, Per Wium), (Ach...  \n",
       "2     [(ADS (band), Karsten Hjarsø), (ADS (band), La...  \n",
       "3                                                    []  \n",
       "4     [(Alabama Black Snakes, Gustav Pontoppidan), (...  \n",
       "...                                                 ...  \n",
       "1029  [(Odense Symfoniorkester, Alf Vestergaard), (O...  \n",
       "1030  [(Sjællands Symfoniorkester, Fritz O. Jacobsen...  \n",
       "1031  [(Sønderjyllands Symfoniorkester, Anne Augusti...  \n",
       "1032  [(Aalborg Symfoniorkester, Bettina Ejlerts Jen...  \n",
       "1033  [(Aarhus Symfoniorkester, Ananna Lützhøft), (A...  \n",
       "\n",
       "[1034 rows x 3 columns]"
      ]
     },
     "execution_count": 144,
     "metadata": {},
     "output_type": "execute_result"
    }
   ],
   "source": [
    "df_groups"
   ]
  },
  {
   "cell_type": "code",
   "execution_count": 145,
   "id": "a3f685ff",
   "metadata": {},
   "outputs": [],
   "source": [
    "GroupMusicianG = nx.Graph()\n",
    "GroupMusicianG.add_edges_from(edgelist)"
   ]
  },
  {
   "cell_type": "code",
   "execution_count": 146,
   "id": "9bfcc426",
   "metadata": {},
   "outputs": [
    {
     "data": {
      "text/plain": [
       "(4931, 4645)"
      ]
     },
     "execution_count": 146,
     "metadata": {},
     "output_type": "execute_result"
    }
   ],
   "source": [
    "len(GroupMusicianG.nodes), len(GroupMusicianG.edges)"
   ]
  },
  {
   "cell_type": "code",
   "execution_count": 147,
   "id": "8af2cbd8",
   "metadata": {},
   "outputs": [
    {
     "name": "stdout",
     "output_type": "stream",
     "text": [
      "480\n"
     ]
    }
   ],
   "source": [
    "list_of_connected_comp = list(nx.connected_components(GroupMusicianG))\n",
    "print(len(list_of_connected_comp)) # number of connected components"
   ]
  },
  {
   "cell_type": "code",
   "execution_count": 151,
   "id": "007d97de",
   "metadata": {},
   "outputs": [],
   "source": [
    "sorted_list = sorted(list_of_connected_comp, key=len, reverse = True)\n",
    "lengths = [len(c) for c in sorted_list]"
   ]
  },
  {
   "cell_type": "markdown",
   "id": "7c8aed58",
   "metadata": {},
   "source": [
    "### Group graph"
   ]
  },
  {
   "cell_type": "code",
   "execution_count": 152,
   "id": "ba5edf34",
   "metadata": {},
   "outputs": [],
   "source": [
    "all_groups = list([group for group in df_groups[\"title\"].values if group in GroupMusicianG.nodes])\n",
    "GroupsG = nx.projected_graph(GroupMusicianG, all_groups, multigraph=False)"
   ]
  },
  {
   "cell_type": "code",
   "execution_count": 153,
   "id": "0879d2ff",
   "metadata": {},
   "outputs": [],
   "source": [
    "# Save graph\n",
    "with open(\"data/wip/groups_graph.pkl\", \"wb\") as f:\n",
    "    pickle.dump(GroupsG, f)"
   ]
  },
  {
   "cell_type": "markdown",
   "id": "97e439cf",
   "metadata": {},
   "source": [
    "### Musician Graph"
   ]
  },
  {
   "cell_type": "code",
   "execution_count": 159,
   "id": "1524b92a",
   "metadata": {},
   "outputs": [
    {
     "data": {
      "text/plain": [
       "array([\"['Aske Damm Bramming', 'Esben Svane', 'Sebastian Vinther Olsen', 'Tim Schou']\",\n",
       "       \"['Finn Olafsson', 'Per Wium', 'Peter Mellin', 'Steen Toft Andersen', 'Torsten Olafsson']\",\n",
       "       \"['Karsten Hjarsø', 'Lars Top-Galia', 'Martin Krogh', 'Michael Funder Thorlasius', 'Peter Top-Jensen', 'Stig Pedersen', 'Søren Slys Johnsen']\",\n",
       "       ...,\n",
       "       \"['Anne Augustinsson', 'Brian Quist Jørgensen', 'Henrik Steensgaard', 'Jesper Hindø', 'Karsten Dalsgaard Madsen', 'Kristjan Orii Sigerleifsson', 'Lars Rimer', 'Niels Christian Lund Mathiesen', 'Nikolai Skliarevski', 'Peder Linneberg', 'Rumen Lukanov']\",\n",
       "       \"['Bettina Ejlerts Jensen', 'Bo Juel Christiansen', 'Claus Ettrup', 'Erik Sandberg (3)', 'Hanne Høy Houengaard', 'Ib Dirkov', 'Ida Marie Sørmo', 'Jacob Ringsmose', 'Jenny Sjöberg', 'Jette Rosendal', 'Judith Blauw', 'Karen Kjelds', 'Leah Aksnes', 'Lisbeth Binderup-Thordal', 'Marius Ungureanu', 'Mette Nielsen', 'Michael Hübner', 'Michael Pilgaard', 'Moshe Atzmon', 'Ruben Kristensen', 'Sheila Popkin', 'Simon Sigfusson', 'Vesselin Demirev', 'Vincent Stadlmair']\",\n",
       "       \"['Ananna Lützhøft', 'Anders Larsen (2)', 'Anika Telmányi', 'Anna Caroline Jensen', 'Arnold Baker (2)', 'Birgitte Bærentzen Pihl', 'Brian Friisholm', 'Christian Jørgensen (3)', 'Erik Beselin', 'Erik Søndergaard Jensen', 'Erwin Chmiel', 'Eugene Hye-Knudsen', 'Eva Paulin', 'Flemming Aksnes', 'Frank Christensen', 'Hans Stengaard', 'Henry Lützhøft', 'Ian van Rensburg', 'Jens Astrup', 'Jens Lund Madsen', 'Jens Vind', 'Jorma Panula', 'Katrin Sønnichsen', 'Klaus Gottlieb', 'Lars Karlin', 'Lars Kvist-Jensen', 'Laura Helasvuo Simonsen', 'Marc Soustrot', 'Martin Schuster (2)', 'Matthias von Niessen', 'Merete Hoffmann-Madsen', 'Morten Møller (2)', 'Nikolaj Lind Pedersen', 'Norman Del Mar', 'Pernille Jönsson', 'Poul Erik Jørgensen', 'Rolf Sandmark', 'Svend Rump Nielsen', 'Thomas Eisner', 'Todd Cadieux', 'Torben Mikkelsen', 'Tue Waaben Lauttrup', 'Vibeke Kærsgaard Lembcke']\"],\n",
       "      dtype=object)"
      ]
     },
     "execution_count": 159,
     "metadata": {},
     "output_type": "execute_result"
    }
   ],
   "source": [
    "df_groups[\"all_members\"].values"
   ]
  },
  {
   "cell_type": "code",
   "execution_count": 160,
   "id": "1f17d61f",
   "metadata": {},
   "outputs": [],
   "source": [
    "all_musicians = list(np.unique([\n",
    "    str(member)\n",
    "    for row_list in df_groups[\"all_members\"].values\n",
    "    for member in ast.literal_eval(row_list)\n",
    "    if member in GroupMusicianG.nodes and member != ''\n",
    "]))\n",
    "all_musicians = [str(member) for member in all_musicians]\n",
    "\n",
    "MusiciansG = nx.projected_graph(GroupMusicianG, all_musicians, multigraph=False)"
   ]
  },
  {
   "cell_type": "code",
   "execution_count": 162,
   "id": "8ddaf177",
   "metadata": {},
   "outputs": [],
   "source": [
    "# Save graph\n",
    "with open(\"data/wip/Musicians_graph.pkl\", \"wb\") as f:\n",
    "    pickle.dump(MusiciansG, f)"
   ]
  }
 ],
 "metadata": {
  "kernelspec": {
   "display_name": "02467CSS",
   "language": "python",
   "name": "python3"
  },
  "language_info": {
   "codemirror_mode": {
    "name": "ipython",
    "version": 3
   },
   "file_extension": ".py",
   "mimetype": "text/x-python",
   "name": "python",
   "nbconvert_exporter": "python",
   "pygments_lexer": "ipython3",
   "version": "3.11.8"
  }
 },
 "nbformat": 4,
 "nbformat_minor": 5
}
