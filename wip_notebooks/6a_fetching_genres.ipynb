{
 "cells": [
  {
   "metadata": {
    "ExecuteTime": {
     "end_time": "2025-05-16T15:37:06.394019Z",
     "start_time": "2025-05-16T15:37:06.387458Z"
    }
   },
   "cell_type": "code",
   "source": [
    "import sys\n",
    "from pathlib import Path\n",
    "\n",
    "parent = str(Path().resolve().parent)\n",
    "if parent not in sys.path:\n",
    "    sys.path.insert(0, parent)"
   ],
   "id": "1adf9f4e1bcb15ac",
   "outputs": [],
   "execution_count": 2
  },
  {
   "metadata": {
    "ExecuteTime": {
     "end_time": "2025-05-16T15:37:07.148339Z",
     "start_time": "2025-05-16T15:37:06.446810Z"
    }
   },
   "cell_type": "code",
   "source": [
    "import numpy as np\n",
    "import pandas as pd\n",
    "import requests\n",
    "from functions.genre_function import get_genre_from_page_id"
   ],
   "id": "c350089e6416bbdf",
   "outputs": [],
   "execution_count": 3
  },
  {
   "metadata": {
    "ExecuteTime": {
     "end_time": "2025-05-16T15:37:07.220417Z",
     "start_time": "2025-05-16T15:37:07.184405Z"
    }
   },
   "cell_type": "code",
   "source": "df_groups = pd.read_csv(\"../data/wip/groups_wMembers_Text.csv\")",
   "id": "29c468cff4d95fb3",
   "outputs": [],
   "execution_count": 4
  },
  {
   "metadata": {
    "jupyter": {
     "is_executing": true
    },
    "ExecuteTime": {
     "start_time": "2025-05-16T15:37:07.248028Z"
    }
   },
   "cell_type": "code",
   "source": "df_groups[\"genre\"] = df_groups[\"pageid\"].apply(get_genre_from_page_id)",
   "id": "26a034d82fcb5770",
   "outputs": [],
   "execution_count": null
  },
  {
   "metadata": {},
   "cell_type": "code",
   "outputs": [],
   "execution_count": null,
   "source": "#df_groups.to_csv(\"data/groups_wMembers_Text_APIGenres.csv\", index=False)",
   "id": "a1da45620248d208"
  }
 ],
 "metadata": {
  "kernelspec": {
   "display_name": "02467CSS",
   "language": "python",
   "name": "python3"
  },
  "language_info": {
   "codemirror_mode": {
    "name": "ipython",
    "version": 3
   },
   "file_extension": ".py",
   "mimetype": "text/x-python",
   "name": "python",
   "nbconvert_exporter": "python",
   "pygments_lexer": "ipython3",
   "version": "3.11.8"
  }
 },
 "nbformat": 4,
 "nbformat_minor": 5
}
