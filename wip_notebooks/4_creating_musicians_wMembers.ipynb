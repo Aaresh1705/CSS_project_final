{
 "cells": [
  {
   "metadata": {
    "ExecuteTime": {
     "end_time": "2025-05-16T15:30:57.816757Z",
     "start_time": "2025-05-16T15:30:57.814072Z"
    }
   },
   "cell_type": "code",
   "source": [
    "import sys\n",
    "from pathlib import Path\n",
    "\n",
    "parent = str(Path().resolve().parent)\n",
    "if parent not in sys.path:\n",
    "    sys.path.insert(0, parent)"
   ],
   "id": "f4aa954d7ae7a3ab",
   "outputs": [],
   "execution_count": 1
  },
  {
   "metadata": {
    "ExecuteTime": {
     "end_time": "2025-05-16T15:32:59.377986Z",
     "start_time": "2025-05-16T15:32:58.819667Z"
    }
   },
   "cell_type": "code",
   "source": [
    "import numpy as np\n",
    "import pandas as pd\n",
    "import ast\n",
    "from itertools import chain\n",
    "\n",
    "df_groups = pd.read_csv(\"../data/wip/groups_wMembers.csv\")\n",
    "df_groups[\"cleaned_member\"] = df_groups[\"cleaned_member\"].apply(ast.literal_eval)\n",
    "\n",
    "df_musicians = pd.read_csv(\"../data/wip/musicians.csv\")"
   ],
   "id": "c1d63e9c97ff48c4",
   "outputs": [],
   "execution_count": 2
  },
  {
   "metadata": {
    "ExecuteTime": {
     "end_time": "2025-05-16T15:33:00.236427Z",
     "start_time": "2025-05-16T15:33:00.232625Z"
    }
   },
   "cell_type": "code",
   "source": [
    "members = list(chain.from_iterable(df_groups[\"cleaned_member\"]))\n",
    "musicians = list(df_musicians[\"name\"].values)"
   ],
   "id": "3f8cd41ba1ff0913",
   "outputs": [],
   "execution_count": 3
  },
  {
   "metadata": {
    "ExecuteTime": {
     "end_time": "2025-05-16T15:33:01.537122Z",
     "start_time": "2025-05-16T15:33:01.520773Z"
    }
   },
   "cell_type": "code",
   "source": [
    "all_musicians = musicians + members\n",
    "all_musicians = np.unique(np.asarray(all_musicians))\n",
    "\n",
    "len(all_musicians)"
   ],
   "id": "d69eec6d8624753",
   "outputs": [
    {
     "data": {
      "text/plain": [
       "4036"
      ]
     },
     "execution_count": 4,
     "metadata": {},
     "output_type": "execute_result"
    }
   ],
   "execution_count": 4
  },
  {
   "metadata": {
    "ExecuteTime": {
     "end_time": "2025-05-16T15:33:06.791917Z",
     "start_time": "2025-05-16T15:33:06.787349Z"
    }
   },
   "cell_type": "code",
   "source": [
    "df_allmusicians = pd.DataFrame(all_musicians)\n",
    "df_allmusicians.columns = ['name']\n",
    "\n",
    "# df_all.to_csv(\"data/musicians_wMembers.csv\", index=False)\n",
    "\n",
    "#error to fix: Some names are joined in one line (ex: \"Jakob Lundorff, Christoffer Hein og Dragut Lugalzagosi\")\n"
   ],
   "id": "83de4c41c2cdcfe0",
   "outputs": [],
   "execution_count": 6
  },
  {
   "metadata": {},
   "cell_type": "code",
   "outputs": [],
   "execution_count": null,
   "source": "",
   "id": "8649dde361eea876"
  }
 ],
 "metadata": {
  "kernelspec": {
   "display_name": "02467CSS",
   "language": "python",
   "name": "python3"
  },
  "language_info": {
   "codemirror_mode": {
    "name": "ipython",
    "version": 3
   },
   "file_extension": ".py",
   "mimetype": "text/x-python",
   "name": "python",
   "nbconvert_exporter": "python",
   "pygments_lexer": "ipython3",
   "version": "3.11.8"
  }
 },
 "nbformat": 4,
 "nbformat_minor": 5
}
