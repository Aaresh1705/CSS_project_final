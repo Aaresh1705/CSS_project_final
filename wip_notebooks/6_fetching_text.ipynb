{
 "cells": [
  {
   "metadata": {
    "ExecuteTime": {
     "end_time": "2025-05-16T15:37:04.714728Z",
     "start_time": "2025-05-16T15:37:04.709436Z"
    }
   },
   "cell_type": "code",
   "source": [
    "import sys\n",
    "from pathlib import Path\n",
    "\n",
    "parent = str(Path().resolve().parent)\n",
    "if parent not in sys.path:\n",
    "    sys.path.insert(0, parent)"
   ],
   "id": "ab32120592d8b7ec",
   "outputs": [],
   "execution_count": 2
  },
  {
   "metadata": {
    "ExecuteTime": {
     "end_time": "2025-05-16T15:37:05.543052Z",
     "start_time": "2025-05-16T15:37:04.769005Z"
    }
   },
   "cell_type": "code",
   "source": [
    "import numpy as np\n",
    "import pandas as pd\n",
    "import requests\n",
    "from functions.loading_articles import get_article_content_by_id"
   ],
   "id": "f60a1d4daea6ee96",
   "outputs": [],
   "execution_count": 3
  },
  {
   "metadata": {
    "ExecuteTime": {
     "end_time": "2025-05-16T15:37:05.614731Z",
     "start_time": "2025-05-16T15:37:05.599864Z"
    }
   },
   "cell_type": "code",
   "source": "df_groups = pd.read_csv(\"../data/wip/groups_wMembers2.csv\")",
   "id": "79a9147e6161f759",
   "outputs": [],
   "execution_count": 4
  },
  {
   "metadata": {
    "ExecuteTime": {
     "end_time": "2025-05-16T15:40:38.354406Z",
     "start_time": "2025-05-16T15:37:05.662920Z"
    }
   },
   "cell_type": "code",
   "source": "df_groups[\"intro_text\"] = df_groups[\"pageid\"].apply(get_article_content_by_id)",
   "id": "b30bd4801922d3e9",
   "outputs": [],
   "execution_count": 5
  },
  {
   "cell_type": "code",
   "id": "e6633524",
   "metadata": {
    "ExecuteTime": {
     "end_time": "2025-05-16T15:40:38.380795Z",
     "start_time": "2025-05-16T15:40:38.373311Z"
    }
   },
   "source": [
    "df_groups[\"intro_text\"].iloc[10]"
   ],
   "outputs": [
    {
     "data": {
      "text/plain": [
       "'<p><b>Are We Brothers?</b> består af Lasse, Birk, Ronko og Shaka – alle medlemmer af bandet Gypsies. Det betyder dog ikke, at AWB? er et sideprojekt, faktisk spillede de fire fyre sammen som band til en rockkoncert længe før, Gypsies blev til et hiphop-orkester.\\n</p><p>Are We Brothers? har spillet en lang række koncerter rundt om i Danmark bl.a. som opvarmning for engelske Foals og danske Mani Spinx, der har udnævnt gruppen til sit nye yndlingsband.\\nDet var også under et af deres jobs i det jyske, at Jens Unmack blev opmærksom på AWB? og begyndte at efterlyse en plade med bandets musik.\\n</p><p>Are We Brothers? fik deres pladekontrakt på grundlag af bare to demoer, hvoraf den ene var singlen ”Come Around”.\\nBandet er i stald hos Speed Of Sound, som er stiftet af Kristian Leth og Fridolin og Frederik Nordsø.\\n</p><p>Are We Brothers? har optrådt på SPOT Festival i Århus.\\n</p>'"
      ]
     },
     "execution_count": 6,
     "metadata": {},
     "output_type": "execute_result"
    }
   ],
   "execution_count": 6
  },
  {
   "metadata": {
    "ExecuteTime": {
     "end_time": "2025-05-16T15:41:01.935274Z",
     "start_time": "2025-05-16T15:41:01.932280Z"
    }
   },
   "cell_type": "code",
   "source": "#df_groups.to_csv(\"data/groups_wMembers_Text.csv\", index=False)",
   "id": "bf40ac7989420b74",
   "outputs": [],
   "execution_count": 8
  },
  {
   "metadata": {},
   "cell_type": "code",
   "outputs": [],
   "execution_count": null,
   "source": "",
   "id": "397ef3878164753f"
  }
 ],
 "metadata": {
  "kernelspec": {
   "display_name": "02467CSS",
   "language": "python",
   "name": "python3"
  },
  "language_info": {
   "codemirror_mode": {
    "name": "ipython",
    "version": 3
   },
   "file_extension": ".py",
   "mimetype": "text/x-python",
   "name": "python",
   "nbconvert_exporter": "python",
   "pygments_lexer": "ipython3",
   "version": "3.11.8"
  }
 },
 "nbformat": 4,
 "nbformat_minor": 5
}
