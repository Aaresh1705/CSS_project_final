{
 "cells": [
  {
   "metadata": {
    "ExecuteTime": {
     "end_time": "2025-05-16T15:24:42.764375Z",
     "start_time": "2025-05-16T15:24:42.760181Z"
    }
   },
   "cell_type": "code",
   "source": [
    "import sys\n",
    "from pathlib import Path\n",
    "\n",
    "parent = str(Path().resolve().parent)\n",
    "if parent not in sys.path:\n",
    "    sys.path.insert(0, parent)"
   ],
   "outputs": [],
   "execution_count": 2
  },
  {
   "metadata": {
    "ExecuteTime": {
     "end_time": "2025-05-16T15:24:43.209899Z",
     "start_time": "2025-05-16T15:24:42.791882Z"
    }
   },
   "cell_type": "code",
   "source": [
    "import pandas as pd\n",
    "import re\n",
    "\n",
    "from functions.loading_articles import get_music_articles"
   ],
   "outputs": [],
   "execution_count": 3
  },
  {
   "cell_type": "code",
   "metadata": {
    "ExecuteTime": {
     "end_time": "2025-05-16T15:24:43.228598Z",
     "start_time": "2025-05-16T15:24:43.224104Z"
    }
   },
   "source": [
    "with open(\"../categories/categories_musicians.txt\", \"r\") as file:\n",
    "    categories_musicians = file.read().splitlines()\n",
    "\n",
    "with open(\"../categories/categories_groups.txt\", \"r\") as file:\n",
    "    categories_groups = file.read().splitlines()"
   ],
   "outputs": [],
   "execution_count": 4
  },
  {
   "cell_type": "code",
   "metadata": {
    "ExecuteTime": {
     "end_time": "2025-05-16T15:24:56.895792Z",
     "start_time": "2025-05-16T15:24:43.276825Z"
    }
   },
   "source": [
    "musicians = get_music_articles(categories_musicians)\n",
    "music_groups = get_music_articles(categories_groups)"
   ],
   "outputs": [],
   "execution_count": 5
  },
  {
   "cell_type": "code",
   "metadata": {
    "ExecuteTime": {
     "end_time": "2025-05-16T15:24:56.910464Z",
     "start_time": "2025-05-16T15:24:56.907346Z"
    }
   },
   "source": [
    "print(len(music_groups))\n",
    "print(len(musicians))"
   ],
   "outputs": [
    {
     "name": "stdout",
     "output_type": "stream",
     "text": [
      "1035\n",
      "3089\n"
     ]
    }
   ],
   "execution_count": 6
  },
  {
   "cell_type": "code",
   "metadata": {
    "ExecuteTime": {
     "end_time": "2025-05-16T15:24:56.976542Z",
     "start_time": "2025-05-16T15:24:56.961566Z"
    }
   },
   "source": [
    "df_groups = pd.DataFrame(music_groups)\n",
    "df_groups = df_groups.drop(columns=[\"ns\"])\n",
    "\n",
    "df_musicians = pd.DataFrame(musicians)\n",
    "df_musicians = df_musicians.drop(columns=[\"ns\"])\n",
    "\n",
    "# extra col for musicians\n",
    "def remove_parentheses(name):\n",
    "    return re.sub(r'\\s*\\(.*?\\)', '', name).strip()\n",
    "\n",
    "df_musicians[\"name\"] = df_musicians[\"title\"].apply(remove_parentheses)\n",
    "\n",
    "\n",
    "#df_musicians.to_csv(\"data/musicians.csv\", index=False)\n",
    "#df_groups.to_csv(\"data/music_groups.csv\", index=False)"
   ],
   "outputs": [],
   "execution_count": 7
  },
  {
   "metadata": {
    "ExecuteTime": {
     "end_time": "2025-05-16T15:24:57.032144Z",
     "start_time": "2025-05-16T15:24:57.022205Z"
    }
   },
   "cell_type": "code",
   "source": "df_groups",
   "outputs": [
    {
     "data": {
      "text/plain": [
       "      pageid                           title\n",
       "0     489818              A Friend in London\n",
       "1     157530                            Ache\n",
       "2     255559                      ADS (band)\n",
       "3     976777                        Agathorn\n",
       "4     493993            Alabama Black Snakes\n",
       "...      ...                             ...\n",
       "1030   37360          Odense Symfoniorkester\n",
       "1031  162784       Sjællands Symfoniorkester\n",
       "1032   10733  Sønderjyllands Symfoniorkester\n",
       "1033  369172         Aalborg Symfoniorkester\n",
       "1034  373862          Aarhus Symfoniorkester\n",
       "\n",
       "[1035 rows x 2 columns]"
      ],
      "text/html": [
       "<div>\n",
       "<style scoped>\n",
       "    .dataframe tbody tr th:only-of-type {\n",
       "        vertical-align: middle;\n",
       "    }\n",
       "\n",
       "    .dataframe tbody tr th {\n",
       "        vertical-align: top;\n",
       "    }\n",
       "\n",
       "    .dataframe thead th {\n",
       "        text-align: right;\n",
       "    }\n",
       "</style>\n",
       "<table border=\"1\" class=\"dataframe\">\n",
       "  <thead>\n",
       "    <tr style=\"text-align: right;\">\n",
       "      <th></th>\n",
       "      <th>pageid</th>\n",
       "      <th>title</th>\n",
       "    </tr>\n",
       "  </thead>\n",
       "  <tbody>\n",
       "    <tr>\n",
       "      <th>0</th>\n",
       "      <td>489818</td>\n",
       "      <td>A Friend in London</td>\n",
       "    </tr>\n",
       "    <tr>\n",
       "      <th>1</th>\n",
       "      <td>157530</td>\n",
       "      <td>Ache</td>\n",
       "    </tr>\n",
       "    <tr>\n",
       "      <th>2</th>\n",
       "      <td>255559</td>\n",
       "      <td>ADS (band)</td>\n",
       "    </tr>\n",
       "    <tr>\n",
       "      <th>3</th>\n",
       "      <td>976777</td>\n",
       "      <td>Agathorn</td>\n",
       "    </tr>\n",
       "    <tr>\n",
       "      <th>4</th>\n",
       "      <td>493993</td>\n",
       "      <td>Alabama Black Snakes</td>\n",
       "    </tr>\n",
       "    <tr>\n",
       "      <th>...</th>\n",
       "      <td>...</td>\n",
       "      <td>...</td>\n",
       "    </tr>\n",
       "    <tr>\n",
       "      <th>1030</th>\n",
       "      <td>37360</td>\n",
       "      <td>Odense Symfoniorkester</td>\n",
       "    </tr>\n",
       "    <tr>\n",
       "      <th>1031</th>\n",
       "      <td>162784</td>\n",
       "      <td>Sjællands Symfoniorkester</td>\n",
       "    </tr>\n",
       "    <tr>\n",
       "      <th>1032</th>\n",
       "      <td>10733</td>\n",
       "      <td>Sønderjyllands Symfoniorkester</td>\n",
       "    </tr>\n",
       "    <tr>\n",
       "      <th>1033</th>\n",
       "      <td>369172</td>\n",
       "      <td>Aalborg Symfoniorkester</td>\n",
       "    </tr>\n",
       "    <tr>\n",
       "      <th>1034</th>\n",
       "      <td>373862</td>\n",
       "      <td>Aarhus Symfoniorkester</td>\n",
       "    </tr>\n",
       "  </tbody>\n",
       "</table>\n",
       "<p>1035 rows × 2 columns</p>\n",
       "</div>"
      ]
     },
     "execution_count": 8,
     "metadata": {},
     "output_type": "execute_result"
    }
   ],
   "execution_count": 8
  },
  {
   "metadata": {
    "ExecuteTime": {
     "end_time": "2025-05-16T15:24:57.132627Z",
     "start_time": "2025-05-16T15:24:57.126470Z"
    }
   },
   "cell_type": "code",
   "source": "df_musicians",
   "outputs": [
    {
     "data": {
      "text/plain": [
       "       pageid                           title                            name\n",
       "0      178188                Peter Abrahamsen                Peter Abrahamsen\n",
       "1      200453               Troels Abrahamsen               Troels Abrahamsen\n",
       "2       85905                        Al Agami                        Al Agami\n",
       "3      233947                      Kuku Agami                      Kuku Agami\n",
       "4     1034198                      Alma Agger                      Alma Agger\n",
       "...       ...                             ...                             ...\n",
       "3084   930913                 Niklas Walentin                 Niklas Walentin\n",
       "3085   407771  Frederik Thorkildsen Wexschall  Frederik Thorkildsen Wexschall\n",
       "3086    86190                    Finn Ziegler                    Finn Ziegler\n",
       "3087   106266                 Nikolaj Znaider                 Nikolaj Znaider\n",
       "3088   835364               Christina Åstrand               Christina Åstrand\n",
       "\n",
       "[3089 rows x 3 columns]"
      ],
      "text/html": [
       "<div>\n",
       "<style scoped>\n",
       "    .dataframe tbody tr th:only-of-type {\n",
       "        vertical-align: middle;\n",
       "    }\n",
       "\n",
       "    .dataframe tbody tr th {\n",
       "        vertical-align: top;\n",
       "    }\n",
       "\n",
       "    .dataframe thead th {\n",
       "        text-align: right;\n",
       "    }\n",
       "</style>\n",
       "<table border=\"1\" class=\"dataframe\">\n",
       "  <thead>\n",
       "    <tr style=\"text-align: right;\">\n",
       "      <th></th>\n",
       "      <th>pageid</th>\n",
       "      <th>title</th>\n",
       "      <th>name</th>\n",
       "    </tr>\n",
       "  </thead>\n",
       "  <tbody>\n",
       "    <tr>\n",
       "      <th>0</th>\n",
       "      <td>178188</td>\n",
       "      <td>Peter Abrahamsen</td>\n",
       "      <td>Peter Abrahamsen</td>\n",
       "    </tr>\n",
       "    <tr>\n",
       "      <th>1</th>\n",
       "      <td>200453</td>\n",
       "      <td>Troels Abrahamsen</td>\n",
       "      <td>Troels Abrahamsen</td>\n",
       "    </tr>\n",
       "    <tr>\n",
       "      <th>2</th>\n",
       "      <td>85905</td>\n",
       "      <td>Al Agami</td>\n",
       "      <td>Al Agami</td>\n",
       "    </tr>\n",
       "    <tr>\n",
       "      <th>3</th>\n",
       "      <td>233947</td>\n",
       "      <td>Kuku Agami</td>\n",
       "      <td>Kuku Agami</td>\n",
       "    </tr>\n",
       "    <tr>\n",
       "      <th>4</th>\n",
       "      <td>1034198</td>\n",
       "      <td>Alma Agger</td>\n",
       "      <td>Alma Agger</td>\n",
       "    </tr>\n",
       "    <tr>\n",
       "      <th>...</th>\n",
       "      <td>...</td>\n",
       "      <td>...</td>\n",
       "      <td>...</td>\n",
       "    </tr>\n",
       "    <tr>\n",
       "      <th>3084</th>\n",
       "      <td>930913</td>\n",
       "      <td>Niklas Walentin</td>\n",
       "      <td>Niklas Walentin</td>\n",
       "    </tr>\n",
       "    <tr>\n",
       "      <th>3085</th>\n",
       "      <td>407771</td>\n",
       "      <td>Frederik Thorkildsen Wexschall</td>\n",
       "      <td>Frederik Thorkildsen Wexschall</td>\n",
       "    </tr>\n",
       "    <tr>\n",
       "      <th>3086</th>\n",
       "      <td>86190</td>\n",
       "      <td>Finn Ziegler</td>\n",
       "      <td>Finn Ziegler</td>\n",
       "    </tr>\n",
       "    <tr>\n",
       "      <th>3087</th>\n",
       "      <td>106266</td>\n",
       "      <td>Nikolaj Znaider</td>\n",
       "      <td>Nikolaj Znaider</td>\n",
       "    </tr>\n",
       "    <tr>\n",
       "      <th>3088</th>\n",
       "      <td>835364</td>\n",
       "      <td>Christina Åstrand</td>\n",
       "      <td>Christina Åstrand</td>\n",
       "    </tr>\n",
       "  </tbody>\n",
       "</table>\n",
       "<p>3089 rows × 3 columns</p>\n",
       "</div>"
      ]
     },
     "execution_count": 9,
     "metadata": {},
     "output_type": "execute_result"
    }
   ],
   "execution_count": 9
  }
 ],
 "metadata": {
  "kernelspec": {
   "display_name": "02467CSS",
   "language": "python",
   "name": "python3"
  },
  "language_info": {
   "codemirror_mode": {
    "name": "ipython",
    "version": 3
   },
   "file_extension": ".py",
   "mimetype": "text/x-python",
   "name": "python",
   "nbconvert_exporter": "python",
   "pygments_lexer": "ipython3",
   "version": "3.11.8"
  }
 },
 "nbformat": 4,
 "nbformat_minor": 2
}
