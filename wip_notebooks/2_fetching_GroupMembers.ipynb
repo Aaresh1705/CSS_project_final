{
 "cells": [
  {
   "metadata": {
    "ExecuteTime": {
     "end_time": "2025-05-16T15:23:23.285569Z",
     "start_time": "2025-05-16T15:23:23.282789Z"
    }
   },
   "cell_type": "code",
   "source": [
    "import sys\n",
    "from pathlib import Path\n",
    "\n",
    "parent = str(Path().resolve().parent)\n",
    "if parent not in sys.path:\n",
    "    sys.path.insert(0, parent)"
   ],
   "id": "40e037c420e0180e",
   "outputs": [],
   "execution_count": 1
  },
  {
   "metadata": {
    "ExecuteTime": {
     "end_time": "2025-05-16T15:23:26.969440Z",
     "start_time": "2025-05-16T15:23:26.307925Z"
    }
   },
   "cell_type": "code",
   "source": [
    "import pandas as pd\n",
    "\n",
    "from functions.member_fetch_functions import members_to_df, webscrape_members"
   ],
   "id": "d70c892a55ab9f8d",
   "outputs": [],
   "execution_count": 2
  },
  {
   "metadata": {
    "ExecuteTime": {
     "end_time": "2025-05-16T15:23:27.455016Z",
     "start_time": "2025-05-16T15:23:27.438463Z"
    }
   },
   "cell_type": "code",
   "source": [
    "df_musicans = pd.read_csv(\"../data/wip/musicians.csv\")\n",
    "df_groups = pd.read_csv(\"../data/wip/music_groups.csv\")"
   ],
   "id": "bceb3a4771004b07",
   "outputs": [],
   "execution_count": 3
  },
  {
   "metadata": {
    "ExecuteTime": {
     "end_time": "2025-05-16T15:33:59.719118Z",
     "start_time": "2025-05-16T15:23:28.575251Z"
    }
   },
   "cell_type": "code",
   "source": "df_groups[\"member\"] = df_groups[\"title\"].apply(members_to_df)",
   "id": "e272c7471436ed8a",
   "outputs": [],
   "execution_count": 4
  },
  {
   "cell_type": "code",
   "id": "1cb54119",
   "metadata": {
    "ExecuteTime": {
     "end_time": "2025-05-16T15:39:41.343744Z",
     "start_time": "2025-05-16T15:33:59.807671Z"
    }
   },
   "source": [
    "empty_member_indices = df_groups[df_groups[\"member\"].apply(lambda x: x == [])].index\n",
    "\n",
    "df_groups.loc[empty_member_indices, \"member\"] = df_groups.loc[empty_member_indices, \"title\"].apply(webscrape_members)"
   ],
   "outputs": [],
   "execution_count": 5
  },
  {
   "metadata": {
    "ExecuteTime": {
     "end_time": "2025-05-16T15:39:41.391928Z",
     "start_time": "2025-05-16T15:39:41.366654Z"
    }
   },
   "cell_type": "code",
   "source": [
    "# df_groups.to_csv(\"data/groups_wMembers.csv\", index=False)\n",
    "df_groups"
   ],
   "id": "b41f0a66a898e3ff",
   "outputs": [
    {
     "data": {
      "text/plain": [
       "      pageid                           title  \\\n",
       "0     489818              A Friend in London   \n",
       "1     157530                            Ache   \n",
       "2     255559                      ADS (band)   \n",
       "3     976777                        Agathorn   \n",
       "4     493993            Alabama Black Snakes   \n",
       "...      ...                             ...   \n",
       "1029   37360          Odense Symfoniorkester   \n",
       "1030  162784       Sjællands Symfoniorkester   \n",
       "1031   10733  Sønderjyllands Symfoniorkester   \n",
       "1032  369172         Aalborg Symfoniorkester   \n",
       "1033  373862          Aarhus Symfoniorkester   \n",
       "\n",
       "                                                 member  \n",
       "0                                           [Tim Schou]  \n",
       "1     [Per Wium, Peter Mellin, Finn Olafsson, Steen ...  \n",
       "2     [Michael \"Funder\" Thorlasius, Stig Pedersen, S...  \n",
       "3                                                    []  \n",
       "4                                                    []  \n",
       "...                                                 ...  \n",
       "1029                                                 []  \n",
       "1030                                                 []  \n",
       "1031                                                 []  \n",
       "1032                                                 []  \n",
       "1033                                                 []  \n",
       "\n",
       "[1034 rows x 3 columns]"
      ],
      "text/html": [
       "<div>\n",
       "<style scoped>\n",
       "    .dataframe tbody tr th:only-of-type {\n",
       "        vertical-align: middle;\n",
       "    }\n",
       "\n",
       "    .dataframe tbody tr th {\n",
       "        vertical-align: top;\n",
       "    }\n",
       "\n",
       "    .dataframe thead th {\n",
       "        text-align: right;\n",
       "    }\n",
       "</style>\n",
       "<table border=\"1\" class=\"dataframe\">\n",
       "  <thead>\n",
       "    <tr style=\"text-align: right;\">\n",
       "      <th></th>\n",
       "      <th>pageid</th>\n",
       "      <th>title</th>\n",
       "      <th>member</th>\n",
       "    </tr>\n",
       "  </thead>\n",
       "  <tbody>\n",
       "    <tr>\n",
       "      <th>0</th>\n",
       "      <td>489818</td>\n",
       "      <td>A Friend in London</td>\n",
       "      <td>[Tim Schou]</td>\n",
       "    </tr>\n",
       "    <tr>\n",
       "      <th>1</th>\n",
       "      <td>157530</td>\n",
       "      <td>Ache</td>\n",
       "      <td>[Per Wium, Peter Mellin, Finn Olafsson, Steen ...</td>\n",
       "    </tr>\n",
       "    <tr>\n",
       "      <th>2</th>\n",
       "      <td>255559</td>\n",
       "      <td>ADS (band)</td>\n",
       "      <td>[Michael \"Funder\" Thorlasius, Stig Pedersen, S...</td>\n",
       "    </tr>\n",
       "    <tr>\n",
       "      <th>3</th>\n",
       "      <td>976777</td>\n",
       "      <td>Agathorn</td>\n",
       "      <td>[]</td>\n",
       "    </tr>\n",
       "    <tr>\n",
       "      <th>4</th>\n",
       "      <td>493993</td>\n",
       "      <td>Alabama Black Snakes</td>\n",
       "      <td>[]</td>\n",
       "    </tr>\n",
       "    <tr>\n",
       "      <th>...</th>\n",
       "      <td>...</td>\n",
       "      <td>...</td>\n",
       "      <td>...</td>\n",
       "    </tr>\n",
       "    <tr>\n",
       "      <th>1029</th>\n",
       "      <td>37360</td>\n",
       "      <td>Odense Symfoniorkester</td>\n",
       "      <td>[]</td>\n",
       "    </tr>\n",
       "    <tr>\n",
       "      <th>1030</th>\n",
       "      <td>162784</td>\n",
       "      <td>Sjællands Symfoniorkester</td>\n",
       "      <td>[]</td>\n",
       "    </tr>\n",
       "    <tr>\n",
       "      <th>1031</th>\n",
       "      <td>10733</td>\n",
       "      <td>Sønderjyllands Symfoniorkester</td>\n",
       "      <td>[]</td>\n",
       "    </tr>\n",
       "    <tr>\n",
       "      <th>1032</th>\n",
       "      <td>369172</td>\n",
       "      <td>Aalborg Symfoniorkester</td>\n",
       "      <td>[]</td>\n",
       "    </tr>\n",
       "    <tr>\n",
       "      <th>1033</th>\n",
       "      <td>373862</td>\n",
       "      <td>Aarhus Symfoniorkester</td>\n",
       "      <td>[]</td>\n",
       "    </tr>\n",
       "  </tbody>\n",
       "</table>\n",
       "<p>1034 rows × 3 columns</p>\n",
       "</div>"
      ]
     },
     "execution_count": 6,
     "metadata": {},
     "output_type": "execute_result"
    }
   ],
   "execution_count": 6
  },
  {
   "metadata": {},
   "cell_type": "code",
   "outputs": [],
   "execution_count": null,
   "source": "",
   "id": "3e11fd4d09ab3c2e"
  }
 ],
 "metadata": {
  "kernelspec": {
   "display_name": "02467CSS",
   "language": "python",
   "name": "python3"
  },
  "language_info": {
   "codemirror_mode": {
    "name": "ipython",
    "version": 3
   },
   "file_extension": ".py",
   "mimetype": "text/x-python",
   "name": "python",
   "nbconvert_exporter": "python",
   "pygments_lexer": "ipython3",
   "version": "3.11.8"
  }
 },
 "nbformat": 4,
 "nbformat_minor": 5
}
