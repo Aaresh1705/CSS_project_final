{
 "cells": [
  {
   "metadata": {
    "ExecuteTime": {
     "end_time": "2025-05-16T15:37:10.561722Z",
     "start_time": "2025-05-16T15:37:10.553817Z"
    }
   },
   "cell_type": "code",
   "source": [
    "import sys\n",
    "from pathlib import Path\n",
    "\n",
    "parent = str(Path().resolve().parent)\n",
    "if parent not in sys.path:\n",
    "    sys.path.insert(0, parent)"
   ],
   "id": "518497686048f7be",
   "outputs": [],
   "execution_count": 2
  },
  {
   "metadata": {
    "ExecuteTime": {
     "end_time": "2025-05-16T15:37:11.449322Z",
     "start_time": "2025-05-16T15:37:10.641723Z"
    }
   },
   "cell_type": "code",
   "source": [
    "import numpy as np\n",
    "import pandas as pd\n",
    "\n",
    "df_groups = pd.read_csv(\"../data/wip/groups_wMembers_Text_Genres.csv\")\n",
    "df_api_genre = pd.read_csv(\"../data/wip/groups_wMembers_Text_APIGenres.csv\")"
   ],
   "id": "25585d2e5cddf23c",
   "outputs": [],
   "execution_count": 3
  },
  {
   "metadata": {
    "ExecuteTime": {
     "end_time": "2025-05-16T15:37:11.501567Z",
     "start_time": "2025-05-16T15:37:11.480429Z"
    }
   },
   "cell_type": "code",
   "source": [
    "music_genres = {\n",
    "    \"pop\": [\"pop\"],\n",
    "    \"schlager (dansk top)\": [\"dansk top\", \"dansktop\", \"dansk-top\", \"dansktopmusik\", \"schlager\"],\n",
    "    \"eurovision pop\": [\"melodi grand prix\", \"melodi grandprix\", \"melodigrandprix\", \"eurovision\", \"eurovision song contest\", \"eurovision musik\", \"mgp\"],\n",
    "    \"rock\": [\"rock\", \"rock'n'roll\", \"rock and roll\", \"rock & roll\", \"rocknroll\"],\n",
    "    \"indie rock\": [\"indie rock\", \"indie-rock\", \"indie/rock\", \"indierock\", \"indie\"],\n",
    "    \"alternative rock\": [\"alternative rock\", \"alt rock\", \"alt-rock\", \"alternativ rock\"],\n",
    "    \"heavy metal\": [\"heavy metal\", \"heavy\", \"hård metal\", \"heavy-metal\", \"metal\"],\n",
    "    \"death metal\": [\"death metal\", \"dødsmetal\", \"deathmetal\"],\n",
    "    \"black metal\": [\"black metal\", \"sort metal\", \"blackmetal\"],\n",
    "    \"thrash metal\": [\"thrash metal\", \"thrash\", \"thrashmetal\"],\n",
    "    \"doom metal\": [\"doom metal\", \"doom\", \"doommetal\"],\n",
    "    \"metalcore\": [\"metalcore\", \"metal core\", \"metal-core\"],\n",
    "    \"hardcore punk\": [\"hardcore punk\", \"hardcore\", \"hardcorepunk\", \"hc punk\", \"hc\"],\n",
    "    \"punk\": [\"punk rock\", \" punk\", \"punkrock\", \"punk-rock\", \"Incontrollados\"],\n",
    "    \"emo\": [\" emo \", \"emotional hardcore\", \"emocore\"],\n",
    "    \"grunge\": [\"grunge\", \"grungy\"],\n",
    "    \"jazz\": [\"jazz\", \"jazzy\", \" lounge \"],\n",
    "    \"blues\": [\"blues\", \"bluesy\"],\n",
    "    \"funk\": [\"funk \", \"funkey\", \"funky\", \" funk\", \"funket\", \"funk-\", \"funk/\", \"-funk\", \"/funk\"],\n",
    "    \"soul\": [\"soul\", \"soulmusik\"],\n",
    "    \"r&b\": [\"r&b\", \"rhythm and blues\", \" rnb \", \"r’n’b\", \"R&amp;B\"],\n",
    "    \"hip hop\": [\"hip hop\", \"hip-hop\", \"hiphop\", \" rap\"],\n",
    "    \"trap\": [\"trap\", \"trapmusik\"],\n",
    "    \"lo-fi\": [\"lo-fi\", \"lofi\", \"low fidelity\", \"lo fi\"],\n",
    "    \"electronic\": [\"electronic\", \"elektronisk\", \"electro\", \"electronica, elektro\"],\n",
    "    \"edm\": [\"edm\", \"electronic dance music\", \"elektronisk dansemusik\", \"dance-duo\", \"dance-gruppe\", \"danceduo, eurodance\"],\n",
    "    \"house\": [\"housemusic\", \"house music\", \"housegruppe\", \"house-gruppe\", \"house gruppe\", \"houseduo\"],\n",
    "    \"techno\": [\"techno\", \"tekno\", \"technomusik\"],\n",
    "    \"trance\": [\" trance\", \"trancemusic\"],\n",
    "    \"drum and bass\": [\"drum and bass\", \"drum & bass\", \"dnb\", \"drum n bass\"],\n",
    "    \"dubstep\": [\"dubstep\", \"dub step\"],\n",
    "    \"ambient\": [\"ambient\", \"ambient music\", \"ambience\"],\n",
    "    \"classical\": [\"klassisk musik\", \"classical music\", \"klassisk gruppe\", \"harmoniorkester\", \"kammerensemble\", \"klassisk ensemble\", \"symfoniorkester\"],\n",
    "    \"opera\": [\"opera\"],\n",
    "    \"folk\": [\"folk-\", \"folkemusik\", \"folk music\", \"folkrock\", \"folk/\"],\n",
    "    \"country\": [\"country\", \"countrymusik\", \"country music\"],\n",
    "    \"bluegrass\": [\"bluegrass\", \"blue grass\"],\n",
    "    \"reggae\": [\"reggae\", \"raggae\"],\n",
    "    \"dancehall\": [\"dancehall\"],\n",
    "    \"afrobeat\": [\"afrobeat\", \"afro beat\"],\n",
    "    \"afropop\": [\"afropop\", \"afro pop\"],\n",
    "    \"brass band\": [\"blæsermusik\", \"blæsemusik\", \"brass band\", \"brassband\",\"blæserkvintet\", \"marchmusik\", \"wind band\", \"wind ensemble\"],\n",
    "    \"world\": [\"world music\", \"verdensmusik\"],\n",
    "    \"latin\": [\" latin\", \"latin music\", \"latinsk\", \"latino\"],\n",
    "    \"salsa\": [\" salsa\"],\n",
    "    \"bossa nova\": [\"bossa nova\", \"bossanova\"],\n",
    "    \"flamenco\": [\"flamenco\"],\n",
    "    \"k-pop\": [\"k-pop\", \"kpop\", \"korean pop\"],\n",
    "    \"j-pop\": [\"j-pop\", \"jpop\", \"japanese pop\"],\n",
    "    \"c-pop\": [\"c-pop\", \"cpop\", \"chinese pop\"],\n",
    "    \"new age\": [\"new age\", \"new-age\", \"ny tids musik\", \"nytid\"],\n",
    "    \"experimental\": [\"experimental\", \"eksperimentel\", \"eksperimenterende musik\"],\n",
    "    \"industrial\": [\"industrial\", \"industriel\"],\n",
    "    \"noise\": [\" noise\", \"støjmusik\", \"noisecore\"],\n",
    "    \"shoegaze\": [\"shoegaze\", \"shoe gaze\"],\n",
    "    \"post-rock\": [\"post-rock\", \"post rock\", \"postrock\"],\n",
    "    \"post-punk\": [\"post-punk\", \"post punk\", \"postpunk\"],\n",
    "    \"synthpop\": [\"synthpop\", \"synth pop\", \"synth-pop\"],\n",
    "    \"dream pop\": [\"dream pop\", \"dreampop\", \"dream-pop\"],\n",
    "    \"garage rock\": [\"garage rock\", \"garage-rock\", \"garagerock\"],\n",
    "    \"progressive rock\": [\"progressive rock\", \"prog rock\", \"prog-rock\", \"progrock\"],\n",
    "    \"progressive metal\": [\"progressive metal\", \"prog metal\", \"prog-metal\", \"progmetal\"],\n",
    "    \"emo rap\": [\"emo rap\", \"emorap\", \"emo-rap\"],\n",
    "    \"hyperpop\": [\"hyperpop\", \"hyper pop\"],\n",
    "    \"phonk\": [\"phonk\", \"funky trap\"],\n",
    "    \"gospel\": [\"gospel\", \"gospelmusik\"],\n",
    "    \"choral\": [\"choral\", \"choral music\", \"choir music\", \"kormusik\", \"korgruppe\", \"kor gruppe\", \"kor-gruppe\", \"kor musik\", \"a cappella\", \"acapella\", \"vokalensemble\", \"vokalgruppe\"],\n",
    "    \"children\": [\"children\", \"børnemusik\", \"children's music\"],\n",
    "    \"theatre and entertainment\": [\"musical theatre\", \"musical theater\", \"teaterkoncerter\",\"teatergruppe\", \"satiregruppe\", \"musicals\", \"teatermusik\", \"musikteater\", \"musikalsk teater\", \"underholdningsorkester\", \"revy musik\"],\n",
    "    \"sound art\": [\"sound art\", \"lydkunst\", \"eksperimentel lyd\", \"audiokunst\", \"auditive fortolkninger af poesi\"]\n",
    "}\n",
    "\n",
    "def get_genre(text):\n",
    "    if not isinstance(text, str):\n",
    "        return [\"No text\"]\n",
    "\n",
    "    found_genres = []\n",
    "    for genre, keywords in music_genres.items():\n",
    "        if any(keyword in text.lower() for keyword in keywords):\n",
    "            found_genres.append(genre)\n",
    "    return found_genres"
   ],
   "id": "5803861795acbbe7",
   "outputs": [],
   "execution_count": 4
  },
  {
   "metadata": {
    "ExecuteTime": {
     "end_time": "2025-05-16T15:37:11.559519Z",
     "start_time": "2025-05-16T15:37:11.540067Z"
    }
   },
   "cell_type": "code",
   "source": [
    "empty_genre_idx = df_groups[df_groups['genres'].isna() | (df_groups['genres'] == '' ) | (df_groups[\"genres\"] == \"[]\")].index\n",
    "\n",
    "\n",
    "for idx in empty_genre_idx:\n",
    "    api_genre = df_api_genre.at[idx, 'genre']\n",
    "\n",
    "    if pd.notna(api_genre) and api_genre != \"Genre not found.\":\n",
    "        translated_genre = get_genre(api_genre)\n",
    "        df_groups.at[idx, 'genres'] = translated_genre"
   ],
   "id": "ecfc919273548c9b",
   "outputs": [],
   "execution_count": 5
  },
  {
   "metadata": {
    "ExecuteTime": {
     "end_time": "2025-05-16T15:37:11.615845Z",
     "start_time": "2025-05-16T15:37:11.593352Z"
    }
   },
   "cell_type": "code",
   "source": [
    "# Missing genres before and after\n",
    "print(len(empty_genre_idx))\n",
    "print(len(df_groups[df_groups['genres'].isna() | (df_groups['genres'] == '' ) | (df_groups[\"genres\"] == \"[]\")]))"
   ],
   "id": "ec6255cb3d26f0bb",
   "outputs": [
    {
     "name": "stdout",
     "output_type": "stream",
     "text": [
      "143\n",
      "112\n"
     ]
    }
   ],
   "execution_count": 6
  },
  {
   "metadata": {
    "ExecuteTime": {
     "end_time": "2025-05-16T15:39:53.205933Z",
     "start_time": "2025-05-16T15:39:53.202552Z"
    }
   },
   "cell_type": "code",
   "source": "#df_groups.to_csv(\"data/groups_wMembers_Text_Allgenres.csv\", index=False)",
   "id": "1082935f82831c5a",
   "outputs": [],
   "execution_count": 8
  },
  {
   "metadata": {},
   "cell_type": "code",
   "outputs": [],
   "execution_count": null,
   "source": "",
   "id": "d867dd36c5d96f2b"
  }
 ],
 "metadata": {
  "kernelspec": {
   "display_name": "02467CSS",
   "language": "python",
   "name": "python3"
  },
  "language_info": {
   "codemirror_mode": {
    "name": "ipython",
    "version": 3
   },
   "file_extension": ".py",
   "mimetype": "text/x-python",
   "name": "python",
   "nbconvert_exporter": "python",
   "pygments_lexer": "ipython3",
   "version": "3.11.8"
  }
 },
 "nbformat": 4,
 "nbformat_minor": 5
}
