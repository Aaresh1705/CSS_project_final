{
 "cells": [
  {
   "metadata": {
    "ExecuteTime": {
     "end_time": "2025-05-16T15:31:04.358033Z",
     "start_time": "2025-05-16T15:31:04.344096Z"
    }
   },
   "cell_type": "code",
   "source": [
    "import sys\n",
    "from pathlib import Path\n",
    "\n",
    "parent = str(Path().resolve().parent)\n",
    "if parent not in sys.path:\n",
    "    sys.path.insert(0, parent)"
   ],
   "id": "3d7d7393e92863e6",
   "outputs": [],
   "execution_count": 1
  },
  {
   "metadata": {
    "ExecuteTime": {
     "end_time": "2025-05-16T15:33:21.998994Z",
     "start_time": "2025-05-16T15:33:20.953911Z"
    }
   },
   "cell_type": "code",
   "source": [
    "import re\n",
    "import numpy as np\n",
    "import ast\n",
    "import pandas as pd\n",
    "import networkx as nx\n",
    "import matplotlib.pyplot as plt\n",
    "from collections import Counter\n",
    "import pickle"
   ],
   "id": "fcbe575e100664e2",
   "outputs": [],
   "execution_count": 2
  },
  {
   "metadata": {
    "ExecuteTime": {
     "end_time": "2025-05-16T15:33:23.679507Z",
     "start_time": "2025-05-16T15:33:23.664274Z"
    }
   },
   "cell_type": "code",
   "source": [
    "df_groups = pd.read_csv(\"../data/wip/groups_wMembers3.csv\")\n",
    "#df_groups[\"all_members\"] = df_groups[\"all_members\"].apply(ast.literal_eval)"
   ],
   "id": "1d4e24c00351d1a2",
   "outputs": [],
   "execution_count": 3
  },
  {
   "metadata": {
    "ExecuteTime": {
     "end_time": "2025-05-16T15:33:24.144019Z",
     "start_time": "2025-05-16T15:33:24.130515Z"
    }
   },
   "cell_type": "code",
   "source": [
    "df_groups = df_groups[[\"title\", \"all_members\"]]\n",
    "df_groups"
   ],
   "id": "791a544131e4a5e9",
   "outputs": [
    {
     "data": {
      "text/plain": [
       "                               title  \\\n",
       "0                 A Friend in London   \n",
       "1                               Ache   \n",
       "2                         ADS (band)   \n",
       "3                           Agathorn   \n",
       "4               Alabama Black Snakes   \n",
       "...                              ...   \n",
       "1029          Odense Symfoniorkester   \n",
       "1030       Sjællands Symfoniorkester   \n",
       "1031  Sønderjyllands Symfoniorkester   \n",
       "1032         Aalborg Symfoniorkester   \n",
       "1033          Aarhus Symfoniorkester   \n",
       "\n",
       "                                            all_members  \n",
       "0     ['Aske Damm Bramming', 'Esben Svane', 'Sebasti...  \n",
       "1     ['Finn Olafsson', 'Per Wium', 'Peter Mellin', ...  \n",
       "2     ['Karsten Hjarsø', 'Lars Top-Galia', 'Martin K...  \n",
       "3                                                    []  \n",
       "4     ['Gustav Pontoppidan', 'Hank Lee Tuffer', 'Jon...  \n",
       "...                                                 ...  \n",
       "1029  ['Alf Vestergaard', 'Anca Bold', 'Angelika Wag...  \n",
       "1030  ['Fritz O. Jacobsen', 'Harry Gram-Jensen', 'Il...  \n",
       "1031  ['Anne Augustinsson', 'Brian Quist Jørgensen',...  \n",
       "1032  ['Bettina Ejlerts Jensen', 'Bo Juel Christians...  \n",
       "1033  ['Ananna Lützhøft', 'Anders Larsen (2)', 'Anik...  \n",
       "\n",
       "[1034 rows x 2 columns]"
      ],
      "text/html": [
       "<div>\n",
       "<style scoped>\n",
       "    .dataframe tbody tr th:only-of-type {\n",
       "        vertical-align: middle;\n",
       "    }\n",
       "\n",
       "    .dataframe tbody tr th {\n",
       "        vertical-align: top;\n",
       "    }\n",
       "\n",
       "    .dataframe thead th {\n",
       "        text-align: right;\n",
       "    }\n",
       "</style>\n",
       "<table border=\"1\" class=\"dataframe\">\n",
       "  <thead>\n",
       "    <tr style=\"text-align: right;\">\n",
       "      <th></th>\n",
       "      <th>title</th>\n",
       "      <th>all_members</th>\n",
       "    </tr>\n",
       "  </thead>\n",
       "  <tbody>\n",
       "    <tr>\n",
       "      <th>0</th>\n",
       "      <td>A Friend in London</td>\n",
       "      <td>['Aske Damm Bramming', 'Esben Svane', 'Sebasti...</td>\n",
       "    </tr>\n",
       "    <tr>\n",
       "      <th>1</th>\n",
       "      <td>Ache</td>\n",
       "      <td>['Finn Olafsson', 'Per Wium', 'Peter Mellin', ...</td>\n",
       "    </tr>\n",
       "    <tr>\n",
       "      <th>2</th>\n",
       "      <td>ADS (band)</td>\n",
       "      <td>['Karsten Hjarsø', 'Lars Top-Galia', 'Martin K...</td>\n",
       "    </tr>\n",
       "    <tr>\n",
       "      <th>3</th>\n",
       "      <td>Agathorn</td>\n",
       "      <td>[]</td>\n",
       "    </tr>\n",
       "    <tr>\n",
       "      <th>4</th>\n",
       "      <td>Alabama Black Snakes</td>\n",
       "      <td>['Gustav Pontoppidan', 'Hank Lee Tuffer', 'Jon...</td>\n",
       "    </tr>\n",
       "    <tr>\n",
       "      <th>...</th>\n",
       "      <td>...</td>\n",
       "      <td>...</td>\n",
       "    </tr>\n",
       "    <tr>\n",
       "      <th>1029</th>\n",
       "      <td>Odense Symfoniorkester</td>\n",
       "      <td>['Alf Vestergaard', 'Anca Bold', 'Angelika Wag...</td>\n",
       "    </tr>\n",
       "    <tr>\n",
       "      <th>1030</th>\n",
       "      <td>Sjællands Symfoniorkester</td>\n",
       "      <td>['Fritz O. Jacobsen', 'Harry Gram-Jensen', 'Il...</td>\n",
       "    </tr>\n",
       "    <tr>\n",
       "      <th>1031</th>\n",
       "      <td>Sønderjyllands Symfoniorkester</td>\n",
       "      <td>['Anne Augustinsson', 'Brian Quist Jørgensen',...</td>\n",
       "    </tr>\n",
       "    <tr>\n",
       "      <th>1032</th>\n",
       "      <td>Aalborg Symfoniorkester</td>\n",
       "      <td>['Bettina Ejlerts Jensen', 'Bo Juel Christians...</td>\n",
       "    </tr>\n",
       "    <tr>\n",
       "      <th>1033</th>\n",
       "      <td>Aarhus Symfoniorkester</td>\n",
       "      <td>['Ananna Lützhøft', 'Anders Larsen (2)', 'Anik...</td>\n",
       "    </tr>\n",
       "  </tbody>\n",
       "</table>\n",
       "<p>1034 rows × 2 columns</p>\n",
       "</div>"
      ]
     },
     "execution_count": 4,
     "metadata": {},
     "output_type": "execute_result"
    }
   ],
   "execution_count": 4
  },
  {
   "cell_type": "markdown",
   "id": "9658d25a",
   "metadata": {},
   "source": [
    "### Group Musician Graph"
   ]
  },
  {
   "cell_type": "code",
   "id": "ce4692cc",
   "metadata": {
    "ExecuteTime": {
     "end_time": "2025-05-16T15:33:27.934028Z",
     "start_time": "2025-05-16T15:33:27.891609Z"
    }
   },
   "source": [
    "df_groups[\"edgelist\"] = df_groups.apply(lambda row: [(row[\"title\"], member) for member in ast.literal_eval(row[\"all_members\"])], axis=1)\n",
    "edgelist = [edge for sublist in df_groups[\"edgelist\"] for edge in sublist]"
   ],
   "outputs": [],
   "execution_count": 5
  },
  {
   "cell_type": "code",
   "id": "3b565519",
   "metadata": {
    "ExecuteTime": {
     "end_time": "2025-05-16T15:33:28.379973Z",
     "start_time": "2025-05-16T15:33:28.332194Z"
    }
   },
   "source": [
    "df_groups"
   ],
   "outputs": [
    {
     "data": {
      "text/plain": [
       "                               title  \\\n",
       "0                 A Friend in London   \n",
       "1                               Ache   \n",
       "2                         ADS (band)   \n",
       "3                           Agathorn   \n",
       "4               Alabama Black Snakes   \n",
       "...                              ...   \n",
       "1029          Odense Symfoniorkester   \n",
       "1030       Sjællands Symfoniorkester   \n",
       "1031  Sønderjyllands Symfoniorkester   \n",
       "1032         Aalborg Symfoniorkester   \n",
       "1033          Aarhus Symfoniorkester   \n",
       "\n",
       "                                            all_members  \\\n",
       "0     ['Aske Damm Bramming', 'Esben Svane', 'Sebasti...   \n",
       "1     ['Finn Olafsson', 'Per Wium', 'Peter Mellin', ...   \n",
       "2     ['Karsten Hjarsø', 'Lars Top-Galia', 'Martin K...   \n",
       "3                                                    []   \n",
       "4     ['Gustav Pontoppidan', 'Hank Lee Tuffer', 'Jon...   \n",
       "...                                                 ...   \n",
       "1029  ['Alf Vestergaard', 'Anca Bold', 'Angelika Wag...   \n",
       "1030  ['Fritz O. Jacobsen', 'Harry Gram-Jensen', 'Il...   \n",
       "1031  ['Anne Augustinsson', 'Brian Quist Jørgensen',...   \n",
       "1032  ['Bettina Ejlerts Jensen', 'Bo Juel Christians...   \n",
       "1033  ['Ananna Lützhøft', 'Anders Larsen (2)', 'Anik...   \n",
       "\n",
       "                                               edgelist  \n",
       "0     [(A Friend in London, Aske Damm Bramming), (A ...  \n",
       "1     [(Ache, Finn Olafsson), (Ache, Per Wium), (Ach...  \n",
       "2     [(ADS (band), Karsten Hjarsø), (ADS (band), La...  \n",
       "3                                                    []  \n",
       "4     [(Alabama Black Snakes, Gustav Pontoppidan), (...  \n",
       "...                                                 ...  \n",
       "1029  [(Odense Symfoniorkester, Alf Vestergaard), (O...  \n",
       "1030  [(Sjællands Symfoniorkester, Fritz O. Jacobsen...  \n",
       "1031  [(Sønderjyllands Symfoniorkester, Anne Augusti...  \n",
       "1032  [(Aalborg Symfoniorkester, Bettina Ejlerts Jen...  \n",
       "1033  [(Aarhus Symfoniorkester, Ananna Lützhøft), (A...  \n",
       "\n",
       "[1034 rows x 3 columns]"
      ],
      "text/html": [
       "<div>\n",
       "<style scoped>\n",
       "    .dataframe tbody tr th:only-of-type {\n",
       "        vertical-align: middle;\n",
       "    }\n",
       "\n",
       "    .dataframe tbody tr th {\n",
       "        vertical-align: top;\n",
       "    }\n",
       "\n",
       "    .dataframe thead th {\n",
       "        text-align: right;\n",
       "    }\n",
       "</style>\n",
       "<table border=\"1\" class=\"dataframe\">\n",
       "  <thead>\n",
       "    <tr style=\"text-align: right;\">\n",
       "      <th></th>\n",
       "      <th>title</th>\n",
       "      <th>all_members</th>\n",
       "      <th>edgelist</th>\n",
       "    </tr>\n",
       "  </thead>\n",
       "  <tbody>\n",
       "    <tr>\n",
       "      <th>0</th>\n",
       "      <td>A Friend in London</td>\n",
       "      <td>['Aske Damm Bramming', 'Esben Svane', 'Sebasti...</td>\n",
       "      <td>[(A Friend in London, Aske Damm Bramming), (A ...</td>\n",
       "    </tr>\n",
       "    <tr>\n",
       "      <th>1</th>\n",
       "      <td>Ache</td>\n",
       "      <td>['Finn Olafsson', 'Per Wium', 'Peter Mellin', ...</td>\n",
       "      <td>[(Ache, Finn Olafsson), (Ache, Per Wium), (Ach...</td>\n",
       "    </tr>\n",
       "    <tr>\n",
       "      <th>2</th>\n",
       "      <td>ADS (band)</td>\n",
       "      <td>['Karsten Hjarsø', 'Lars Top-Galia', 'Martin K...</td>\n",
       "      <td>[(ADS (band), Karsten Hjarsø), (ADS (band), La...</td>\n",
       "    </tr>\n",
       "    <tr>\n",
       "      <th>3</th>\n",
       "      <td>Agathorn</td>\n",
       "      <td>[]</td>\n",
       "      <td>[]</td>\n",
       "    </tr>\n",
       "    <tr>\n",
       "      <th>4</th>\n",
       "      <td>Alabama Black Snakes</td>\n",
       "      <td>['Gustav Pontoppidan', 'Hank Lee Tuffer', 'Jon...</td>\n",
       "      <td>[(Alabama Black Snakes, Gustav Pontoppidan), (...</td>\n",
       "    </tr>\n",
       "    <tr>\n",
       "      <th>...</th>\n",
       "      <td>...</td>\n",
       "      <td>...</td>\n",
       "      <td>...</td>\n",
       "    </tr>\n",
       "    <tr>\n",
       "      <th>1029</th>\n",
       "      <td>Odense Symfoniorkester</td>\n",
       "      <td>['Alf Vestergaard', 'Anca Bold', 'Angelika Wag...</td>\n",
       "      <td>[(Odense Symfoniorkester, Alf Vestergaard), (O...</td>\n",
       "    </tr>\n",
       "    <tr>\n",
       "      <th>1030</th>\n",
       "      <td>Sjællands Symfoniorkester</td>\n",
       "      <td>['Fritz O. Jacobsen', 'Harry Gram-Jensen', 'Il...</td>\n",
       "      <td>[(Sjællands Symfoniorkester, Fritz O. Jacobsen...</td>\n",
       "    </tr>\n",
       "    <tr>\n",
       "      <th>1031</th>\n",
       "      <td>Sønderjyllands Symfoniorkester</td>\n",
       "      <td>['Anne Augustinsson', 'Brian Quist Jørgensen',...</td>\n",
       "      <td>[(Sønderjyllands Symfoniorkester, Anne Augusti...</td>\n",
       "    </tr>\n",
       "    <tr>\n",
       "      <th>1032</th>\n",
       "      <td>Aalborg Symfoniorkester</td>\n",
       "      <td>['Bettina Ejlerts Jensen', 'Bo Juel Christians...</td>\n",
       "      <td>[(Aalborg Symfoniorkester, Bettina Ejlerts Jen...</td>\n",
       "    </tr>\n",
       "    <tr>\n",
       "      <th>1033</th>\n",
       "      <td>Aarhus Symfoniorkester</td>\n",
       "      <td>['Ananna Lützhøft', 'Anders Larsen (2)', 'Anik...</td>\n",
       "      <td>[(Aarhus Symfoniorkester, Ananna Lützhøft), (A...</td>\n",
       "    </tr>\n",
       "  </tbody>\n",
       "</table>\n",
       "<p>1034 rows × 3 columns</p>\n",
       "</div>"
      ]
     },
     "execution_count": 6,
     "metadata": {},
     "output_type": "execute_result"
    }
   ],
   "execution_count": 6
  },
  {
   "cell_type": "code",
   "id": "a3f685ff",
   "metadata": {
    "ExecuteTime": {
     "end_time": "2025-05-16T15:33:30.216204Z",
     "start_time": "2025-05-16T15:33:30.150056Z"
    }
   },
   "source": [
    "GroupMusicianG = nx.Graph()\n",
    "GroupMusicianG.add_edges_from(edgelist)"
   ],
   "outputs": [],
   "execution_count": 7
  },
  {
   "cell_type": "code",
   "id": "9bfcc426",
   "metadata": {
    "ExecuteTime": {
     "end_time": "2025-05-16T15:33:31.033658Z",
     "start_time": "2025-05-16T15:33:31.028668Z"
    }
   },
   "source": [
    "len(GroupMusicianG.nodes), len(GroupMusicianG.edges)"
   ],
   "outputs": [
    {
     "data": {
      "text/plain": [
       "(4931, 4645)"
      ]
     },
     "execution_count": 8,
     "metadata": {},
     "output_type": "execute_result"
    }
   ],
   "execution_count": 8
  },
  {
   "cell_type": "code",
   "id": "8af2cbd8",
   "metadata": {
    "ExecuteTime": {
     "end_time": "2025-05-16T15:33:31.832404Z",
     "start_time": "2025-05-16T15:33:31.823272Z"
    }
   },
   "source": [
    "list_of_connected_comp = list(nx.connected_components(GroupMusicianG))\n",
    "print(len(list_of_connected_comp)) # number of connected components"
   ],
   "outputs": [
    {
     "name": "stdout",
     "output_type": "stream",
     "text": [
      "480\n"
     ]
    }
   ],
   "execution_count": 9
  },
  {
   "cell_type": "code",
   "id": "007d97de",
   "metadata": {
    "ExecuteTime": {
     "end_time": "2025-05-16T15:33:32.331738Z",
     "start_time": "2025-05-16T15:33:32.328364Z"
    }
   },
   "source": [
    "sorted_list = sorted(list_of_connected_comp, key=len, reverse = True)\n",
    "lengths = [len(c) for c in sorted_list]"
   ],
   "outputs": [],
   "execution_count": 10
  },
  {
   "cell_type": "markdown",
   "id": "7c8aed58",
   "metadata": {},
   "source": [
    "### Group graph"
   ]
  },
  {
   "cell_type": "code",
   "id": "ba5edf34",
   "metadata": {
    "ExecuteTime": {
     "end_time": "2025-05-16T15:33:38.852378Z",
     "start_time": "2025-05-16T15:33:38.840472Z"
    }
   },
   "source": [
    "all_groups = list([group for group in df_groups[\"title\"].values if group in GroupMusicianG.nodes])\n",
    "GroupsG = nx.projected_graph(GroupMusicianG, all_groups, multigraph=False)"
   ],
   "outputs": [],
   "execution_count": 11
  },
  {
   "metadata": {
    "ExecuteTime": {
     "end_time": "2025-05-16T15:33:41.859468Z",
     "start_time": "2025-05-16T15:33:41.856367Z"
    }
   },
   "cell_type": "code",
   "source": [
    "# Save graph\n",
    "#with open(\"../data/wip/groups_graph.pkl\", \"wb\") as f:\n",
    "#    pickle.dump(GroupsG, f)"
   ],
   "id": "4391b1edb4c8f1e5",
   "outputs": [],
   "execution_count": 12
  },
  {
   "cell_type": "markdown",
   "id": "97e439cf",
   "metadata": {},
   "source": [
    "### Musician Graph"
   ]
  },
  {
   "cell_type": "code",
   "id": "1524b92a",
   "metadata": {
    "ExecuteTime": {
     "end_time": "2025-05-16T15:33:43.966204Z",
     "start_time": "2025-05-16T15:33:43.960750Z"
    }
   },
   "source": [
    "df_groups[\"all_members\"].values"
   ],
   "outputs": [
    {
     "data": {
      "text/plain": [
       "array([\"['Aske Damm Bramming', 'Esben Svane', 'Sebastian Vinther Olsen', 'Tim Schou']\",\n",
       "       \"['Finn Olafsson', 'Per Wium', 'Peter Mellin', 'Steen Toft Andersen', 'Torsten Olafsson']\",\n",
       "       \"['Karsten Hjarsø', 'Lars Top-Galia', 'Martin Krogh', 'Michael Funder Thorlasius', 'Peter Top-Jensen', 'Stig Pedersen', 'Søren Slys Johnsen']\",\n",
       "       ...,\n",
       "       \"['Anne Augustinsson', 'Brian Quist Jørgensen', 'Henrik Steensgaard', 'Jesper Hindø', 'Karsten Dalsgaard Madsen', 'Kristjan Orii Sigerleifsson', 'Lars Rimer', 'Niels Christian Lund Mathiesen', 'Nikolai Skliarevski', 'Peder Linneberg', 'Rumen Lukanov']\",\n",
       "       \"['Bettina Ejlerts Jensen', 'Bo Juel Christiansen', 'Claus Ettrup', 'Erik Sandberg (3)', 'Hanne Høy Houengaard', 'Ib Dirkov', 'Ida Marie Sørmo', 'Jacob Ringsmose', 'Jenny Sjöberg', 'Jette Rosendal', 'Judith Blauw', 'Karen Kjelds', 'Leah Aksnes', 'Lisbeth Binderup-Thordal', 'Marius Ungureanu', 'Mette Nielsen', 'Michael Hübner', 'Michael Pilgaard', 'Moshe Atzmon', 'Ruben Kristensen', 'Sheila Popkin', 'Simon Sigfusson', 'Vesselin Demirev', 'Vincent Stadlmair']\",\n",
       "       \"['Ananna Lützhøft', 'Anders Larsen (2)', 'Anika Telmányi', 'Anna Caroline Jensen', 'Arnold Baker (2)', 'Birgitte Bærentzen Pihl', 'Brian Friisholm', 'Christian Jørgensen (3)', 'Erik Beselin', 'Erik Søndergaard Jensen', 'Erwin Chmiel', 'Eugene Hye-Knudsen', 'Eva Paulin', 'Flemming Aksnes', 'Frank Christensen', 'Hans Stengaard', 'Henry Lützhøft', 'Ian van Rensburg', 'Jens Astrup', 'Jens Lund Madsen', 'Jens Vind', 'Jorma Panula', 'Katrin Sønnichsen', 'Klaus Gottlieb', 'Lars Karlin', 'Lars Kvist-Jensen', 'Laura Helasvuo Simonsen', 'Marc Soustrot', 'Martin Schuster (2)', 'Matthias von Niessen', 'Merete Hoffmann-Madsen', 'Morten Møller (2)', 'Nikolaj Lind Pedersen', 'Norman Del Mar', 'Pernille Jönsson', 'Poul Erik Jørgensen', 'Rolf Sandmark', 'Svend Rump Nielsen', 'Thomas Eisner', 'Todd Cadieux', 'Torben Mikkelsen', 'Tue Waaben Lauttrup', 'Vibeke Kærsgaard Lembcke']\"],\n",
       "      shape=(1034,), dtype=object)"
      ]
     },
     "execution_count": 13,
     "metadata": {},
     "output_type": "execute_result"
    }
   ],
   "execution_count": 13
  },
  {
   "cell_type": "code",
   "id": "1f17d61f",
   "metadata": {
    "ExecuteTime": {
     "end_time": "2025-05-16T15:33:46.773337Z",
     "start_time": "2025-05-16T15:33:46.640404Z"
    }
   },
   "source": [
    "all_musicians = list(np.unique([\n",
    "    str(member)\n",
    "    for row_list in df_groups[\"all_members\"].values\n",
    "    for member in ast.literal_eval(row_list)\n",
    "    if member in GroupMusicianG.nodes and member != ''\n",
    "]))\n",
    "all_musicians = [str(member) for member in all_musicians]\n",
    "\n",
    "MusiciansG = nx.projected_graph(GroupMusicianG, all_musicians, multigraph=False)"
   ],
   "outputs": [],
   "execution_count": 14
  },
  {
   "metadata": {
    "ExecuteTime": {
     "end_time": "2025-05-16T15:33:49.248546Z",
     "start_time": "2025-05-16T15:33:49.245680Z"
    }
   },
   "cell_type": "code",
   "source": [
    "# Save graph\n",
    "#with open(\"../data/wip/Musicians_graph.pkl\", \"wb\") as f:\n",
    "#    pickle.dump(MusiciansG, f)"
   ],
   "id": "903ab36f561ce24d",
   "outputs": [],
   "execution_count": 15
  },
  {
   "metadata": {},
   "cell_type": "code",
   "outputs": [],
   "execution_count": null,
   "source": "",
   "id": "61915277956c1d3c"
  }
 ],
 "metadata": {
  "kernelspec": {
   "display_name": "02467CSS",
   "language": "python",
   "name": "python3"
  },
  "language_info": {
   "codemirror_mode": {
    "name": "ipython",
    "version": 3
   },
   "file_extension": ".py",
   "mimetype": "text/x-python",
   "name": "python",
   "nbconvert_exporter": "python",
   "pygments_lexer": "ipython3",
   "version": "3.11.8"
  }
 },
 "nbformat": 4,
 "nbformat_minor": 5
}
