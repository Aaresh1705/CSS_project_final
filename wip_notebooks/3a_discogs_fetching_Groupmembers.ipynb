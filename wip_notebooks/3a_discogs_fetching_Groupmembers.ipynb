{
 "cells": [
  {
   "metadata": {
    "ExecuteTime": {
     "end_time": "2025-05-16T15:29:16.362897Z",
     "start_time": "2025-05-16T15:29:16.359841Z"
    }
   },
   "cell_type": "code",
   "source": [
    "import sys\n",
    "from pathlib import Path\n",
    "\n",
    "parent = str(Path().resolve().parent)\n",
    "if parent not in sys.path:\n",
    "    sys.path.insert(0, parent)"
   ],
   "id": "874052233c980438",
   "outputs": [],
   "execution_count": 1
  },
  {
   "metadata": {
    "ExecuteTime": {
     "end_time": "2025-05-16T15:29:17.186833Z",
     "start_time": "2025-05-16T15:29:16.783675Z"
    }
   },
   "cell_type": "code",
   "source": [
    "#download python3-discogs-client\n",
    "import discogs_client\n",
    "import pandas as pd\n",
    "import ast\n",
    "import numpy as np"
   ],
   "id": "a44351f63c8f22f",
   "outputs": [],
   "execution_count": 2
  },
  {
   "metadata": {
    "ExecuteTime": {
     "end_time": "2025-05-16T15:29:17.960005Z",
     "start_time": "2025-05-16T15:29:17.684583Z"
    }
   },
   "cell_type": "code",
   "source": [
    "consumer_key = 'ykUodTXeeVzqTJkACRzX'\n",
    "consumer_secret = 'fOWGGoeHRESxkDPVoPFQKJBaTtDrFFRn'\n",
    "\n",
    "d = discogs_client.Client('CSS_memberfetch/1.0', consumer_key=consumer_key, consumer_secret=consumer_secret)\n",
    "\n",
    "# Generate the authorize URL\n",
    "request_token, request_token_secret, authorize_url = d.get_authorize_url()"
   ],
   "id": "8992734bd67becbc",
   "outputs": [],
   "execution_count": 3
  },
  {
   "metadata": {
    "ExecuteTime": {
     "end_time": "2025-05-16T15:29:19.364114Z",
     "start_time": "2025-05-16T15:29:19.355917Z"
    }
   },
   "cell_type": "code",
   "source": "authorize_url",
   "id": "6ada99e7b4459a2c",
   "outputs": [
    {
     "data": {
      "text/plain": [
       "'https://www.discogs.com/oauth/authorize?oauth_token=COcpVsMuHmhciYYJLKvKtPpiJwMaVVDLzHyKHpnE'"
      ]
     },
     "execution_count": 4,
     "metadata": {},
     "output_type": "execute_result"
    }
   ],
   "execution_count": 4
  },
  {
   "metadata": {
    "ExecuteTime": {
     "end_time": "2025-05-16T15:29:47.983319Z",
     "start_time": "2025-05-16T15:29:47.052627Z"
    }
   },
   "cell_type": "code",
   "source": [
    "# After authorization, Discogs will give you a verifier code\n",
    "verifier = 'pEbSxZwxhr'\n",
    "# Get the access token\n",
    "access_token, access_token_secret = d.get_access_token(verifier)\n",
    "#lad vær med at køre det her mere end 1 gang, så får man fejl."
   ],
   "id": "8296bc8f957f4fb3",
   "outputs": [],
   "execution_count": 5
  },
  {
   "metadata": {
    "ExecuteTime": {
     "end_time": "2025-05-16T15:29:48.562358Z",
     "start_time": "2025-05-16T15:29:48.559180Z"
    }
   },
   "cell_type": "code",
   "source": "d.set_token(access_token, access_token_secret)",
   "id": "b7bc28c8ef880f93",
   "outputs": [],
   "execution_count": 6
  },
  {
   "metadata": {
    "ExecuteTime": {
     "end_time": "2025-05-16T15:29:49.669557Z",
     "start_time": "2025-05-16T15:29:49.665156Z"
    }
   },
   "cell_type": "code",
   "source": [
    "def get_discogs_members(band_name):\n",
    "    \n",
    "    if band_name[-7:]==\" (band)\": # to avoid (band) ending for messing up search results\n",
    "        band_name = band_name[:-7]\n",
    "    \n",
    "    results = d.search(band_name, type='artist') \n",
    "    if len(results)>0:\n",
    "        i = 0\n",
    "        while i < len(results):\n",
    "            artist = results[i]\n",
    "            if artist.name.lower() in band_name.lower():\n",
    "                break\n",
    "            i += 1\n",
    "        \n",
    "        if i != len(results):\n",
    "            try:\n",
    "                if hasattr(artist, 'members'):\n",
    "                    return [member.name for member in artist.members]\n",
    "            except discogs_client.exceptions.HTTPError as e:\n",
    "                pass\n",
    "    return []\n",
    "    "
   ],
   "id": "f4f24b6d5d1da14d",
   "outputs": [],
   "execution_count": 7
  },
  {
   "cell_type": "code",
   "id": "b62374b8",
   "metadata": {
    "ExecuteTime": {
     "end_time": "2025-05-16T15:29:53.160679Z",
     "start_time": "2025-05-16T15:29:53.156646Z"
    }
   },
   "source": [
    "# problem: nogle gange står navnene i profile afsnit"
   ],
   "outputs": [],
   "execution_count": 8
  },
  {
   "cell_type": "code",
   "id": "8e7656d4",
   "metadata": {
    "ExecuteTime": {
     "end_time": "2025-05-16T15:29:54.910795Z",
     "start_time": "2025-05-16T15:29:54.888832Z"
    }
   },
   "source": [
    "df_groups = pd.read_csv(\"../data/wip/groups_wMembers.csv\")\n",
    "df_discgroups = pd.read_csv(\"../data/wip/groups_wMembers2.csv\")\n",
    "df_groups = df_groups.drop(\"member\", axis = 1)"
   ],
   "outputs": [],
   "execution_count": 9
  },
  {
   "cell_type": "markdown",
   "id": "fda8ccb8",
   "metadata": {},
   "source": [
    "### New fetch of the members where wiki-scraping only returned 1 member"
   ]
  },
  {
   "cell_type": "code",
   "id": "ff360812",
   "metadata": {
    "ExecuteTime": {
     "end_time": "2025-05-16T15:29:58.331766Z",
     "start_time": "2025-05-16T15:29:58.327367Z"
    }
   },
   "source": [
    "df_discgroups[\"disc_members\"] = [[] for _ in range(len(df_discgroups))]"
   ],
   "outputs": [],
   "execution_count": 10
  },
  {
   "cell_type": "code",
   "id": "6e32d09b",
   "metadata": {
    "ExecuteTime": {
     "end_time": "2025-05-16T15:29:59.029587Z",
     "start_time": "2025-05-16T15:29:59.016804Z"
    }
   },
   "source": [
    "df_discgroups"
   ],
   "outputs": [
    {
     "data": {
      "text/plain": [
       "      pageid                           title  \\\n",
       "0     489818              A Friend in London   \n",
       "1     157530                            Ache   \n",
       "2     255559                      ADS (band)   \n",
       "3     976777                        Agathorn   \n",
       "4     493993            Alabama Black Snakes   \n",
       "...      ...                             ...   \n",
       "1029   37360          Odense Symfoniorkester   \n",
       "1030  162784       Sjællands Symfoniorkester   \n",
       "1031   10733  Sønderjyllands Symfoniorkester   \n",
       "1032  369172         Aalborg Symfoniorkester   \n",
       "1033  373862          Aarhus Symfoniorkester   \n",
       "\n",
       "                                         cleaned_member disc_members  \n",
       "0                                         ['Tim Schou']           []  \n",
       "1     ['Per Wium', 'Peter Mellin', 'Finn Olafsson', ...           []  \n",
       "2     ['Michael Funder Thorlasius', 'Stig Pedersen',...           []  \n",
       "3                                                    []           []  \n",
       "4     ['Jonas Jessen', 'Hank Lee Tuffer', 'Mads Øste...           []  \n",
       "...                                                 ...          ...  \n",
       "1029  ['Bjarne Hansen', 'Ulrike Kipp', 'Michaela Fuk...           []  \n",
       "1030  ['Ole Böhn', 'Harry Gram-Jensen', 'Fritz O. Ja...           []  \n",
       "1031  ['Anne Augustinsson', 'Jesper Hindø', 'Nikolai...           []  \n",
       "1032  ['Marius Ungureanu', 'Ib Dirkov', 'Moshe Atzmo...           []  \n",
       "1033  ['Eugene Hye-Knudsen', 'Marc Soustrot', 'Svend...           []  \n",
       "\n",
       "[1034 rows x 4 columns]"
      ],
      "text/html": [
       "<div>\n",
       "<style scoped>\n",
       "    .dataframe tbody tr th:only-of-type {\n",
       "        vertical-align: middle;\n",
       "    }\n",
       "\n",
       "    .dataframe tbody tr th {\n",
       "        vertical-align: top;\n",
       "    }\n",
       "\n",
       "    .dataframe thead th {\n",
       "        text-align: right;\n",
       "    }\n",
       "</style>\n",
       "<table border=\"1\" class=\"dataframe\">\n",
       "  <thead>\n",
       "    <tr style=\"text-align: right;\">\n",
       "      <th></th>\n",
       "      <th>pageid</th>\n",
       "      <th>title</th>\n",
       "      <th>cleaned_member</th>\n",
       "      <th>disc_members</th>\n",
       "    </tr>\n",
       "  </thead>\n",
       "  <tbody>\n",
       "    <tr>\n",
       "      <th>0</th>\n",
       "      <td>489818</td>\n",
       "      <td>A Friend in London</td>\n",
       "      <td>['Tim Schou']</td>\n",
       "      <td>[]</td>\n",
       "    </tr>\n",
       "    <tr>\n",
       "      <th>1</th>\n",
       "      <td>157530</td>\n",
       "      <td>Ache</td>\n",
       "      <td>['Per Wium', 'Peter Mellin', 'Finn Olafsson', ...</td>\n",
       "      <td>[]</td>\n",
       "    </tr>\n",
       "    <tr>\n",
       "      <th>2</th>\n",
       "      <td>255559</td>\n",
       "      <td>ADS (band)</td>\n",
       "      <td>['Michael Funder Thorlasius', 'Stig Pedersen',...</td>\n",
       "      <td>[]</td>\n",
       "    </tr>\n",
       "    <tr>\n",
       "      <th>3</th>\n",
       "      <td>976777</td>\n",
       "      <td>Agathorn</td>\n",
       "      <td>[]</td>\n",
       "      <td>[]</td>\n",
       "    </tr>\n",
       "    <tr>\n",
       "      <th>4</th>\n",
       "      <td>493993</td>\n",
       "      <td>Alabama Black Snakes</td>\n",
       "      <td>['Jonas Jessen', 'Hank Lee Tuffer', 'Mads Øste...</td>\n",
       "      <td>[]</td>\n",
       "    </tr>\n",
       "    <tr>\n",
       "      <th>...</th>\n",
       "      <td>...</td>\n",
       "      <td>...</td>\n",
       "      <td>...</td>\n",
       "      <td>...</td>\n",
       "    </tr>\n",
       "    <tr>\n",
       "      <th>1029</th>\n",
       "      <td>37360</td>\n",
       "      <td>Odense Symfoniorkester</td>\n",
       "      <td>['Bjarne Hansen', 'Ulrike Kipp', 'Michaela Fuk...</td>\n",
       "      <td>[]</td>\n",
       "    </tr>\n",
       "    <tr>\n",
       "      <th>1030</th>\n",
       "      <td>162784</td>\n",
       "      <td>Sjællands Symfoniorkester</td>\n",
       "      <td>['Ole Böhn', 'Harry Gram-Jensen', 'Fritz O. Ja...</td>\n",
       "      <td>[]</td>\n",
       "    </tr>\n",
       "    <tr>\n",
       "      <th>1031</th>\n",
       "      <td>10733</td>\n",
       "      <td>Sønderjyllands Symfoniorkester</td>\n",
       "      <td>['Anne Augustinsson', 'Jesper Hindø', 'Nikolai...</td>\n",
       "      <td>[]</td>\n",
       "    </tr>\n",
       "    <tr>\n",
       "      <th>1032</th>\n",
       "      <td>369172</td>\n",
       "      <td>Aalborg Symfoniorkester</td>\n",
       "      <td>['Marius Ungureanu', 'Ib Dirkov', 'Moshe Atzmo...</td>\n",
       "      <td>[]</td>\n",
       "    </tr>\n",
       "    <tr>\n",
       "      <th>1033</th>\n",
       "      <td>373862</td>\n",
       "      <td>Aarhus Symfoniorkester</td>\n",
       "      <td>['Eugene Hye-Knudsen', 'Marc Soustrot', 'Svend...</td>\n",
       "      <td>[]</td>\n",
       "    </tr>\n",
       "  </tbody>\n",
       "</table>\n",
       "<p>1034 rows × 4 columns</p>\n",
       "</div>"
      ]
     },
     "execution_count": 11,
     "metadata": {},
     "output_type": "execute_result"
    }
   ],
   "execution_count": 11
  },
  {
   "cell_type": "code",
   "id": "7557439f",
   "metadata": {
    "ExecuteTime": {
     "end_time": "2025-05-16T15:30:01.338507Z",
     "start_time": "2025-05-16T15:30:01.314370Z"
    }
   },
   "source": [
    "# getting indexs of relevant rows\n",
    "missing_members = df_discgroups[df_discgroups[\"cleaned_member\"].apply(lambda x: len(ast.literal_eval(x))<=1)].index\n",
    "wiki_indices = df_groups[df_groups[\"cleaned_member\"].apply(lambda x: x != \"[]\")].index\n",
    "members_to_check = [i for i in missing_members if i in wiki_indices]"
   ],
   "outputs": [],
   "execution_count": 12
  },
  {
   "cell_type": "code",
   "id": "043087e0",
   "metadata": {
    "ExecuteTime": {
     "end_time": "2025-05-16T15:30:23.140082Z",
     "start_time": "2025-05-16T15:30:02.394425Z"
    }
   },
   "source": [
    "df_discgroups.loc[members_to_check, 'disc_members'] = df_discgroups.loc[members_to_check, 'title'].apply(get_discogs_members)"
   ],
   "outputs": [
    {
     "ename": "HTTPError",
     "evalue": "429: You are making requests too quickly.",
     "output_type": "error",
     "traceback": [
      "\u001B[31m---------------------------------------------------------------------------\u001B[39m",
      "\u001B[31mHTTPError\u001B[39m                                 Traceback (most recent call last)",
      "\u001B[36mCell\u001B[39m\u001B[36m \u001B[39m\u001B[32mIn[13]\u001B[39m\u001B[32m, line 1\u001B[39m\n\u001B[32m----> \u001B[39m\u001B[32m1\u001B[39m df_discgroups.loc[members_to_check, \u001B[33m'\u001B[39m\u001B[33mdisc_members\u001B[39m\u001B[33m'\u001B[39m] = \u001B[43mdf_discgroups\u001B[49m\u001B[43m.\u001B[49m\u001B[43mloc\u001B[49m\u001B[43m[\u001B[49m\u001B[43mmembers_to_check\u001B[49m\u001B[43m,\u001B[49m\u001B[43m \u001B[49m\u001B[33;43m'\u001B[39;49m\u001B[33;43mtitle\u001B[39;49m\u001B[33;43m'\u001B[39;49m\u001B[43m]\u001B[49m\u001B[43m.\u001B[49m\u001B[43mapply\u001B[49m\u001B[43m(\u001B[49m\u001B[43mget_discogs_members\u001B[49m\u001B[43m)\u001B[49m\n",
      "\u001B[36mFile \u001B[39m\u001B[32m~/Documents/Computational social science/.venv/lib/python3.12/site-packages/pandas/core/series.py:4924\u001B[39m, in \u001B[36mSeries.apply\u001B[39m\u001B[34m(self, func, convert_dtype, args, by_row, **kwargs)\u001B[39m\n\u001B[32m   4789\u001B[39m \u001B[38;5;28;01mdef\u001B[39;00m\u001B[38;5;250m \u001B[39m\u001B[34mapply\u001B[39m(\n\u001B[32m   4790\u001B[39m     \u001B[38;5;28mself\u001B[39m,\n\u001B[32m   4791\u001B[39m     func: AggFuncType,\n\u001B[32m   (...)\u001B[39m\u001B[32m   4796\u001B[39m     **kwargs,\n\u001B[32m   4797\u001B[39m ) -> DataFrame | Series:\n\u001B[32m   4798\u001B[39m \u001B[38;5;250m    \u001B[39m\u001B[33;03m\"\"\"\u001B[39;00m\n\u001B[32m   4799\u001B[39m \u001B[33;03m    Invoke function on values of Series.\u001B[39;00m\n\u001B[32m   4800\u001B[39m \n\u001B[32m   (...)\u001B[39m\u001B[32m   4915\u001B[39m \u001B[33;03m    dtype: float64\u001B[39;00m\n\u001B[32m   4916\u001B[39m \u001B[33;03m    \"\"\"\u001B[39;00m\n\u001B[32m   4917\u001B[39m     \u001B[38;5;28;01mreturn\u001B[39;00m \u001B[43mSeriesApply\u001B[49m\u001B[43m(\u001B[49m\n\u001B[32m   4918\u001B[39m \u001B[43m        \u001B[49m\u001B[38;5;28;43mself\u001B[39;49m\u001B[43m,\u001B[49m\n\u001B[32m   4919\u001B[39m \u001B[43m        \u001B[49m\u001B[43mfunc\u001B[49m\u001B[43m,\u001B[49m\n\u001B[32m   4920\u001B[39m \u001B[43m        \u001B[49m\u001B[43mconvert_dtype\u001B[49m\u001B[43m=\u001B[49m\u001B[43mconvert_dtype\u001B[49m\u001B[43m,\u001B[49m\n\u001B[32m   4921\u001B[39m \u001B[43m        \u001B[49m\u001B[43mby_row\u001B[49m\u001B[43m=\u001B[49m\u001B[43mby_row\u001B[49m\u001B[43m,\u001B[49m\n\u001B[32m   4922\u001B[39m \u001B[43m        \u001B[49m\u001B[43margs\u001B[49m\u001B[43m=\u001B[49m\u001B[43margs\u001B[49m\u001B[43m,\u001B[49m\n\u001B[32m   4923\u001B[39m \u001B[43m        \u001B[49m\u001B[43mkwargs\u001B[49m\u001B[43m=\u001B[49m\u001B[43mkwargs\u001B[49m\u001B[43m,\u001B[49m\n\u001B[32m-> \u001B[39m\u001B[32m4924\u001B[39m \u001B[43m    \u001B[49m\u001B[43m)\u001B[49m\u001B[43m.\u001B[49m\u001B[43mapply\u001B[49m\u001B[43m(\u001B[49m\u001B[43m)\u001B[49m\n",
      "\u001B[36mFile \u001B[39m\u001B[32m~/Documents/Computational social science/.venv/lib/python3.12/site-packages/pandas/core/apply.py:1427\u001B[39m, in \u001B[36mSeriesApply.apply\u001B[39m\u001B[34m(self)\u001B[39m\n\u001B[32m   1424\u001B[39m     \u001B[38;5;28;01mreturn\u001B[39;00m \u001B[38;5;28mself\u001B[39m.apply_compat()\n\u001B[32m   1426\u001B[39m \u001B[38;5;66;03m# self.func is Callable\u001B[39;00m\n\u001B[32m-> \u001B[39m\u001B[32m1427\u001B[39m \u001B[38;5;28;01mreturn\u001B[39;00m \u001B[38;5;28;43mself\u001B[39;49m\u001B[43m.\u001B[49m\u001B[43mapply_standard\u001B[49m\u001B[43m(\u001B[49m\u001B[43m)\u001B[49m\n",
      "\u001B[36mFile \u001B[39m\u001B[32m~/Documents/Computational social science/.venv/lib/python3.12/site-packages/pandas/core/apply.py:1507\u001B[39m, in \u001B[36mSeriesApply.apply_standard\u001B[39m\u001B[34m(self)\u001B[39m\n\u001B[32m   1501\u001B[39m \u001B[38;5;66;03m# row-wise access\u001B[39;00m\n\u001B[32m   1502\u001B[39m \u001B[38;5;66;03m# apply doesn't have a `na_action` keyword and for backward compat reasons\u001B[39;00m\n\u001B[32m   1503\u001B[39m \u001B[38;5;66;03m# we need to give `na_action=\"ignore\"` for categorical data.\u001B[39;00m\n\u001B[32m   1504\u001B[39m \u001B[38;5;66;03m# TODO: remove the `na_action=\"ignore\"` when that default has been changed in\u001B[39;00m\n\u001B[32m   1505\u001B[39m \u001B[38;5;66;03m#  Categorical (GH51645).\u001B[39;00m\n\u001B[32m   1506\u001B[39m action = \u001B[33m\"\u001B[39m\u001B[33mignore\u001B[39m\u001B[33m\"\u001B[39m \u001B[38;5;28;01mif\u001B[39;00m \u001B[38;5;28misinstance\u001B[39m(obj.dtype, CategoricalDtype) \u001B[38;5;28;01melse\u001B[39;00m \u001B[38;5;28;01mNone\u001B[39;00m\n\u001B[32m-> \u001B[39m\u001B[32m1507\u001B[39m mapped = \u001B[43mobj\u001B[49m\u001B[43m.\u001B[49m\u001B[43m_map_values\u001B[49m\u001B[43m(\u001B[49m\n\u001B[32m   1508\u001B[39m \u001B[43m    \u001B[49m\u001B[43mmapper\u001B[49m\u001B[43m=\u001B[49m\u001B[43mcurried\u001B[49m\u001B[43m,\u001B[49m\u001B[43m \u001B[49m\u001B[43mna_action\u001B[49m\u001B[43m=\u001B[49m\u001B[43maction\u001B[49m\u001B[43m,\u001B[49m\u001B[43m \u001B[49m\u001B[43mconvert\u001B[49m\u001B[43m=\u001B[49m\u001B[38;5;28;43mself\u001B[39;49m\u001B[43m.\u001B[49m\u001B[43mconvert_dtype\u001B[49m\n\u001B[32m   1509\u001B[39m \u001B[43m\u001B[49m\u001B[43m)\u001B[49m\n\u001B[32m   1511\u001B[39m \u001B[38;5;28;01mif\u001B[39;00m \u001B[38;5;28mlen\u001B[39m(mapped) \u001B[38;5;129;01mand\u001B[39;00m \u001B[38;5;28misinstance\u001B[39m(mapped[\u001B[32m0\u001B[39m], ABCSeries):\n\u001B[32m   1512\u001B[39m     \u001B[38;5;66;03m# GH#43986 Need to do list(mapped) in order to get treated as nested\u001B[39;00m\n\u001B[32m   1513\u001B[39m     \u001B[38;5;66;03m#  See also GH#25959 regarding EA support\u001B[39;00m\n\u001B[32m   1514\u001B[39m     \u001B[38;5;28;01mreturn\u001B[39;00m obj._constructor_expanddim(\u001B[38;5;28mlist\u001B[39m(mapped), index=obj.index)\n",
      "\u001B[36mFile \u001B[39m\u001B[32m~/Documents/Computational social science/.venv/lib/python3.12/site-packages/pandas/core/base.py:921\u001B[39m, in \u001B[36mIndexOpsMixin._map_values\u001B[39m\u001B[34m(self, mapper, na_action, convert)\u001B[39m\n\u001B[32m    918\u001B[39m \u001B[38;5;28;01mif\u001B[39;00m \u001B[38;5;28misinstance\u001B[39m(arr, ExtensionArray):\n\u001B[32m    919\u001B[39m     \u001B[38;5;28;01mreturn\u001B[39;00m arr.map(mapper, na_action=na_action)\n\u001B[32m--> \u001B[39m\u001B[32m921\u001B[39m \u001B[38;5;28;01mreturn\u001B[39;00m \u001B[43malgorithms\u001B[49m\u001B[43m.\u001B[49m\u001B[43mmap_array\u001B[49m\u001B[43m(\u001B[49m\u001B[43marr\u001B[49m\u001B[43m,\u001B[49m\u001B[43m \u001B[49m\u001B[43mmapper\u001B[49m\u001B[43m,\u001B[49m\u001B[43m \u001B[49m\u001B[43mna_action\u001B[49m\u001B[43m=\u001B[49m\u001B[43mna_action\u001B[49m\u001B[43m,\u001B[49m\u001B[43m \u001B[49m\u001B[43mconvert\u001B[49m\u001B[43m=\u001B[49m\u001B[43mconvert\u001B[49m\u001B[43m)\u001B[49m\n",
      "\u001B[36mFile \u001B[39m\u001B[32m~/Documents/Computational social science/.venv/lib/python3.12/site-packages/pandas/core/algorithms.py:1743\u001B[39m, in \u001B[36mmap_array\u001B[39m\u001B[34m(arr, mapper, na_action, convert)\u001B[39m\n\u001B[32m   1741\u001B[39m values = arr.astype(\u001B[38;5;28mobject\u001B[39m, copy=\u001B[38;5;28;01mFalse\u001B[39;00m)\n\u001B[32m   1742\u001B[39m \u001B[38;5;28;01mif\u001B[39;00m na_action \u001B[38;5;129;01mis\u001B[39;00m \u001B[38;5;28;01mNone\u001B[39;00m:\n\u001B[32m-> \u001B[39m\u001B[32m1743\u001B[39m     \u001B[38;5;28;01mreturn\u001B[39;00m \u001B[43mlib\u001B[49m\u001B[43m.\u001B[49m\u001B[43mmap_infer\u001B[49m\u001B[43m(\u001B[49m\u001B[43mvalues\u001B[49m\u001B[43m,\u001B[49m\u001B[43m \u001B[49m\u001B[43mmapper\u001B[49m\u001B[43m,\u001B[49m\u001B[43m \u001B[49m\u001B[43mconvert\u001B[49m\u001B[43m=\u001B[49m\u001B[43mconvert\u001B[49m\u001B[43m)\u001B[49m\n\u001B[32m   1744\u001B[39m \u001B[38;5;28;01melse\u001B[39;00m:\n\u001B[32m   1745\u001B[39m     \u001B[38;5;28;01mreturn\u001B[39;00m lib.map_infer_mask(\n\u001B[32m   1746\u001B[39m         values, mapper, mask=isna(values).view(np.uint8), convert=convert\n\u001B[32m   1747\u001B[39m     )\n",
      "\u001B[36mFile \u001B[39m\u001B[32mlib.pyx:2972\u001B[39m, in \u001B[36mpandas._libs.lib.map_infer\u001B[39m\u001B[34m()\u001B[39m\n",
      "\u001B[36mCell\u001B[39m\u001B[36m \u001B[39m\u001B[32mIn[7]\u001B[39m\u001B[32m, line 7\u001B[39m, in \u001B[36mget_discogs_members\u001B[39m\u001B[34m(band_name)\u001B[39m\n\u001B[32m      4\u001B[39m     band_name = band_name[:-\u001B[32m7\u001B[39m]\n\u001B[32m      6\u001B[39m results = d.search(band_name, \u001B[38;5;28mtype\u001B[39m=\u001B[33m'\u001B[39m\u001B[33martist\u001B[39m\u001B[33m'\u001B[39m) \n\u001B[32m----> \u001B[39m\u001B[32m7\u001B[39m \u001B[38;5;28;01mif\u001B[39;00m \u001B[38;5;28;43mlen\u001B[39;49m\u001B[43m(\u001B[49m\u001B[43mresults\u001B[49m\u001B[43m)\u001B[49m>\u001B[32m0\u001B[39m:\n\u001B[32m      8\u001B[39m     i = \u001B[32m0\u001B[39m\n\u001B[32m      9\u001B[39m     \u001B[38;5;28;01mwhile\u001B[39;00m i < \u001B[38;5;28mlen\u001B[39m(results):\n",
      "\u001B[36mFile \u001B[39m\u001B[32m~/Documents/Computational social science/.venv/lib/python3.12/site-packages/discogs_client/models.py:371\u001B[39m, in \u001B[36mBasePaginatedResponse.__len__\u001B[39m\u001B[34m(self)\u001B[39m\n\u001B[32m    370\u001B[39m \u001B[38;5;28;01mdef\u001B[39;00m\u001B[38;5;250m \u001B[39m\u001B[34m__len__\u001B[39m(\u001B[38;5;28mself\u001B[39m):\n\u001B[32m--> \u001B[39m\u001B[32m371\u001B[39m     \u001B[38;5;28;01mreturn\u001B[39;00m \u001B[38;5;28;43mself\u001B[39;49m\u001B[43m.\u001B[49m\u001B[43mcount\u001B[49m\n",
      "\u001B[36mFile \u001B[39m\u001B[32m~/Documents/Computational social science/.venv/lib/python3.12/site-packages/discogs_client/models.py:342\u001B[39m, in \u001B[36mBasePaginatedResponse.count\u001B[39m\u001B[34m(self)\u001B[39m\n\u001B[32m    339\u001B[39m \u001B[38;5;129m@property\u001B[39m\n\u001B[32m    340\u001B[39m \u001B[38;5;28;01mdef\u001B[39;00m\u001B[38;5;250m \u001B[39m\u001B[34mcount\u001B[39m(\u001B[38;5;28mself\u001B[39m):\n\u001B[32m    341\u001B[39m     \u001B[38;5;28;01mif\u001B[39;00m \u001B[38;5;28mself\u001B[39m._num_items \u001B[38;5;129;01mis\u001B[39;00m \u001B[38;5;28;01mNone\u001B[39;00m:\n\u001B[32m--> \u001B[39m\u001B[32m342\u001B[39m         \u001B[38;5;28;43mself\u001B[39;49m\u001B[43m.\u001B[49m\u001B[43m_load_pagination_info\u001B[49m\u001B[43m(\u001B[49m\u001B[43m)\u001B[49m\n\u001B[32m    343\u001B[39m     \u001B[38;5;28;01mreturn\u001B[39;00m \u001B[38;5;28mself\u001B[39m._num_items\n",
      "\u001B[36mFile \u001B[39m\u001B[32m~/Documents/Computational social science/.venv/lib/python3.12/site-packages/discogs_client/models.py:297\u001B[39m, in \u001B[36mBasePaginatedResponse._load_pagination_info\u001B[39m\u001B[34m(self)\u001B[39m\n\u001B[32m    296\u001B[39m \u001B[38;5;28;01mdef\u001B[39;00m\u001B[38;5;250m \u001B[39m\u001B[34m_load_pagination_info\u001B[39m(\u001B[38;5;28mself\u001B[39m):\n\u001B[32m--> \u001B[39m\u001B[32m297\u001B[39m     data = \u001B[38;5;28;43mself\u001B[39;49m\u001B[43m.\u001B[49m\u001B[43mclient\u001B[49m\u001B[43m.\u001B[49m\u001B[43m_get\u001B[49m\u001B[43m(\u001B[49m\u001B[38;5;28;43mself\u001B[39;49m\u001B[43m.\u001B[49m\u001B[43m_url_for_page\u001B[49m\u001B[43m(\u001B[49m\u001B[32;43m1\u001B[39;49m\u001B[43m)\u001B[49m\u001B[43m)\u001B[49m\n\u001B[32m    298\u001B[39m     \u001B[38;5;28mself\u001B[39m._pages[\u001B[32m1\u001B[39m] = [\n\u001B[32m    299\u001B[39m         \u001B[38;5;28mself\u001B[39m._transform(item) \u001B[38;5;28;01mfor\u001B[39;00m item \u001B[38;5;129;01min\u001B[39;00m data[\u001B[38;5;28mself\u001B[39m._list_key]\n\u001B[32m    300\u001B[39m     ]\n\u001B[32m    301\u001B[39m     \u001B[38;5;28mself\u001B[39m._num_pages = data[\u001B[33m'\u001B[39m\u001B[33mpagination\u001B[39m\u001B[33m'\u001B[39m][\u001B[33m'\u001B[39m\u001B[33mpages\u001B[39m\u001B[33m'\u001B[39m]\n",
      "\u001B[36mFile \u001B[39m\u001B[32m~/Documents/Computational social science/.venv/lib/python3.12/site-packages/discogs_client/client.py:123\u001B[39m, in \u001B[36mClient._get\u001B[39m\u001B[34m(self, url)\u001B[39m\n\u001B[32m    122\u001B[39m \u001B[38;5;28;01mdef\u001B[39;00m\u001B[38;5;250m \u001B[39m\u001B[34m_get\u001B[39m(\u001B[38;5;28mself\u001B[39m, url):\n\u001B[32m--> \u001B[39m\u001B[32m123\u001B[39m     \u001B[38;5;28;01mreturn\u001B[39;00m \u001B[38;5;28;43mself\u001B[39;49m\u001B[43m.\u001B[49m\u001B[43m_request\u001B[49m\u001B[43m(\u001B[49m\u001B[33;43m'\u001B[39;49m\u001B[33;43mGET\u001B[39;49m\u001B[33;43m'\u001B[39;49m\u001B[43m,\u001B[49m\u001B[43m \u001B[49m\u001B[43murl\u001B[49m\u001B[43m)\u001B[49m\n",
      "\u001B[36mFile \u001B[39m\u001B[32m~/Documents/Computational social science/.venv/lib/python3.12/site-packages/discogs_client/client.py:120\u001B[39m, in \u001B[36mClient._request\u001B[39m\u001B[34m(self, method, url, data)\u001B[39m\n\u001B[32m    118\u001B[39m     \u001B[38;5;28;01mreturn\u001B[39;00m body\n\u001B[32m    119\u001B[39m \u001B[38;5;28;01melse\u001B[39;00m:\n\u001B[32m--> \u001B[39m\u001B[32m120\u001B[39m     \u001B[38;5;28;01mraise\u001B[39;00m HTTPError(body[\u001B[33m'\u001B[39m\u001B[33mmessage\u001B[39m\u001B[33m'\u001B[39m], status_code)\n",
      "\u001B[31mHTTPError\u001B[39m: 429: You are making requests too quickly."
     ]
    }
   ],
   "execution_count": 13
  },
  {
   "cell_type": "code",
   "execution_count": 148,
   "id": "a5c11f05",
   "metadata": {},
   "outputs": [],
   "source": [
    "df_discgroups[\"all_members\"] = df_discgroups.apply(lambda row: np.unique(ast.literal_eval(row[\"cleaned_member\"]) + (row[\"disc_members\"])), axis = 1)"
   ]
  },
  {
   "cell_type": "code",
   "execution_count": 165,
   "id": "dbf6c741",
   "metadata": {},
   "outputs": [],
   "source": [
    "df_discgroups[\"all_members\"] = df_discgroups[\"all_members\"].apply(lambda memberlist: [str(member) for member in memberlist])"
   ]
  },
  {
   "cell_type": "code",
   "execution_count": 166,
   "id": "8305de2c",
   "metadata": {},
   "outputs": [
    {
     "data": {
      "text/html": [
       "<div>\n",
       "<style scoped>\n",
       "    .dataframe tbody tr th:only-of-type {\n",
       "        vertical-align: middle;\n",
       "    }\n",
       "\n",
       "    .dataframe tbody tr th {\n",
       "        vertical-align: top;\n",
       "    }\n",
       "\n",
       "    .dataframe thead th {\n",
       "        text-align: right;\n",
       "    }\n",
       "</style>\n",
       "<table border=\"1\" class=\"dataframe\">\n",
       "  <thead>\n",
       "    <tr style=\"text-align: right;\">\n",
       "      <th></th>\n",
       "      <th>pageid</th>\n",
       "      <th>title</th>\n",
       "      <th>cleaned_member</th>\n",
       "      <th>disc_members</th>\n",
       "      <th>all_members</th>\n",
       "    </tr>\n",
       "  </thead>\n",
       "  <tbody>\n",
       "    <tr>\n",
       "      <th>0</th>\n",
       "      <td>489818</td>\n",
       "      <td>A Friend in London</td>\n",
       "      <td>['Tim Schou']</td>\n",
       "      <td>[Tim Schou, Esben Svane, Aske Damm Bramming, S...</td>\n",
       "      <td>[Aske Damm Bramming, Esben Svane, Sebastian Vi...</td>\n",
       "    </tr>\n",
       "    <tr>\n",
       "      <th>1</th>\n",
       "      <td>157530</td>\n",
       "      <td>Ache</td>\n",
       "      <td>['Per Wium', 'Peter Mellin', 'Finn Olafsson', ...</td>\n",
       "      <td>[]</td>\n",
       "      <td>[Finn Olafsson, Per Wium, Peter Mellin, Steen ...</td>\n",
       "    </tr>\n",
       "    <tr>\n",
       "      <th>2</th>\n",
       "      <td>255559</td>\n",
       "      <td>ADS (band)</td>\n",
       "      <td>['Michael Funder Thorlasius', 'Stig Pedersen',...</td>\n",
       "      <td>[]</td>\n",
       "      <td>[Karsten Hjarsø, Lars Top-Galia, Martin Krogh,...</td>\n",
       "    </tr>\n",
       "    <tr>\n",
       "      <th>3</th>\n",
       "      <td>976777</td>\n",
       "      <td>Agathorn</td>\n",
       "      <td>[]</td>\n",
       "      <td>[]</td>\n",
       "      <td>[]</td>\n",
       "    </tr>\n",
       "    <tr>\n",
       "      <th>4</th>\n",
       "      <td>493993</td>\n",
       "      <td>Alabama Black Snakes</td>\n",
       "      <td>['Jonas Jessen', 'Hank Lee Tuffer', 'Mads Øste...</td>\n",
       "      <td>[]</td>\n",
       "      <td>[Gustav Pontoppidan, Hank Lee Tuffer, Jonas Je...</td>\n",
       "    </tr>\n",
       "    <tr>\n",
       "      <th>...</th>\n",
       "      <td>...</td>\n",
       "      <td>...</td>\n",
       "      <td>...</td>\n",
       "      <td>...</td>\n",
       "      <td>...</td>\n",
       "    </tr>\n",
       "    <tr>\n",
       "      <th>1029</th>\n",
       "      <td>37360</td>\n",
       "      <td>Odense Symfoniorkester</td>\n",
       "      <td>['Bjarne Hansen', 'Ulrike Kipp', 'Michaela Fuk...</td>\n",
       "      <td>[]</td>\n",
       "      <td>[Alf Vestergaard, Anca Bold, Angelika Wagner, ...</td>\n",
       "    </tr>\n",
       "    <tr>\n",
       "      <th>1030</th>\n",
       "      <td>162784</td>\n",
       "      <td>Sjællands Symfoniorkester</td>\n",
       "      <td>['Ole Böhn', 'Harry Gram-Jensen', 'Fritz O. Ja...</td>\n",
       "      <td>[]</td>\n",
       "      <td>[Fritz O. Jacobsen, Harry Gram-Jensen, Ilse O....</td>\n",
       "    </tr>\n",
       "    <tr>\n",
       "      <th>1031</th>\n",
       "      <td>10733</td>\n",
       "      <td>Sønderjyllands Symfoniorkester</td>\n",
       "      <td>['Anne Augustinsson', 'Jesper Hindø', 'Nikolai...</td>\n",
       "      <td>[]</td>\n",
       "      <td>[Anne Augustinsson, Brian Quist Jørgensen, Hen...</td>\n",
       "    </tr>\n",
       "    <tr>\n",
       "      <th>1032</th>\n",
       "      <td>369172</td>\n",
       "      <td>Aalborg Symfoniorkester</td>\n",
       "      <td>['Marius Ungureanu', 'Ib Dirkov', 'Moshe Atzmo...</td>\n",
       "      <td>[]</td>\n",
       "      <td>[Bettina Ejlerts Jensen, Bo Juel Christiansen,...</td>\n",
       "    </tr>\n",
       "    <tr>\n",
       "      <th>1033</th>\n",
       "      <td>373862</td>\n",
       "      <td>Aarhus Symfoniorkester</td>\n",
       "      <td>['Eugene Hye-Knudsen', 'Marc Soustrot', 'Svend...</td>\n",
       "      <td>[]</td>\n",
       "      <td>[Ananna Lützhøft, Anders Larsen (2), Anika Tel...</td>\n",
       "    </tr>\n",
       "  </tbody>\n",
       "</table>\n",
       "<p>1034 rows × 5 columns</p>\n",
       "</div>"
      ],
      "text/plain": [
       "      pageid                           title  \\\n",
       "0     489818              A Friend in London   \n",
       "1     157530                            Ache   \n",
       "2     255559                      ADS (band)   \n",
       "3     976777                        Agathorn   \n",
       "4     493993            Alabama Black Snakes   \n",
       "...      ...                             ...   \n",
       "1029   37360          Odense Symfoniorkester   \n",
       "1030  162784       Sjællands Symfoniorkester   \n",
       "1031   10733  Sønderjyllands Symfoniorkester   \n",
       "1032  369172         Aalborg Symfoniorkester   \n",
       "1033  373862          Aarhus Symfoniorkester   \n",
       "\n",
       "                                         cleaned_member  \\\n",
       "0                                         ['Tim Schou']   \n",
       "1     ['Per Wium', 'Peter Mellin', 'Finn Olafsson', ...   \n",
       "2     ['Michael Funder Thorlasius', 'Stig Pedersen',...   \n",
       "3                                                    []   \n",
       "4     ['Jonas Jessen', 'Hank Lee Tuffer', 'Mads Øste...   \n",
       "...                                                 ...   \n",
       "1029  ['Bjarne Hansen', 'Ulrike Kipp', 'Michaela Fuk...   \n",
       "1030  ['Ole Böhn', 'Harry Gram-Jensen', 'Fritz O. Ja...   \n",
       "1031  ['Anne Augustinsson', 'Jesper Hindø', 'Nikolai...   \n",
       "1032  ['Marius Ungureanu', 'Ib Dirkov', 'Moshe Atzmo...   \n",
       "1033  ['Eugene Hye-Knudsen', 'Marc Soustrot', 'Svend...   \n",
       "\n",
       "                                           disc_members  \\\n",
       "0     [Tim Schou, Esben Svane, Aske Damm Bramming, S...   \n",
       "1                                                    []   \n",
       "2                                                    []   \n",
       "3                                                    []   \n",
       "4                                                    []   \n",
       "...                                                 ...   \n",
       "1029                                                 []   \n",
       "1030                                                 []   \n",
       "1031                                                 []   \n",
       "1032                                                 []   \n",
       "1033                                                 []   \n",
       "\n",
       "                                            all_members  \n",
       "0     [Aske Damm Bramming, Esben Svane, Sebastian Vi...  \n",
       "1     [Finn Olafsson, Per Wium, Peter Mellin, Steen ...  \n",
       "2     [Karsten Hjarsø, Lars Top-Galia, Martin Krogh,...  \n",
       "3                                                    []  \n",
       "4     [Gustav Pontoppidan, Hank Lee Tuffer, Jonas Je...  \n",
       "...                                                 ...  \n",
       "1029  [Alf Vestergaard, Anca Bold, Angelika Wagner, ...  \n",
       "1030  [Fritz O. Jacobsen, Harry Gram-Jensen, Ilse O....  \n",
       "1031  [Anne Augustinsson, Brian Quist Jørgensen, Hen...  \n",
       "1032  [Bettina Ejlerts Jensen, Bo Juel Christiansen,...  \n",
       "1033  [Ananna Lützhøft, Anders Larsen (2), Anika Tel...  \n",
       "\n",
       "[1034 rows x 5 columns]"
      ]
     },
     "execution_count": 166,
     "metadata": {},
     "output_type": "execute_result"
    }
   ],
   "source": [
    "df_discgroups"
   ]
  },
  {
   "metadata": {},
   "cell_type": "code",
   "outputs": [],
   "execution_count": null,
   "source": [
    "#df_discgroups.to_csv(\"data/groups_wMembers3.csv\", index=False)\n",
    "df_discgroups"
   ],
   "id": "dc50328c45223d52"
  },
  {
   "metadata": {},
   "cell_type": "markdown",
   "source": [
    "### Original fetch of discogs members \n",
    "(the ones who didnt have any results from wikipedia)"
   ],
   "id": "56fce426b43d6ea6"
  },
  {
   "metadata": {},
   "cell_type": "code",
   "outputs": [],
   "execution_count": null,
   "source": [
    "empty_member_indices = df_groups[df_groups[\"cleaned_member\"].apply(lambda x: x == \"[]\")].index\n",
    "df_groups.loc[empty_member_indices, 'cleaned_member']= df_groups.loc[empty_member_indices, 'title'].apply(get_discogs_members)"
   ],
   "id": "1124eecee18fc21b"
  },
  {
   "cell_type": "code",
   "execution_count": null,
   "id": "4a9aff42",
   "metadata": {},
   "outputs": [],
   "source": [
    "# df_groups.to_csv(\"data/groups_wMembers2.csv\", index=False)"
   ]
  },
  {
   "cell_type": "code",
   "execution_count": null,
   "id": "2e1fb902",
   "metadata": {},
   "outputs": [],
   "source": [
    "# problem: nogle gange er der flere bands med samme navn på discogs (fx the fashion). \n",
    "# hvis ikke det danske band er det først, så er det svært at gøre noget ved det"
   ]
  },
  {
   "cell_type": "code",
   "execution_count": null,
   "id": "8e380bf4",
   "metadata": {},
   "outputs": [],
   "source": [
    "### problem: discogs har et tal efter personer hvis der er flere med samme navn\n",
    "# ikke et problemm internt, men hvis det sakl sammenlignes med wiki går det galt\n",
    "# måske kan vi bare fjerne det og håbe der ikke er flere med samme navn der optræder."
   ]
  }
 ],
 "metadata": {
  "kernelspec": {
   "display_name": "ComputationalSocialScience",
   "language": "python",
   "name": "python3"
  },
  "language_info": {
   "codemirror_mode": {
    "name": "ipython",
    "version": 3
   },
   "file_extension": ".py",
   "mimetype": "text/x-python",
   "name": "python",
   "nbconvert_exporter": "python",
   "pygments_lexer": "ipython3",
   "version": "3.11.11"
  }
 },
 "nbformat": 4,
 "nbformat_minor": 5
}
