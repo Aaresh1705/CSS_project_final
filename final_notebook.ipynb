{
 "cells": [
  {
   "metadata": {},
   "cell_type": "markdown",
   "source": [
    "### Link to git repository:\n",
    "https://github.com/someting_somethign\n",
    "\n",
    "### Contributions:\n",
    "| Name               | Motivation | Network stats | Indpeth network analysis | Discussion | Website |\n",
    "|--------------------|------------|---------------|--------------------------|------------|---------|\n",
    "| Mikkel (s234860)   | 0%         | 0%            | 0%                       | 0%         | 0%      |\n",
    "| Kantinka (s235058) | 0%         | 0%            | 0%                       | 0%         | 0%      |\n",
    "| Marcus (s234816)   | 0%         | 0%            | 0%                       | 0%         | 0%      |"
   ],
   "id": "e32a36778ab91d1d"
  },
  {
   "metadata": {},
   "cell_type": "markdown",
   "source": [
    "# Final Project\n",
    "### Musician community analysis in Denmark"
   ],
   "id": "f31fff02bebc33a9"
  },
  {
   "metadata": {},
   "cell_type": "code",
   "outputs": [],
   "execution_count": null,
   "source": [
    "# Library imports\n",
    "# Native libraries\n",
    "import re\n",
    "import ast\n",
    "from itertools import chain\n",
    "from collections import Counter\n",
    "\n",
    "# Third party libraries\n",
    "import numpy as np\n",
    "import pandas as pd\n",
    "import matplotlib.pyplot as plt\n",
    "import requests\n",
    "from bs4 import BeautifulSoup\n",
    "import networkx as nx\n",
    "import discogs_client"
   ],
   "id": "44faec92b6de313f"
  },
  {
   "metadata": {},
   "cell_type": "code",
   "outputs": [],
   "execution_count": null,
   "source": [
    "# Function imports\n",
    "from functions.loading_articles import get_music_articles\n",
    "from functions.member_fetch_functions import members_to_df, webscrape_members"
   ],
   "id": "990c3206bd33ad17"
  },
  {
   "metadata": {},
   "cell_type": "markdown",
   "source": "## Motivation",
   "id": "b7ecd054f0bb9013"
  },
  {
   "metadata": {},
   "cell_type": "code",
   "outputs": [],
   "execution_count": null,
   "source": "",
   "id": "4858435d6d5996d7"
  },
  {
   "metadata": {},
   "cell_type": "markdown",
   "source": "## Network stats",
   "id": "3a6bcfa687599aaa"
  },
  {
   "metadata": {},
   "cell_type": "code",
   "outputs": [],
   "execution_count": null,
   "source": "",
   "id": "356e2834aba532b"
  },
  {
   "metadata": {},
   "cell_type": "markdown",
   "source": "## Indepth network analysis",
   "id": "fefd9007fb54fd4b"
  },
  {
   "metadata": {},
   "cell_type": "code",
   "outputs": [],
   "execution_count": null,
   "source": "",
   "id": "1d6fd1eb03fd3961"
  },
  {
   "metadata": {},
   "cell_type": "markdown",
   "source": "## Discussion",
   "id": "d1c520ce98a7b412"
  },
  {
   "metadata": {},
   "cell_type": "code",
   "outputs": [],
   "source": "",
   "id": "ad5f29143dad1425",
   "execution_count": null
  }
 ],
 "metadata": {
  "kernelspec": {
   "display_name": "Python 3",
   "language": "python",
   "name": "python3"
  },
  "language_info": {
   "codemirror_mode": {
    "name": "ipython",
    "version": 2
   },
   "file_extension": ".py",
   "mimetype": "text/x-python",
   "name": "python",
   "nbconvert_exporter": "python",
   "pygments_lexer": "ipython2",
   "version": "2.7.6"
  }
 },
 "nbformat": 4,
 "nbformat_minor": 5
}
