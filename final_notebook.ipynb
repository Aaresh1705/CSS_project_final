{
 "cells": [
  {
   "metadata": {},
   "cell_type": "markdown",
   "source": [
    "### Link to git repository:\n",
    "https://github.com/Aaresh1705/CSS_project_final\n",
    "\n",
    "### Link to website:\n",
    "https://aaresh1705.github.io/CSS_project_final/\n",
    "\n",
    "### Contributions:\n",
    "| Name               | Motivation | Network stats | Indpeth network analysis | Discussion | Website |\n",
    "|--------------------|------------|---------------|--------------------------|------------|---------|\n",
    "| Mikkel (s234860)   | 0%         | 0%            | 0%                       | 0%         | 0%      |\n",
    "| Kantinka (s235058) | 0%         | 0%            | 0%                       | 0%         | 0%      |\n",
    "| Marcus (s234816)   | 0%         | 0%            | 0%                       | 0%         | 0%      |"
   ],
   "id": "e32a36778ab91d1d"
  },
  {
   "metadata": {},
   "cell_type": "markdown",
   "source": [
    "# Final Project\n",
    "### Musician community analysis in Denmark"
   ],
   "id": "f31fff02bebc33a9"
  },
  {
   "metadata": {
    "ExecuteTime": {
     "end_time": "2025-05-07T08:29:44.998626Z",
     "start_time": "2025-05-07T08:29:43.945273Z"
    }
   },
   "cell_type": "code",
   "source": [
    "# Library imports\n",
    "# Native libraries\n",
    "import re\n",
    "import ast\n",
    "from itertools import chain\n",
    "from collections import Counter\n",
    "\n",
    "# Third party libraries\n",
    "import numpy as np\n",
    "import pandas as pd\n",
    "import matplotlib.pyplot as plt\n",
    "import requests\n",
    "from bs4 import BeautifulSoup\n",
    "import networkx as nx\n",
    "import discogs_client"
   ],
   "id": "44faec92b6de313f",
   "outputs": [],
   "execution_count": 1
  },
  {
   "metadata": {},
   "cell_type": "code",
   "outputs": [],
   "execution_count": null,
   "source": [
    "# Self-made function imports\n",
    "from functions.loading_articles import get_music_articles\n",
    "from functions.member_fetch_functions import members_to_df, webscrape_members"
   ],
   "id": "990c3206bd33ad17"
  },
  {
   "metadata": {},
   "cell_type": "markdown",
   "source": "## Motivation",
   "id": "b7ecd054f0bb9013"
  },
  {
   "metadata": {},
   "cell_type": "markdown",
   "source": [
    "<span style=\"color:green\"> Motivation\n",
    "- [ ] <span style=\"color:green\"> What is your dataset?\n",
    "- [ ] <span style=\"color:green\"> Why did you choose this/these particular dataset(s)?\n",
    "- [ ] <span style=\"color:green\"> What was your goal for the end user's experience?"
   ],
   "id": "8d75f7f9cd955316"
  },
  {
   "metadata": {},
   "cell_type": "markdown",
   "source": [
    "We have decided to look into the local musician communities in Denmark where we will look into the amount of overlap there is of musicians across bands.\n",
    "Our dataset consists of as many musicians and bands within Denmark's local music scene as we could find, both active and inactive. This is represented as two interlinked sub sets (1) individual artists and (2) the bands they play in. In order to construct the dataset, we [INSERT METHODS HERE], then cleaned and merged them into a bipartite table of musician $\\leftrightarrow$ band memberships.\n",
    "\n",
    "We chose this dataset to analyse a dual-layer network where one layer connects musicians who share band members, and the other connects bands that share musicians. This makes it possible to explore who collaborates with whom and how groups are interconnected through shared personnel. In additon focusing on a geographical bounded community (Denmark) keeps the scope of the project manageable.\n",
    "\n",
    "Our goal for the end user experience is to deliver an interactive exploration tool that helps music promoters, venue programmers, and the musicians themselves to:\n",
    "* Visualize collaboration clusters! Quickly spot creative comminuties and understand how they overlap.\n",
    "* Identify bridges and inluencers! Discover artists or bands that serve as connectors between scenes or genres.\n",
    "* Inform collaboration decisions! Use network insights to plan events, open up for possible collaborations, or target promotional direction.\n",
    "\n",
    "<span style=\"color:red\">\n",
    "$\\downarrow$ DEPRICATED $\\downarrow$\n",
    "\n",
    "We will be looking into two overlapping networks, one where musicians connect to musicians and another with groups connect to other groups. This will be done by constructing a bipartite group-member network where musicians linked by common groups and groups linked by common musicians.\n",
    "\n",
    "By analysing who plays with whom, and how bands share members, we can get a view into how creative communities form, and spread influence across the music scene. This kind of insight could matter for music promoters, venue owners, and the musicians themselves."
   ],
   "id": "6069dc8b079545a3"
  },
  {
   "metadata": {},
   "cell_type": "code",
   "outputs": [],
   "execution_count": null,
   "source": "",
   "id": "dcf0f9e7041d07ec"
  },
  {
   "metadata": {},
   "cell_type": "markdown",
   "source": "## Network stats",
   "id": "3a6bcfa687599aaa"
  },
  {
   "metadata": {},
   "cell_type": "markdown",
   "source": [
    "<span style=\"color:green\"> Basic stats. Let's understand the dataset better\n",
    "\n",
    "- [ ] <span style=\"color:green\"> Write about your choices in data cleaning and preprocessing\n",
    "- [ ] <span style=\"color:green\"> Write a short section that discusses the dataset stats (here you can recycle the work you did for Project Assignment A)\n"
   ],
   "id": "336744fac505e3d3"
  },
  {
   "metadata": {},
   "cell_type": "code",
   "outputs": [],
   "execution_count": null,
   "source": "",
   "id": "18dd41da4aa4ce25"
  },
  {
   "metadata": {},
   "cell_type": "markdown",
   "source": "## Indepth network analysis",
   "id": "fefd9007fb54fd4b"
  },
  {
   "metadata": {},
   "cell_type": "markdown",
   "source": [
    "<span style=\"color:green\"> Tools, theory and analysis. Describe the process of theory to insight\n",
    "\n",
    "- [ ] <span style=\"color:green\"> Talk about how you've worked with text, including regular expressions, unicode, etc.\n",
    "- [ ] <span style=\"color:green\"> Describe which network science tools and data analysis strategies you've used, how those network science measures work, and why the tools you've chosen are right for the problem you're solving.\n",
    "- [ ] <span style=\"color:green\"> How did you use the tools to understand your dataset?\n"
   ],
   "id": "9604e31cb54f53a1"
  },
  {
   "metadata": {},
   "cell_type": "code",
   "outputs": [],
   "execution_count": null,
   "source": "",
   "id": "d3cf9c52b7714cd"
  },
  {
   "metadata": {},
   "cell_type": "markdown",
   "source": "## Discussion",
   "id": "d1c520ce98a7b412"
  },
  {
   "metadata": {},
   "cell_type": "markdown",
   "source": [
    "<span style=\"color:green\"> Discussion. Think critically about your creation\n",
    "- [ ] <span style=\"color:green\"> What went well?\n",
    "- [ ] <span style=\"color:green\"> What is still missing? What could be improved? Why?\n"
   ],
   "id": "42d06df53693e9e7"
  },
  {
   "metadata": {},
   "cell_type": "code",
   "outputs": [],
   "execution_count": null,
   "source": "",
   "id": "d1073b5635c2ca98"
  }
 ],
 "metadata": {
  "kernelspec": {
   "display_name": "Python 3",
   "language": "python",
   "name": "python3"
  },
  "language_info": {
   "codemirror_mode": {
    "name": "ipython",
    "version": 2
   },
   "file_extension": ".py",
   "mimetype": "text/x-python",
   "name": "python",
   "nbconvert_exporter": "python",
   "pygments_lexer": "ipython2",
   "version": "2.7.6"
  }
 },
 "nbformat": 4,
 "nbformat_minor": 5
}
