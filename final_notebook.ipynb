{
 "cells": [
  {
   "cell_type": "markdown",
   "id": "e32a36778ab91d1d",
   "metadata": {},
   "source": [
    "### Link to git repository:\n",
    "https://github.com/Aaresh1705/CSS_project_final\n",
    "\n",
    "### Link to website:\n",
    "https://aaresh1705.github.io/CSS_project_final/\n",
    "\n",
    "### Contributions:\n",
    "| Name               | Motivation | Network stats | Indpeth network analysis | Discussion | Website |\n",
    "|--------------------|------------|---------------|--------------------------|------------|---------|\n",
    "| Mikkel (s234860)   | 0%         | 0%            | 0%                       | 0%         | 0%      |\n",
    "| Kantinka (s235058) | 0%         | 0%            | 0%                       | 0%         | 0%      |\n",
    "| Marcus (s234816)   | 0%         | 0%            | 0%                       | 0%         | 0%      |"
   ]
  },
  {
   "cell_type": "markdown",
   "id": "f31fff02bebc33a9",
   "metadata": {},
   "source": [
    "# Final Project\n",
    "### Musician community analysis in Denmark"
   ]
  },
  {
   "cell_type": "code",
   "execution_count": 15,
   "id": "44faec92b6de313f",
   "metadata": {
    "ExecuteTime": {
     "end_time": "2025-05-07T08:29:44.998626Z",
     "start_time": "2025-05-07T08:29:43.945273Z"
    }
   },
   "outputs": [],
   "source": [
    "# Library imports\n",
    "# Native libraries\n",
    "import re\n",
    "import ast\n",
    "from itertools import chain\n",
    "from collections import Counter\n",
    "import pickle\n",
    "\n",
    "# Third party libraries\n",
    "import numpy as np\n",
    "import pandas as pd\n",
    "import matplotlib.pyplot as plt\n",
    "import matplotlib.patches as patch\n",
    "import networkx as nx\n",
    "import requests\n",
    "from bs4 import BeautifulSoup\n",
    "import networkx as nx\n",
    "#import discogs_client"
   ]
  },
  {
   "cell_type": "code",
   "execution_count": 14,
   "id": "990c3206bd33ad17",
   "metadata": {},
   "outputs": [
    {
     "ename": "ImportError",
     "evalue": "cannot import name 'basic_graph_stats' from 'functions.plotting_networks' (/Users/m.brochlips/Documents/25spring/02467_CSS/CSS_project_final/functions/plotting_networks.py)",
     "output_type": "error",
     "traceback": [
      "\u001b[0;31m---------------------------------------------------------------------------\u001b[0m",
      "\u001b[0;31mImportError\u001b[0m                               Traceback (most recent call last)",
      "Cell \u001b[0;32mIn[14], line 4\u001b[0m\n\u001b[1;32m      2\u001b[0m \u001b[38;5;28;01mfrom\u001b[39;00m\u001b[38;5;250m \u001b[39m\u001b[38;5;21;01mfunctions\u001b[39;00m\u001b[38;5;21;01m.\u001b[39;00m\u001b[38;5;21;01mloading_articles\u001b[39;00m\u001b[38;5;250m \u001b[39m\u001b[38;5;28;01mimport\u001b[39;00m get_music_articles\n\u001b[1;32m      3\u001b[0m \u001b[38;5;28;01mfrom\u001b[39;00m\u001b[38;5;250m \u001b[39m\u001b[38;5;21;01mfunctions\u001b[39;00m\u001b[38;5;21;01m.\u001b[39;00m\u001b[38;5;21;01mmember_fetch_functions\u001b[39;00m\u001b[38;5;250m \u001b[39m\u001b[38;5;28;01mimport\u001b[39;00m members_to_df\n\u001b[0;32m----> 4\u001b[0m \u001b[38;5;28;01mfrom\u001b[39;00m\u001b[38;5;250m \u001b[39m\u001b[38;5;21;01mfunctions\u001b[39;00m\u001b[38;5;21;01m.\u001b[39;00m\u001b[38;5;21;01mplotting_networks\u001b[39;00m\u001b[38;5;250m \u001b[39m\u001b[38;5;28;01mimport\u001b[39;00m basic_graph_stats, plot_2graphs, scatter_dist\n",
      "\u001b[0;31mImportError\u001b[0m: cannot import name 'basic_graph_stats' from 'functions.plotting_networks' (/Users/m.brochlips/Documents/25spring/02467_CSS/CSS_project_final/functions/plotting_networks.py)"
     ]
    }
   ],
   "source": [
    "# Self-made function imports\n",
    "from functions.loading_articles import get_music_articles\n",
    "from functions.member_fetch_functions import members_to_df\n",
    "from functions.plotting_networks import basic_graph_stats, plot_2graphs, scatter_dist"
   ]
  },
  {
   "cell_type": "markdown",
   "id": "b7ecd054f0bb9013",
   "metadata": {},
   "source": [
    "## Motivation"
   ]
  },
  {
   "cell_type": "markdown",
   "id": "8d75f7f9cd955316",
   "metadata": {},
   "source": [
    "<span style=\"color:green\"> Motivation\n",
    "- [ ] <span style=\"color:green\"> What is your dataset?\n",
    "- [ ] <span style=\"color:green\"> Why did you choose this/these particular dataset(s)?\n",
    "- [ ] <span style=\"color:green\"> What was your goal for the end user's experience?"
   ]
  },
  {
   "cell_type": "markdown",
   "id": "6069dc8b079545a3",
   "metadata": {},
   "source": [
    "We have decided to look into the local musician communities in Denmark where we will look into the amount of overlap there is of musicians across bands.\n",
    "Our dataset consists of as many musicians and bands within Denmark's local music scene as we could find, both active and inactive. This is represented as two interlinked sub sets (1) individual artists and (2) the bands they play in. In order to construct the dataset, we [INSERT METHODS HERE], then cleaned and merged them into a bipartite table of musician $\\leftrightarrow$ band memberships.\n",
    "\n",
    "We chose this dataset to analyse a dual-layer network where one layer connects musicians who share band members, and the other connects bands that share musicians. This makes it possible to explore who collaborates with whom and how groups are interconnected through shared personnel. In additon focusing on a geographical bounded community (Denmark) keeps the scope of the project manageable.\n",
    "\n",
    "Our goal for the end user experience is to deliver an interactive exploration tool that helps music promoters, venue programmers, and the musicians themselves to:\n",
    "* Visualize collaboration clusters! Quickly spot creative comminuties and understand how they overlap.\n",
    "* Identify bridges and inluencers! Discover artists or bands that serve as connectors between scenes or genres.\n",
    "* Inform collaboration decisions! Use network insights to plan events, open up for possible collaborations, or target promotional direction.\n",
    "\n",
    "<span style=\"color:red\">\n",
    "$\\downarrow$ DEPRICATED $\\downarrow$\n",
    "\n",
    "We will be looking into two overlapping networks, one where musicians connect to musicians and another with groups connect to other groups. This will be done by constructing a bipartite group-member network where musicians linked by common groups and groups linked by common musicians.\n",
    "\n",
    "By analysing who plays with whom, and how bands share members, we can get a view into how creative communities form, and spread influence across the music scene. This kind of insight could matter for music promoters, venue owners, and the musicians themselves."
   ]
  },
  {
   "cell_type": "code",
   "execution_count": null,
   "id": "dcf0f9e7041d07ec",
   "metadata": {},
   "outputs": [],
   "source": []
  },
  {
   "cell_type": "markdown",
   "id": "3a6bcfa687599aaa",
   "metadata": {},
   "source": [
    "## Network stats"
   ]
  },
  {
   "cell_type": "markdown",
   "id": "336744fac505e3d3",
   "metadata": {},
   "source": [
    "<span style=\"color:green\"> Basic stats. Let's understand the dataset better\n",
    "\n",
    "- [ ] <span style=\"color:green\"> Write about your choices in data cleaning and preprocessing\n",
    "- [ ] <span style=\"color:green\"> Write a short section that discusses the dataset stats (here you can recycle the work you did for Project Assignment A)\n"
   ]
  },
  {
   "cell_type": "markdown",
   "id": "4c7fcd9b",
   "metadata": {},
   "source": [
    "We can project our bipartite network in two ways: The musicians as nodes connected by common music groups and vice versa.\n",
    "\n",
    "In our network analysis, we will mainly focus on the Danish Music Groups (DMG) projection of the network connected by common musicians to narrow the scope and enable a more in-depth exploration. The musicians network has an interpretation problem as nodes with a high degree are hard to interpret. High-degree musicians can both be associated with multiple music groups or just be a musician of a very large music group (ex a symphony orchestra). This is also an influence in the DMG projection, however here a group also has to share musicians with other groups to create a link and thereby the large music groups does not automatically create many links. Lastly, very few musicians (of famous bands even) don’t have a wikipedia article, although fairly unknown bands have. Thereby it is natural to focus on music groups, which also will be the focus of our text analysis."
   ]
  },
  {
   "cell_type": "code",
   "execution_count": 6,
   "id": "18dd41da4aa4ce25",
   "metadata": {},
   "outputs": [],
   "source": [
    "with open(\"data/groups_graph.pkl\", \"rb\") as f:\n",
    "    G = pickle.load(f)\n",
    "\n",
    "with open(\"data/Musicians_graph.pkl\", \"rb\") as f:\n",
    "    G_musicians = pickle.load(f)"
   ]
  },
  {
   "cell_type": "markdown",
   "id": "7c22a49f",
   "metadata": {},
   "source": [
    "We calculate the probability (p) average degree (k) of the Musicians network \n",
    "ref[Section 3.2, equation (3.2) in Network Science, Albert-Laszlo Barabasi]"
   ]
  },
  {
   "cell_type": "code",
   "execution_count": 9,
   "id": "ad7ec84d",
   "metadata": {},
   "outputs": [
    {
     "name": "stdout",
     "output_type": "stream",
     "text": [
      "DMG NETWORK:\n",
      "Size of network: 814\n",
      "Probability p: 0.0016772895001677288\n",
      "Average degree: 1.3636363636363635\n",
      "\n",
      "MUSICIANS NETWORK\n",
      "Size of network: 4151\n",
      "Probability p: 0.004870476848371563\n",
      "Average degree: 20.212478920741987\n"
     ]
    }
   ],
   "source": [
    "def basic_graph_stats(G):\n",
    "    N = G.number_of_nodes()\n",
    "    L = G.number_of_edges()\n",
    "\n",
    "    p = L / ((N*(N-1))/2)  # for undirected graphs, we divide by 2\n",
    "\n",
    "    k = p*(G.number_of_nodes() - 1)\n",
    "\n",
    "    print(f\"Size of network: {N}\")\n",
    "    print(f\"Probability p: {p}\")\n",
    "    print(f\"Average degree: {k}\")\n",
    "    return None\n",
    "\n",
    "print(\"DMG NETWORK:\")\n",
    "basic_graph_stats(G)\n",
    "print(\"\")\n",
    "print(\"MUSICIANS NETWORK\")\n",
    "basic_graph_stats(G_musicians)"
   ]
  },
  {
   "cell_type": "markdown",
   "id": "fefd9007fb54fd4b",
   "metadata": {},
   "source": [
    "## Indepth network analysis"
   ]
  },
  {
   "cell_type": "markdown",
   "id": "9604e31cb54f53a1",
   "metadata": {},
   "source": [
    "<span style=\"color:green\"> Tools, theory and analysis. Describe the process of theory to insight\n",
    "\n",
    "- [ ] <span style=\"color:green\"> Talk about how you've worked with text, including regular expressions, unicode, etc.\n",
    "- [ ] <span style=\"color:green\"> Describe which network science tools and data analysis strategies you've used, how those network science measures work, and why the tools you've chosen are right for the problem you're solving.\n",
    "- [ ] <span style=\"color:green\"> How did you use the tools to understand your dataset?\n"
   ]
  },
  {
   "cell_type": "code",
   "execution_count": null,
   "id": "d3cf9c52b7714cd",
   "metadata": {},
   "outputs": [],
   "source": []
  },
  {
   "cell_type": "markdown",
   "id": "d1c520ce98a7b412",
   "metadata": {},
   "source": [
    "## Discussion"
   ]
  },
  {
   "cell_type": "markdown",
   "id": "42d06df53693e9e7",
   "metadata": {},
   "source": [
    "<span style=\"color:green\"> Discussion. Think critically about your creation\n",
    "- [ ] <span style=\"color:green\"> What went well?\n",
    "- [ ] <span style=\"color:green\"> What is still missing? What could be improved? Why?\n"
   ]
  },
  {
   "cell_type": "code",
   "execution_count": null,
   "id": "d1073b5635c2ca98",
   "metadata": {},
   "outputs": [],
   "source": []
  }
 ],
 "metadata": {
  "kernelspec": {
   "display_name": "02467CSS",
   "language": "python",
   "name": "python3"
  },
  "language_info": {
   "codemirror_mode": {
    "name": "ipython",
    "version": 3
   },
   "file_extension": ".py",
   "mimetype": "text/x-python",
   "name": "python",
   "nbconvert_exporter": "python",
   "pygments_lexer": "ipython3",
   "version": "3.11.8"
  }
 },
 "nbformat": 4,
 "nbformat_minor": 5
}
