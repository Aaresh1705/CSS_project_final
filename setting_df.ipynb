{
 "cells": [
  {
   "cell_type": "code",
   "execution_count": null,
   "metadata": {},
   "outputs": [],
   "source": [
    "import pandas as pd\n",
    "\n",
    "from loading_articles import get_music_articles"
   ]
  },
  {
   "cell_type": "code",
   "execution_count": 2,
   "metadata": {},
   "outputs": [],
   "source": [
    "with open(\"categories/categories_musicians.txt\", \"r\") as file:\n",
    "    categories_musicians = file.read().splitlines()\n",
    "\n",
    "with open(\"categories/categories_groups.txt\", \"r\") as file:\n",
    "    categories_groups = file.read().splitlines()"
   ]
  },
  {
   "cell_type": "code",
   "execution_count": 14,
   "metadata": {},
   "outputs": [
    {
     "name": "stdout",
     "output_type": "stream",
     "text": [
      "Fetching articles from: Kategori:Sangere fra Danmark\n",
      "Fetching articles from: Kategori:Musikere fra Danmark\n",
      "Fetching articles from: Kategori:Rappere fra Danmark\n",
      "Fetching articles from: Kategori:Rockmusikere fra Danmark\n",
      "Fetching articles from: Kategori:Bluesmusikere fra Danmark\n",
      "Fetching articles from: Kategori:Folkemusikere fra Danmark\n",
      "Fetching articles from: Kategori:Heavy metal-musikere fra Danmark\n",
      "Fetching articles from: Kategori:Hiphoppere fra Danmark\n",
      "Fetching articles from: Kategori:Jazzmusikere fra Danmark\n",
      "Fetching articles from: Kategori:Jazzkomponister fra Danmark\n",
      "Fetching articles from: Kategori:Jazzpianister fra Danmark\n",
      "Fetching articles from: Kategori:Klassiske musikere fra Danmark\n",
      "Fetching articles from: Kategori:Klassiske pianister fra Danmark\n",
      "Fetching articles from: Kategori:Popmusikere fra Danmark\n",
      "Fetching articles from: Kategori:Elektroniske musikere fra Danmark\n",
      "Fetching articles from: Kategori:Countrymusikere fra Danmark\n",
      "Fetching articles from: Kategori:Sangskrivere fra Danmark\n",
      "Fetching articles from: Kategori:Komponister fra Danmark\n",
      "Fetching articles from: Kategori:Operasangere fra Danmark\n",
      "Fetching articles from: Kategori:Kvindelige komponister fra Danmark\n",
      "Fetching articles from: Kategori:Impressionistiske komponister fra Danmark\n",
      "Fetching articles from: Kategori:Barokkomponister fra Danmark\n",
      "Fetching articles from: Kategori:Romantikkens komponister fra Danmark\n",
      "Fetching articles from: Kategori:Klassiske komponister fra det 20. århundrede fra Danmark\n",
      "Fetching articles from: Kategori:Operakomponister fra Danmark\n",
      "Fetching articles from: Kategori:Bassister fra Danmark\n",
      "Fetching articles from: Kategori:Blokfløjtenister fra Danmark\n",
      "Fetching articles from: Kategori:Bratschister fra Danmark\n",
      "Fetching articles from: Kategori:Cellister fra Danmark\n",
      "Fetching articles from: Kategori:Cembalister fra Danmark\n",
      "Fetching articles from: Kategori:Fagottister fra Danmark\n",
      "Fetching articles from: Kategori:Fløjtenister fra Danmark\n",
      "Fetching articles from: Kategori:Guitarister fra Danmark\n",
      "Fetching articles from: Kategori:Harpenister fra Danmark\n",
      "Fetching articles from: Kategori:Keyboardspillere fra Danmark\n",
      "Fetching articles from: Kategori:Klarinettister fra Danmark\n",
      "Fetching articles from: Kategori:Oboister fra Danmark\n",
      "Fetching articles from: Kategori:Organister fra Danmark\n",
      "Fetching articles from: Kategori:Percussionister fra Danmark\n",
      "Fetching articles from: Kategori:Pianister fra Danmark\n",
      "Fetching articles from: Kategori:Saxofonister fra Danmark\n",
      "Fetching articles from: Kategori:Trombonister fra Danmark\n",
      "Fetching articles from: Kategori:Trommeslagere fra Danmark\n",
      "Fetching articles from: Kategori:Trompetister fra Danmark\n",
      "Fetching articles from: Kategori:Valdhornister fra Danmark\n",
      "Fetching articles from: Kategori:Violinister fra Danmark\n",
      "Fetching articles from: Kategori:Rockgrupper fra Danmark\n",
      "Fetching articles from: Kategori:Musikgrupper fra Danmark\n",
      "Fetching articles from: Kategori:Popgrupper fra Danmark\n",
      "Fetching articles from: Kategori:Rapgrupper fra Danmark\n",
      "Fetching articles from: Kategori:Musikgrupper fra Færøerne\n",
      "Fetching articles from: Kategori:Elektrogrupper fra Danmark\n",
      "Fetching articles from: Kategori:Folkemusikgrupper fra Danmark\n",
      "Fetching articles from: Kategori:Hiphopgrupper fra Danmark\n",
      "Fetching articles from: Kategori:Indierockgrupper fra Danmark\n",
      "Fetching articles from: Kategori:Punkgrupper fra Danmark\n",
      "Fetching articles from: Kategori:Metalgrupper fra Danmark\n",
      "Fetching articles from: Kategori:Jazzgrupper fra Danmark\n",
      "Fetching articles from: Kategori:Bluesgrupper fra Danmark\n",
      "Fetching articles from: Kategori:Elektroniske musikgrupper fra Danmark\n",
      "Fetching articles from: Kategori:Danske boybands\n",
      "Fetching articles from: Kategori:Danske pigebands\n",
      "Fetching articles from: Kategori:Danske vokalgrupper\n",
      "Fetching articles from: Kategori:Danseband fra Danmark\n",
      "Fetching articles from: Kategori:Dancegrupper fra Danmark\n",
      "Fetching articles from: Kategori:Kammerensembler fra Danmark\n",
      "Fetching articles from: Kategori:Kor fra Danmark\n",
      "Fetching articles from: Kategori:Symfoniorkestre fra Danmark\n"
     ]
    }
   ],
   "source": [
    "musicians = get_music_articles(categories_musicians)\n",
    "music_groups = get_music_articles(categories_groups)"
   ]
  },
  {
   "cell_type": "code",
   "execution_count": 19,
   "metadata": {},
   "outputs": [
    {
     "name": "stdout",
     "output_type": "stream",
     "text": [
      "1034\n",
      "3085\n"
     ]
    }
   ],
   "source": [
    "print(len(music_groups))\n",
    "print(len(musicians))"
   ]
  },
  {
   "cell_type": "code",
   "execution_count": 16,
   "metadata": {},
   "outputs": [],
   "source": [
    "df_groups = pd.DataFrame(music_groups)\n",
    "df_groups = df_groups.drop(columns=[\"ns\"])\n",
    "\n",
    "df_musicians = pd.DataFrame(musicians)\n",
    "df_musicians = df_musicians.drop(columns=[\"ns\"])\n",
    "\n",
    "df_musicians.to_csv(\"data/musicians.csv\", index=False)\n",
    "df_groups.to_csv(\"data/music_groups.csv\", index=False)"
   ]
  }
 ],
 "metadata": {
  "kernelspec": {
   "display_name": "02467CSS",
   "language": "python",
   "name": "python3"
  },
  "language_info": {
   "codemirror_mode": {
    "name": "ipython",
    "version": 3
   },
   "file_extension": ".py",
   "mimetype": "text/x-python",
   "name": "python",
   "nbconvert_exporter": "python",
   "pygments_lexer": "ipython3",
   "version": "3.11.8"
  }
 },
 "nbformat": 4,
 "nbformat_minor": 2
}
