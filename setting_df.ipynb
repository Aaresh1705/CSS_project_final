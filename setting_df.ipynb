{
 "cells": [
  {
   "cell_type": "code",
   "execution_count": null,
   "metadata": {},
   "outputs": [],
   "source": [
    "import requests\n",
    "import pandas as pd\n",
    "import re\n",
    "import numpy as np\n",
    "import time\n",
    "import json"
   ]
  },
  {
   "cell_type": "code",
   "execution_count": null,
   "metadata": {},
   "outputs": [],
   "source": [
    "with open(\"categories/categories_musicians.txt\", \"r\") as file:\n",
    "    categories_musicians = file.read().splitlines()\n",
    "\n",
    "with open(\"categories/categories_groups.txt\", \"r\") as file:\n",
    "    categories_groups = file.read().splitlines()"
   ]
  },
  {
   "cell_type": "code",
   "execution_count": null,
   "metadata": {},
   "outputs": [],
   "source": [
    "from loading_articles import get_music_articles\n",
    "\n",
    "musicians = get_music_articles(categories_musicians)\n",
    "music_groups = musicians = get_music_articles(categories_groups)\n"
   ]
  }
 ],
 "metadata": {
  "language_info": {
   "name": "python"
  }
 },
 "nbformat": 4,
 "nbformat_minor": 2
}
