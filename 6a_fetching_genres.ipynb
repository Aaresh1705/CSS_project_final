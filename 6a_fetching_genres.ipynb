{
 "cells": [
  {
   "cell_type": "code",
   "execution_count": 1,
   "id": "5cfc0ee2",
   "metadata": {},
   "outputs": [],
   "source": [
    "import numpy as np\n",
    "import pandas as pd\n",
    "import requests\n",
    "from functions.genre_function import get_genre_from_page_id"
   ]
  },
  {
   "cell_type": "code",
   "execution_count": 2,
   "id": "c4813d07",
   "metadata": {},
   "outputs": [],
   "source": "df_groups = pd.read_csv(\"data/wip/groups_wMembers_Text.csv\")"
  },
  {
   "cell_type": "code",
   "execution_count": null,
   "id": "f7a9d45a",
   "metadata": {},
   "outputs": [],
   "source": [
    "df_groups[\"genre\"] = df_groups[\"pageid\"].apply(get_genre_from_page_id)"
   ]
  },
  {
   "cell_type": "code",
   "execution_count": 5,
   "id": "4fe04f63",
   "metadata": {},
   "outputs": [],
   "source": [
    "df_groups.to_csv(\"data/groups_wMembers_Text_APIGenres.csv\", index=False)"
   ]
  }
 ],
 "metadata": {
  "kernelspec": {
   "display_name": "02467CSS",
   "language": "python",
   "name": "python3"
  },
  "language_info": {
   "codemirror_mode": {
    "name": "ipython",
    "version": 3
   },
   "file_extension": ".py",
   "mimetype": "text/x-python",
   "name": "python",
   "nbconvert_exporter": "python",
   "pygments_lexer": "ipython3",
   "version": "3.11.8"
  }
 },
 "nbformat": 4,
 "nbformat_minor": 5
}
