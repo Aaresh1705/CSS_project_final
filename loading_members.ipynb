{
 "cells": [
  {
   "cell_type": "code",
   "execution_count": 15,
   "id": "5af10eb6",
   "metadata": {},
   "outputs": [],
   "source": [
    "import pandas as pd\n",
    "import numpy as np\n",
    "import requests\n",
    "from bs4 import BeautifulSoup"
   ]
  },
  {
   "cell_type": "code",
   "execution_count": 3,
   "id": "db9a58a3",
   "metadata": {},
   "outputs": [],
   "source": [
    "df_musicans = pd.read_csv(\"data/musicians.csv\")\n",
    "df_groups = pd.read_csv(\"data/music_groups.csv\")"
   ]
  },
  {
   "cell_type": "code",
   "execution_count": null,
   "id": "7ef951f1",
   "metadata": {},
   "outputs": [
    {
     "name": "stdout",
     "output_type": "stream",
     "text": [
      "Members of Baby in Vain: Lola Hammerich, Benedicte Pierleoni, Andrea Thuesen\n"
     ]
    }
   ],
   "source": [
    "WIKI_API_URL = \"https://da.wikipedia.org/w/api.php\"\n",
    "WIKIDATA_API_URL = \"https://www.wikidata.org/w/api.php\"\n",
    "\n",
    "def get_wikidata_id(title):\n",
    "    \"\"\"Fetches the Wikidata ID of a Wikipedia article.\"\"\"\n",
    "    params = {\n",
    "        \"action\": \"query\",\n",
    "        \"titles\": title,\n",
    "        \"prop\": \"pageprops\",\n",
    "        \"format\": \"json\"\n",
    "    }\n",
    "    response = requests.get(WIKI_API_URL, params=params).json()\n",
    "    pages = response.get(\"query\", {}).get(\"pages\", {})\n",
    "    \n",
    "    for page in pages.values():\n",
    "        return page.get(\"pageprops\", {}).get(\"wikibase_item\")\n",
    "\n",
    "def get_members_from_wikidata(wikidata_id):\n",
    "    \"\"\"Fetches members of a band from Wikidata.\"\"\"\n",
    "    params = {\n",
    "        \"action\": \"wbgetentities\",\n",
    "        \"ids\": wikidata_id,\n",
    "        \"props\": \"claims\",\n",
    "        \"format\": \"json\"\n",
    "    }\n",
    "    response = requests.get(WIKIDATA_API_URL, params=params).json()\n",
    "    \n",
    "    claims = response.get(\"entities\", {}).get(wikidata_id, {}).get(\"claims\", {})\n",
    "    members = []\n",
    "\n",
    "    # P527 = has part / member\n",
    "    if \"P527\" in claims:\n",
    "        for part in claims[\"P527\"]:\n",
    "            try:\n",
    "                member_id = part[\"mainsnak\"][\"datavalue\"][\"value\"][\"id\"]\n",
    "                member_name = get_label_from_wikidata(member_id)\n",
    "                members.append(member_name)\n",
    "            except KeyError:\n",
    "                continue\n",
    "\n",
    "    return members\n",
    "\n",
    "def get_label_from_wikidata(entity_id):\n",
    "    \"\"\"Fetches the label (name) of a Wikidata entity.\"\"\"\n",
    "    params = {\n",
    "        \"action\": \"wbgetentities\",\n",
    "        \"ids\": entity_id,\n",
    "        \"props\": \"labels\",\n",
    "        \"languages\": \"da\",  # Danish labels\n",
    "        \"format\": \"json\"\n",
    "    }\n",
    "    response = requests.get(WIKIDATA_API_URL, params=params).json()\n",
    "    return response.get(\"entities\", {}).get(entity_id, {}).get(\"labels\", {}).get(\"da\", {}).get(\"value\", \"Unknown\")"
   ]
  },
  {
   "cell_type": "code",
   "execution_count": null,
   "id": "4c601ca5",
   "metadata": {},
   "outputs": [],
   "source": [
    "def members_to_df(group_name):\n",
    "    wikidata_id = get_wikidata_id(group_name)\n",
    "    members = get_members_from_wikidata(wikidata_id)\n",
    "    return members\n",
    "\n",
    "df_groups[\"member\"] = df_groups[\"title\"].apply(members_to_df)"
   ]
  },
  {
   "cell_type": "code",
   "execution_count": 23,
   "id": "94915dca",
   "metadata": {},
   "outputs": [],
   "source": [
    "\n",
    "def webscrape_members(band_title):\n",
    "\n",
    "    url = f\"https://da.wikipedia.org/wiki/{band_title.replace(' ', '_')}\"\n",
    "\n",
    "    # Fetch page\n",
    "    response = requests.get(url)\n",
    "    soup = BeautifulSoup(response.text, \"html.parser\")\n",
    "\n",
    "    # Find infobox\n",
    "    infobox = soup.find(\"table\", class_=\"infobox\")\n",
    "\n",
    "    # Prepare dict for members\n",
    "    members_data = [\"Medlemmer\", \"Tidligere medlemmer\"]\n",
    "    members = []\n",
    "\n",
    "    # Look through all rows in the infobox\n",
    "    try:\n",
    "        for row in infobox.find_all(\"tr\"):\n",
    "            header = row.find(\"th\")\n",
    "            if header:\n",
    "                label = header.text.strip()\n",
    "                if label in members_data:\n",
    "                    data_cell = row.find(\"td\")\n",
    "                    if data_cell:\n",
    "                        # Split lines or <br> tags into list items\n",
    "                        items = [item.strip() for item in data_cell.stripped_strings]\n",
    "                        members += items\n",
    "    except:\n",
    "        return []\n",
    "    return members"
   ]
  },
  {
   "cell_type": "code",
   "execution_count": 28,
   "id": "1cb54119",
   "metadata": {},
   "outputs": [],
   "source": [
    "empty_member_indices = df_groups[df_groups[\"member\"].apply(lambda x: x == [])].index\n",
    "\n",
    "df_groups.loc[empty_member_indices, \"member\"] = df_groups.loc[empty_member_indices, \"title\"].apply(webscrape_members)"
   ]
  },
  {
   "cell_type": "code",
   "execution_count": 31,
   "id": "99cfb169",
   "metadata": {},
   "outputs": [],
   "source": [
    "df_groups.to_csv(\"data/groups_wMembers_v2.csv\", index=False)"
   ]
  }
 ],
 "metadata": {
  "kernelspec": {
   "display_name": "02467CSS",
   "language": "python",
   "name": "python3"
  },
  "language_info": {
   "codemirror_mode": {
    "name": "ipython",
    "version": 3
   },
   "file_extension": ".py",
   "mimetype": "text/x-python",
   "name": "python",
   "nbconvert_exporter": "python",
   "pygments_lexer": "ipython3",
   "version": "3.11.8"
  }
 },
 "nbformat": 4,
 "nbformat_minor": 5
}
