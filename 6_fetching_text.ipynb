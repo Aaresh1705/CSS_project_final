{
 "cells": [
  {
   "cell_type": "code",
   "execution_count": 17,
   "id": "3112b0da",
   "metadata": {},
   "outputs": [],
   "source": [
    "import numpy as np\n",
    "import pandas as pd\n",
    "import requests\n",
    "from functions.loading_articles import get_article_content_by_id"
   ]
  },
  {
   "cell_type": "code",
   "execution_count": 18,
   "id": "51e52e85",
   "metadata": {},
   "outputs": [],
   "source": [
    "df_groups = pd.read_csv(\"data/groups_wMembers2.csv\")"
   ]
  },
  {
   "cell_type": "code",
   "execution_count": 19,
   "id": "dbc9740b",
   "metadata": {},
   "outputs": [],
   "source": [
    "df_groups[\"intro_text\"] = df_groups[\"pageid\"].apply(get_article_content_by_id)"
   ]
  },
  {
   "cell_type": "code",
   "execution_count": 20,
   "id": "e6633524",
   "metadata": {},
   "outputs": [
    {
     "data": {
      "text/plain": [
       "'<p><b>Are We Brothers?</b> består af Lasse, Birk, Ronko og Shaka – alle medlemmer af bandet Gypsies. Det betyder dog ikke, at AWB? er et sideprojekt, faktisk spillede de fire fyre sammen som band til en rockkoncert længe før, Gypsies blev til et hiphop-orkester.\\n</p><p>Are We Brothers? har spillet en lang række koncerter rundt om i Danmark bl.a. som opvarmning for engelske Foals og danske Mani Spinx, der har udnævnt gruppen til sit nye yndlingsband.\\nDet var også under et af deres jobs i det jyske, at Jens Unmack blev opmærksom på AWB? og begyndte at efterlyse en plade med bandets musik.\\n</p><p>Are We Brothers? fik deres pladekontrakt på grundlag af bare to demoer, hvoraf den ene var singlen ”Come Around”.\\nBandet er i stald hos Speed Of Sound, som er stiftet af Kristian Leth og Fridolin og Frederik Nordsø.\\n</p><p>Are We Brothers? har optrådt på SPOT Festival i Århus.\\n</p>'"
      ]
     },
     "execution_count": 20,
     "metadata": {},
     "output_type": "execute_result"
    }
   ],
   "source": [
    "df_groups[\"intro_text\"].iloc[10]"
   ]
  },
  {
   "cell_type": "code",
   "execution_count": 21,
   "id": "ca5f7edf",
   "metadata": {},
   "outputs": [],
   "source": [
    "df_groups.to_csv(\"data/groups_wMembers_Text.csv\", index=False)"
   ]
  }
 ],
 "metadata": {
  "kernelspec": {
   "display_name": "02467CSS",
   "language": "python",
   "name": "python3"
  },
  "language_info": {
   "codemirror_mode": {
    "name": "ipython",
    "version": 3
   },
   "file_extension": ".py",
   "mimetype": "text/x-python",
   "name": "python",
   "nbconvert_exporter": "python",
   "pygments_lexer": "ipython3",
   "version": "3.11.8"
  }
 },
 "nbformat": 4,
 "nbformat_minor": 5
}
