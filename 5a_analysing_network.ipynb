{
 "cells": [
  {
   "cell_type": "code",
   "execution_count": null,
   "id": "949cc965",
   "metadata": {},
   "outputs": [],
   "source": [
    "import numpy as np\n",
    "import matplotlib.pyplot as plt\n",
    "import pandas as pd\n",
    "import networkx as nx"
   ]
  },
  {
   "cell_type": "code",
   "execution_count": null,
   "id": "70e686df",
   "metadata": {},
   "outputs": [],
   "source": [
    "G = ???"
   ]
  },
  {
   "cell_type": "code",
   "execution_count": null,
   "id": "20a35805",
   "metadata": {},
   "outputs": [],
   "source": [
    "G_components = nx.connected_components(G)\n",
    "largest_component = max(G_components, key=len)\n",
    "G_giant = G.subgraph(largest_component)"
   ]
  },
  {
   "cell_type": "markdown",
   "id": "43033a2e",
   "metadata": {},
   "source": [
    "Calculate the probability (p) average degree (k) of the network \n",
    "\n",
    "ref[Section 3.2, equation (3.2) in Network Science, Albert-Laszlo Barabasi]"
   ]
  },
  {
   "cell_type": "code",
   "execution_count": null,
   "id": "9af3635f",
   "metadata": {},
   "outputs": [],
   "source": [
    "N = G.number_of_nodes()\n",
    "L_average = G.number_of_edges() #we only have one network???, so the average is simply number of edges\n",
    "\n",
    "p = L_average / ((N*(N-1))/2) \n",
    "\n",
    "p"
   ]
  }
 ],
 "metadata": {
  "language_info": {
   "name": "python"
  }
 },
 "nbformat": 4,
 "nbformat_minor": 5
}
